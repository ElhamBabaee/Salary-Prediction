{
 "cells": [
  {
   "cell_type": "code",
   "execution_count": 1,
   "metadata": {
    "collapsed": false
   },
   "outputs": [
    {
     "name": "stderr",
     "output_type": "stream",
     "text": [
      "/Users/saarthakkhanna/anaconda2/lib/python2.7/site-packages/matplotlib/font_manager.py:273: UserWarning: Matplotlib is building the font cache using fc-list. This may take a moment.\n",
      "  warnings.warn('Matplotlib is building the font cache using fc-list. This may take a moment.')\n"
     ]
    }
   ],
   "source": [
    "# import the libraries\n",
    "import pandas as pd\n",
    "import numpy as np\n",
    "import matplotlib.pyplot as plt\n",
    "import seaborn as sns"
   ]
  },
  {
   "cell_type": "code",
   "execution_count": 2,
   "metadata": {
    "collapsed": false
   },
   "outputs": [],
   "source": [
    "# read the data into pandas data frames\n",
    "df_feat = pd.read_csv('train_features_2013-03-07.csv',sep=',')\n",
    "df_target = pd.read_csv('train_salaries_2013-03-07.csv',sep=',')"
   ]
  },
  {
   "cell_type": "code",
   "execution_count": 3,
   "metadata": {
    "collapsed": false
   },
   "outputs": [
    {
     "data": {
      "text/html": [
       "<div>\n",
       "<table border=\"1\" class=\"dataframe\">\n",
       "  <thead>\n",
       "    <tr style=\"text-align: right;\">\n",
       "      <th></th>\n",
       "      <th>jobId</th>\n",
       "      <th>companyId</th>\n",
       "      <th>jobType</th>\n",
       "      <th>degree</th>\n",
       "      <th>major</th>\n",
       "      <th>industry</th>\n",
       "      <th>yearsExperience</th>\n",
       "      <th>milesFromMetropolis</th>\n",
       "    </tr>\n",
       "  </thead>\n",
       "  <tbody>\n",
       "    <tr>\n",
       "      <th>0</th>\n",
       "      <td>JOB1362684407687</td>\n",
       "      <td>COMP37</td>\n",
       "      <td>CFO</td>\n",
       "      <td>MASTERS</td>\n",
       "      <td>MATH</td>\n",
       "      <td>HEALTH</td>\n",
       "      <td>10</td>\n",
       "      <td>83</td>\n",
       "    </tr>\n",
       "    <tr>\n",
       "      <th>1</th>\n",
       "      <td>JOB1362684407688</td>\n",
       "      <td>COMP19</td>\n",
       "      <td>CEO</td>\n",
       "      <td>HIGH_SCHOOL</td>\n",
       "      <td>NONE</td>\n",
       "      <td>WEB</td>\n",
       "      <td>3</td>\n",
       "      <td>73</td>\n",
       "    </tr>\n",
       "    <tr>\n",
       "      <th>2</th>\n",
       "      <td>JOB1362684407689</td>\n",
       "      <td>COMP52</td>\n",
       "      <td>VICE_PRESIDENT</td>\n",
       "      <td>DOCTORAL</td>\n",
       "      <td>PHYSICS</td>\n",
       "      <td>HEALTH</td>\n",
       "      <td>10</td>\n",
       "      <td>38</td>\n",
       "    </tr>\n",
       "    <tr>\n",
       "      <th>3</th>\n",
       "      <td>JOB1362684407690</td>\n",
       "      <td>COMP38</td>\n",
       "      <td>MANAGER</td>\n",
       "      <td>DOCTORAL</td>\n",
       "      <td>CHEMISTRY</td>\n",
       "      <td>AUTO</td>\n",
       "      <td>8</td>\n",
       "      <td>17</td>\n",
       "    </tr>\n",
       "    <tr>\n",
       "      <th>4</th>\n",
       "      <td>JOB1362684407691</td>\n",
       "      <td>COMP7</td>\n",
       "      <td>VICE_PRESIDENT</td>\n",
       "      <td>BACHELORS</td>\n",
       "      <td>PHYSICS</td>\n",
       "      <td>FINANCE</td>\n",
       "      <td>8</td>\n",
       "      <td>16</td>\n",
       "    </tr>\n",
       "  </tbody>\n",
       "</table>\n",
       "</div>"
      ],
      "text/plain": [
       "              jobId companyId         jobType       degree      major  \\\n",
       "0  JOB1362684407687    COMP37             CFO      MASTERS       MATH   \n",
       "1  JOB1362684407688    COMP19             CEO  HIGH_SCHOOL       NONE   \n",
       "2  JOB1362684407689    COMP52  VICE_PRESIDENT     DOCTORAL    PHYSICS   \n",
       "3  JOB1362684407690    COMP38         MANAGER     DOCTORAL  CHEMISTRY   \n",
       "4  JOB1362684407691     COMP7  VICE_PRESIDENT    BACHELORS    PHYSICS   \n",
       "\n",
       "  industry  yearsExperience  milesFromMetropolis  \n",
       "0   HEALTH               10                   83  \n",
       "1      WEB                3                   73  \n",
       "2   HEALTH               10                   38  \n",
       "3     AUTO                8                   17  \n",
       "4  FINANCE                8                   16  "
      ]
     },
     "execution_count": 3,
     "metadata": {},
     "output_type": "execute_result"
    }
   ],
   "source": [
    "df_feat.head()"
   ]
  },
  {
   "cell_type": "code",
   "execution_count": 4,
   "metadata": {
    "collapsed": false
   },
   "outputs": [
    {
     "data": {
      "text/html": [
       "<div>\n",
       "<table border=\"1\" class=\"dataframe\">\n",
       "  <thead>\n",
       "    <tr style=\"text-align: right;\">\n",
       "      <th></th>\n",
       "      <th>jobId</th>\n",
       "      <th>salary</th>\n",
       "    </tr>\n",
       "  </thead>\n",
       "  <tbody>\n",
       "    <tr>\n",
       "      <th>0</th>\n",
       "      <td>JOB1362684407687</td>\n",
       "      <td>130</td>\n",
       "    </tr>\n",
       "    <tr>\n",
       "      <th>1</th>\n",
       "      <td>JOB1362684407688</td>\n",
       "      <td>101</td>\n",
       "    </tr>\n",
       "    <tr>\n",
       "      <th>2</th>\n",
       "      <td>JOB1362684407689</td>\n",
       "      <td>137</td>\n",
       "    </tr>\n",
       "    <tr>\n",
       "      <th>3</th>\n",
       "      <td>JOB1362684407690</td>\n",
       "      <td>142</td>\n",
       "    </tr>\n",
       "    <tr>\n",
       "      <th>4</th>\n",
       "      <td>JOB1362684407691</td>\n",
       "      <td>163</td>\n",
       "    </tr>\n",
       "  </tbody>\n",
       "</table>\n",
       "</div>"
      ],
      "text/plain": [
       "              jobId  salary\n",
       "0  JOB1362684407687     130\n",
       "1  JOB1362684407688     101\n",
       "2  JOB1362684407689     137\n",
       "3  JOB1362684407690     142\n",
       "4  JOB1362684407691     163"
      ]
     },
     "execution_count": 4,
     "metadata": {},
     "output_type": "execute_result"
    }
   ],
   "source": [
    "df_target.head()"
   ]
  },
  {
   "cell_type": "code",
   "execution_count": 5,
   "metadata": {
    "collapsed": false
   },
   "outputs": [
    {
     "name": "stdout",
     "output_type": "stream",
     "text": [
      "(1000000, 8)\n",
      "(1000000, 2)\n"
     ]
    }
   ],
   "source": [
    "print df_feat.shape\n",
    "print df_target.shape"
   ]
  },
  {
   "cell_type": "code",
   "execution_count": 7,
   "metadata": {
    "collapsed": false
   },
   "outputs": [],
   "source": [
    "# Join the features and the target data frames\n",
    "df = df_feat.join(df_target,lsuffix='_feat',rsuffix='_target')"
   ]
  },
  {
   "cell_type": "code",
   "execution_count": 8,
   "metadata": {
    "collapsed": false
   },
   "outputs": [
    {
     "data": {
      "text/plain": [
       "(1000000, 10)"
      ]
     },
     "execution_count": 8,
     "metadata": {},
     "output_type": "execute_result"
    }
   ],
   "source": [
    "df.shape"
   ]
  },
  {
   "cell_type": "code",
   "execution_count": 9,
   "metadata": {
    "collapsed": false
   },
   "outputs": [
    {
     "data": {
      "text/html": [
       "<div>\n",
       "<table border=\"1\" class=\"dataframe\">\n",
       "  <thead>\n",
       "    <tr style=\"text-align: right;\">\n",
       "      <th></th>\n",
       "      <th>yearsExperience</th>\n",
       "      <th>milesFromMetropolis</th>\n",
       "      <th>salary</th>\n",
       "    </tr>\n",
       "  </thead>\n",
       "  <tbody>\n",
       "    <tr>\n",
       "      <th>count</th>\n",
       "      <td>1000000.000000</td>\n",
       "      <td>1000000.000000</td>\n",
       "      <td>1000000.000000</td>\n",
       "    </tr>\n",
       "    <tr>\n",
       "      <th>mean</th>\n",
       "      <td>11.992386</td>\n",
       "      <td>49.529260</td>\n",
       "      <td>116.061818</td>\n",
       "    </tr>\n",
       "    <tr>\n",
       "      <th>std</th>\n",
       "      <td>7.212391</td>\n",
       "      <td>28.877733</td>\n",
       "      <td>38.717936</td>\n",
       "    </tr>\n",
       "    <tr>\n",
       "      <th>min</th>\n",
       "      <td>0.000000</td>\n",
       "      <td>0.000000</td>\n",
       "      <td>0.000000</td>\n",
       "    </tr>\n",
       "    <tr>\n",
       "      <th>25%</th>\n",
       "      <td>6.000000</td>\n",
       "      <td>25.000000</td>\n",
       "      <td>88.000000</td>\n",
       "    </tr>\n",
       "    <tr>\n",
       "      <th>50%</th>\n",
       "      <td>12.000000</td>\n",
       "      <td>50.000000</td>\n",
       "      <td>114.000000</td>\n",
       "    </tr>\n",
       "    <tr>\n",
       "      <th>75%</th>\n",
       "      <td>18.000000</td>\n",
       "      <td>75.000000</td>\n",
       "      <td>141.000000</td>\n",
       "    </tr>\n",
       "    <tr>\n",
       "      <th>max</th>\n",
       "      <td>24.000000</td>\n",
       "      <td>99.000000</td>\n",
       "      <td>301.000000</td>\n",
       "    </tr>\n",
       "  </tbody>\n",
       "</table>\n",
       "</div>"
      ],
      "text/plain": [
       "       yearsExperience  milesFromMetropolis          salary\n",
       "count   1000000.000000       1000000.000000  1000000.000000\n",
       "mean         11.992386            49.529260      116.061818\n",
       "std           7.212391            28.877733       38.717936\n",
       "min           0.000000             0.000000        0.000000\n",
       "25%           6.000000            25.000000       88.000000\n",
       "50%          12.000000            50.000000      114.000000\n",
       "75%          18.000000            75.000000      141.000000\n",
       "max          24.000000            99.000000      301.000000"
      ]
     },
     "execution_count": 9,
     "metadata": {},
     "output_type": "execute_result"
    }
   ],
   "source": [
    "df.describe()"
   ]
  },
  {
   "cell_type": "code",
   "execution_count": 32,
   "metadata": {
    "collapsed": true
   },
   "outputs": [],
   "source": [
    "# Plotting the histogram for 'salary'\n",
    "fig = plt.figure(figsize=(12,12))\n",
    "ax = sns.distplot(df['salary'])\n",
    "plt.savefig('salary_hist.png')"
   ]
  },
  {
   "cell_type": "code",
   "execution_count": 10,
   "metadata": {
    "collapsed": true
   },
   "outputs": [],
   "source": [
    "# Drop redundant column\n",
    "df.drop(['jobId_target'],axis=1,inplace=True)\n",
    "# Rename the column\n",
    "df.columns = [u'jobId', u'companyId', u'jobType', u'degree', u'major',\n",
    "       u'industry', u'yearsExperience', u'milesFromMetropolis', u'salary']"
   ]
  },
  {
   "cell_type": "code",
   "execution_count": 71,
   "metadata": {
    "collapsed": false
   },
   "outputs": [],
   "source": [
    "# Plotting the histogram for 'yearsExperience'\n",
    "fig = plt.figure(figsize=(12,12))\n",
    "ax = sns.distplot(df['yearsExperience'])\n",
    "plt.savefig('yearsExperience_hist.png')\n",
    "\n",
    "# Plotting the histogram for 'milesFromMetropolis'\n",
    "fig = plt.figure(figsize=(12,12))\n",
    "ax = sns.distplot(df['milesFromMetropolis'])\n",
    "plt.savefig('milesFromMetropolis_hist.png')"
   ]
  },
  {
   "cell_type": "code",
   "execution_count": 11,
   "metadata": {
    "collapsed": false
   },
   "outputs": [
    {
     "name": "stdout",
     "output_type": "stream",
     "text": [
      "['COMP37' 'COMP19' 'COMP52' 'COMP38' 'COMP7' 'COMP15' 'COMP24' 'COMP20'\n",
      " 'COMP41' 'COMP56' 'COMP4' 'COMP54' 'COMP57' 'COMP14' 'COMP61' 'COMP58'\n",
      " 'COMP3' 'COMP44' 'COMP30' 'COMP27' 'COMP34' 'COMP11' 'COMP31' 'COMP49'\n",
      " 'COMP0' 'COMP1' 'COMP36' 'COMP47' 'COMP8' 'COMP42' 'COMP50' 'COMP53'\n",
      " 'COMP48' 'COMP45' 'COMP46' 'COMP2' 'COMP5' 'COMP55' 'COMP29' 'COMP40'\n",
      " 'COMP33' 'COMP22' 'COMP12' 'COMP25' 'COMP6' 'COMP23' 'COMP17' 'COMP28'\n",
      " 'COMP21' 'COMP26' 'COMP43' 'COMP51' 'COMP10' 'COMP59' 'COMP13' 'COMP39'\n",
      " 'COMP16' 'COMP9' 'COMP32' 'COMP62' 'COMP35' 'COMP18' 'COMP60']\n",
      "Number of unique company IDs: 63\n"
     ]
    }
   ],
   "source": [
    "# Get the number of unique companies in the dataset.\n",
    "print pd.unique(df['companyId'])\n",
    "print (\"Number of unique company IDs: {0}\".format(len(pd.unique(df['companyId']))))"
   ]
  },
  {
   "cell_type": "code",
   "execution_count": 11,
   "metadata": {
    "collapsed": true
   },
   "outputs": [],
   "source": [
    "# histogram plot for companyId\n",
    "fig = plt.figure(figsize=(12,12))\n",
    "ax = sns.boxplot(x='salary',y='companyId',data=df,orient='h')\n",
    "plt.savefig('companyId_distplot.png')"
   ]
  },
  {
   "cell_type": "code",
   "execution_count": 12,
   "metadata": {
    "collapsed": false
   },
   "outputs": [
    {
     "name": "stdout",
     "output_type": "stream",
     "text": [
      "SENIOR            125886\n",
      "VICE_PRESIDENT    125235\n",
      "MANAGER           125121\n",
      "CTO               125046\n",
      "JANITOR           124971\n",
      "CEO               124778\n",
      "JUNIOR            124594\n",
      "CFO               124369\n",
      "Name: jobType, dtype: int64\n",
      "HIGH_SCHOOL    236976\n",
      "NONE           236854\n",
      "BACHELORS      175495\n",
      "DOCTORAL       175364\n",
      "MASTERS        175311\n",
      "Name: degree, dtype: int64\n",
      "NONE           532355\n",
      "CHEMISTRY       58875\n",
      "LITERATURE      58684\n",
      "ENGINEERING     58596\n",
      "BUSINESS        58518\n",
      "PHYSICS         58410\n",
      "COMPSCI         58382\n",
      "BIOLOGY         58379\n",
      "MATH            57801\n",
      "Name: major, dtype: int64\n",
      "WEB          143206\n",
      "AUTO         142943\n",
      "FINANCE      142867\n",
      "EDUCATION    142819\n",
      "OIL          142771\n",
      "HEALTH       142755\n",
      "SERVICE      142639\n",
      "Name: industry, dtype: int64\n"
     ]
    }
   ],
   "source": [
    "# Counting the frequency that a value occurs in the df column\n",
    "# We can see that the values in columns 'jobType'and 'industry' are evenly distributed. \n",
    "# There are 47.383% job postings which require NO or a just a high school degree.\n",
    "# There are 53.2355% job postings which don't require any major.\n",
    "print df['jobType'].value_counts()\n",
    "print df['degree'].value_counts()\n",
    "print df['major'].value_counts()\n",
    "print df['industry'].value_counts()"
   ]
  },
  {
   "cell_type": "code",
   "execution_count": 13,
   "metadata": {
    "collapsed": false
   },
   "outputs": [
    {
     "name": "stdout",
     "output_type": "stream",
     "text": [
      "47.383\n",
      "53.2355\n"
     ]
    }
   ],
   "source": [
    "# Calculate the percentage job posting based on the value of columns\n",
    "print df[(df['degree'] == 'NONE') | (df['degree'] == 'HIGH_SCHOOL')].shape[0] * 100 /float(df['degree'].shape[0])\n",
    "print df[(df['major'] == 'NONE')].shape[0] * 100 / float(df['major'].shape[0])"
   ]
  },
  {
   "cell_type": "code",
   "execution_count": 135,
   "metadata": {
    "collapsed": false
   },
   "outputs": [],
   "source": [
    "# regression plot for milesFromMetropolis\n",
    "fig = plt.figure(figsize=(12,12))\n",
    "ax = sns.regplot(x='salary',y='milesFromMetropolis',data=df,scatter_kws={\"s\": 5})\n",
    "plt.savefig('mfm_salary_regplot.png')"
   ]
  },
  {
   "cell_type": "code",
   "execution_count": 88,
   "metadata": {
    "collapsed": true
   },
   "outputs": [],
   "source": [
    "# regression plot for yearsExperience and salary\n",
    "fig = plt.figure(figsize=(12,12))\n",
    "ax = sns.regplot(x='salary',y='yearsExperience',data=df)\n",
    "plt.savefig('ye_salary_regplot.png')"
   ]
  },
  {
   "cell_type": "code",
   "execution_count": 25,
   "metadata": {
    "collapsed": true
   },
   "outputs": [],
   "source": [
    "# regression plot for yearsExperience and milesFromMetropolis\n",
    "fig = plt.figure(figsize=(12,12))\n",
    "ax = sns.regplot(x='milesFromMetropolis',y='yearsExperience',data=df)\n",
    "plt.savefig('ye_mfm_regplot.png')"
   ]
  },
  {
   "cell_type": "code",
   "execution_count": 12,
   "metadata": {
    "collapsed": false
   },
   "outputs": [
    {
     "data": {
      "text/plain": [
       "array([10,  3,  8,  2, 23,  9,  1, 17, 24,  7, 21, 13, 11, 14, 18, 20, 12,\n",
       "       15, 22,  0, 19,  5,  4, 16,  6])"
      ]
     },
     "execution_count": 12,
     "metadata": {},
     "output_type": "execute_result"
    }
   ],
   "source": [
    "pd.unique(df['yearsExperience'])"
   ]
  },
  {
   "cell_type": "code",
   "execution_count": 13,
   "metadata": {
    "collapsed": false
   },
   "outputs": [
    {
     "data": {
      "text/plain": [
       "count    1000000.000000\n",
       "mean          11.992386\n",
       "std            7.212391\n",
       "min            0.000000\n",
       "25%            6.000000\n",
       "50%           12.000000\n",
       "75%           18.000000\n",
       "max           24.000000\n",
       "Name: yearsExperience, dtype: float64"
      ]
     },
     "execution_count": 13,
     "metadata": {},
     "output_type": "execute_result"
    }
   ],
   "source": [
    "df['yearsExperience'].describe()"
   ]
  },
  {
   "cell_type": "code",
   "execution_count": 14,
   "metadata": {
    "collapsed": false
   },
   "outputs": [],
   "source": [
    "# Creating a Category variable out of yearsExperience variable\n",
    "def f(row):\n",
    "    if row['yearsExperience'] < 3:\n",
    "        return 0\n",
    "    elif row['yearsExperience'] > 3 and row['yearsExperience'] < 10:\n",
    "        return 1\n",
    "    elif row['yearsExperience'] >10 and row['yearsExperience'] < 15:\n",
    "        return 2\n",
    "    else:\n",
    "        return 3\n",
    "    \n",
    "df['yearsExperienceCategory'] = df.apply(f,axis=1)"
   ]
  },
  {
   "cell_type": "code",
   "execution_count": 15,
   "metadata": {
    "collapsed": false
   },
   "outputs": [],
   "source": [
    "df['yearsExperienceCategory'] = df['yearsExperienceCategory'].astype(object)"
   ]
  },
  {
   "cell_type": "code",
   "execution_count": 134,
   "metadata": {
    "collapsed": false
   },
   "outputs": [],
   "source": [
    "# Doing regression plot with sub-categories to see how much difference does a degree make to your salary.\n",
    "fig = plt.figure(figsize=(20,20))\n",
    "# ax = sns.lmplot(x='salary',y='yearsExperience',data=df,hue='degree',\\\n",
    "#                 scatter_kws={'s':10.0},legend=False,fit_reg=False,\\\n",
    "#                 palette=dict(MASTERS=\"black\", HIGH_SCHOOL=\"yellow\", DOCTORAL=\"red\",\\\n",
    "#                             BACHELORS=\"gray\",NONE=\"green\"))\n",
    "ax = sns.lmplot(x='salary',y='yearsExperience',data=df,hue='degree',\\\n",
    "                scatter_kws={'s':5.0},legend=False,fit_reg=False,)\n",
    "plt.legend(loc=2,prop={'size':6})\n",
    "plt.savefig('ye_salary_degree_lmplot.png')"
   ]
  },
  {
   "cell_type": "code",
   "execution_count": 19,
   "metadata": {
    "collapsed": false
   },
   "outputs": [],
   "source": [
    "# Doing regression plot with sub-categories to see how much difference does industry make to your salary.\n",
    "fig = plt.figure(figsize=(20,20))\n",
    "ax = sns.lmplot(x='salary',y='yearsExperience',data=df,hue='industry',\\\n",
    "                scatter_kws={'s':5.0},legend=False,fit_reg=False,\\\n",
    "               palette=dict(HEALTH=\"black\", WEB=\"yellow\", AUTO=\"red\",\\\n",
    "                            FINANCE=\"blue\",EDUCATION=\"green\",OIL=\"purple\",SERVICE=\"orange\"))\n",
    "plt.legend(loc=2,prop={'size':6})\n",
    "plt.savefig('ye_salary_industry_lmplot.png')"
   ]
  },
  {
   "cell_type": "code",
   "execution_count": 24,
   "metadata": {
    "collapsed": true
   },
   "outputs": [],
   "source": [
    "# SENIOR            125886\n",
    "# VICE_PRESIDENT    125235\n",
    "# MANAGER           125121\n",
    "# CTO               125046\n",
    "# JANITOR           124971\n",
    "# CEO               124778\n",
    "# JUNIOR            124594\n",
    "# CFO               124369\n",
    "# Doing regression plot with sub-categories to see how much difference does jobType make to your salary.\n",
    "fig = plt.figure(figsize=(20,20))\n",
    "ax = sns.lmplot(x='salary',y='yearsExperience',data=df,hue='jobType',\\\n",
    "                scatter_kws={'s':5.0},legend=False,fit_reg=False,\\\n",
    "               palette=dict(SENIOR=\"white\", VICE_PRESIDENT=\"yellow\", MANAGER=\"red\",\\\n",
    "                            CTO=\"green\",JANITOR=\"blue\",CEO=\"purple\",JUNIOR=\"orange\",\\\n",
    "                           CFO='pink'))\n",
    "plt.legend(loc=2,prop={'size':6})\n",
    "plt.savefig('ye_salary_jobType_lmplot.png')"
   ]
  },
  {
   "cell_type": "code",
   "execution_count": 23,
   "metadata": {
    "collapsed": false
   },
   "outputs": [],
   "source": [
    "# NONE           532355\n",
    "# CHEMISTRY       58875\n",
    "# LITERATURE      58684\n",
    "# ENGINEERING     58596\n",
    "# BUSINESS        58518\n",
    "# PHYSICS         58410\n",
    "# COMPSCI         58382\n",
    "# BIOLOGY         58379\n",
    "# MATH            57801\n",
    "# Doing regression plot with sub-categories to see how much difference does major make to your salary.\n",
    "fig = plt.figure(figsize=(20,20))\n",
    "ax = sns.lmplot(x='salary',y='yearsExperience',data=df,hue='major',\\\n",
    "                scatter_kws={'s':5.0},legend=False,fit_reg=False,\\\n",
    "               palette=dict(NONE=\"pink\", CHEMISTRY=\"yellow\", LITERATURE=\"red\",\\\n",
    "                            ENGINEERING=\"blue\",BUSINESS=\"green\",PHYSICS=\"purple\",COMPSCI=\"orange\",\\\n",
    "                           BIOLOGY='gold',MATH='brown'))\n",
    "plt.legend(loc=2,prop={'size':6})\n",
    "plt.savefig('ye_salary_major_lmplot.png')"
   ]
  },
  {
   "cell_type": "code",
   "execution_count": 137,
   "metadata": {
    "collapsed": false
   },
   "outputs": [],
   "source": [
    "# Boxplot for salary based on the jobType\n",
    "# The results are like expected. The higher is the position, more is the salary.\n",
    "fig = plt.figure(figsize=(12,12))\n",
    "ax = sns.boxplot(x='salary',y='jobType',data=df,orient='h')\n",
    "plt.savefig('jobtype_salary_boxplot.png')\n",
    "\n",
    "# Boxplot for salary based on the major required for the job.\n",
    "# The salaries for the positions requiring engineering major is the highest.\n",
    "fig = plt.figure(figsize=(12,12))\n",
    "ax = sns.boxplot(x='salary',y='major',data=df,orient='h')\n",
    "plt.savefig('major_salary_boxplot.png')\n",
    "\n",
    "# Boxplot of salary based on degrees.\n",
    "# We can see that degree makes a huge difference. In case of Degree = NONE or HIGH_SCHOOL, only the outliers\n",
    "# cross the 200K range. \n",
    "# There is not much difference between BACHELORS and MASTERS however, salaries for DOCTORAL are slightly higher.\n",
    "fig = plt.figure(figsize=(12,12))\n",
    "ax = sns.boxplot(x='salary',y='degree',data=df,orient='h')\n",
    "plt.savefig('degree_salary_boxplot.png')\n",
    "\n",
    "# Boxplot of the salary based on the industry which the job requires.\n",
    "# The range of salaries in the OIL and FINANCE industry is higher than the rest.\n",
    "# In education/academia its the least.\n",
    "fig = plt.figure(figsize=(12,12))\n",
    "ax = sns.boxplot(x='salary',y='industry',data=df,orient='h')\n",
    "plt.savefig('industry_salary_boxplot.png')\n",
    "\n",
    "# Boxplot for salary and yearsExperienceCategory\n",
    "fig = plt.figure(figsize=(12,12))\n",
    "ax = sns.boxplot(x='salary',y='yearsExperienceCategory',data=df,orient='h')\n",
    "ax.set_yticklabels(['0-3 yrs','4-9 yrs','10-15 yrs','Above 15 yrs'])\n",
    "plt.savefig('yec_salary_boxplot.png')"
   ]
  },
  {
   "cell_type": "code",
   "execution_count": 16,
   "metadata": {
    "collapsed": false
   },
   "outputs": [
    {
     "data": {
      "text/html": [
       "<div>\n",
       "<table border=\"1\" class=\"dataframe\">\n",
       "  <thead>\n",
       "    <tr style=\"text-align: right;\">\n",
       "      <th></th>\n",
       "      <th>yearsExperience</th>\n",
       "      <th>milesFromMetropolis</th>\n",
       "      <th>salary</th>\n",
       "    </tr>\n",
       "  </thead>\n",
       "  <tbody>\n",
       "    <tr>\n",
       "      <th>yearsExperience</th>\n",
       "      <td>1.000000</td>\n",
       "      <td>0.000673</td>\n",
       "      <td>0.375013</td>\n",
       "    </tr>\n",
       "    <tr>\n",
       "      <th>milesFromMetropolis</th>\n",
       "      <td>0.000673</td>\n",
       "      <td>1.000000</td>\n",
       "      <td>-0.297666</td>\n",
       "    </tr>\n",
       "    <tr>\n",
       "      <th>salary</th>\n",
       "      <td>0.375013</td>\n",
       "      <td>-0.297666</td>\n",
       "      <td>1.000000</td>\n",
       "    </tr>\n",
       "  </tbody>\n",
       "</table>\n",
       "</div>"
      ],
      "text/plain": [
       "                     yearsExperience  milesFromMetropolis    salary\n",
       "yearsExperience             1.000000             0.000673  0.375013\n",
       "milesFromMetropolis         0.000673             1.000000 -0.297666\n",
       "salary                      0.375013            -0.297666  1.000000"
      ]
     },
     "execution_count": 16,
     "metadata": {},
     "output_type": "execute_result"
    }
   ],
   "source": [
    "# Calculating pearson correlation between yearsExperience, milesFromMetropolis and salary.\n",
    "# There is not mild positive linear realtionship between yearsExperience and salary & years\n",
    "# mild negative linear relationship between milesFromMetropolis and salary.\n",
    "corr = df.corr(method='pearson')\n",
    "corr"
   ]
  },
  {
   "cell_type": "code",
   "execution_count": 140,
   "metadata": {
    "collapsed": true
   },
   "outputs": [],
   "source": [
    "# Boxplot for 'salary'.\n",
    "# The median value is almost equal the mean value. There seem to be a lot of outliers at the top of the distribution.\n",
    "# If we ignore the outliers, the range of salaries (between the opposite ends of the whiskers) is about 200K.\n",
    "fig = plt.figure(figsize=(12,12))\n",
    "ax = sns.boxplot(x='salary',data=df,orient='h',showmeans=True)\n",
    "plt.savefig('salary_boxplot.png')"
   ]
  },
  {
   "cell_type": "code",
   "execution_count": 17,
   "metadata": {
    "collapsed": false
   },
   "outputs": [
    {
     "data": {
      "text/plain": [
       "Index([                  u'jobId',               u'companyId',\n",
       "                       u'jobType',                  u'degree',\n",
       "                         u'major',                u'industry',\n",
       "               u'yearsExperience',     u'milesFromMetropolis',\n",
       "                        u'salary', u'yearsExperienceCategory'],\n",
       "      dtype='object')"
      ]
     },
     "execution_count": 17,
     "metadata": {},
     "output_type": "execute_result"
    }
   ],
   "source": [
    "df.columns"
   ]
  },
  {
   "cell_type": "code",
   "execution_count": 17,
   "metadata": {
    "collapsed": false
   },
   "outputs": [],
   "source": [
    "# Change the data type of columns\n",
    "df['jobType'] = df['jobType'].astype('category')\n",
    "df['major'] = df['major'].astype('category')\n",
    "df['degree'] = df['degree'].astype('category')\n",
    "df['industry'] = df['industry'].astype('category')\n",
    "df['yearsExperienceCategory'] = df['yearsExperienceCategory'].astype('category')\n",
    "df['companyId'] = df['companyId'].astype('category')"
   ]
  },
  {
   "cell_type": "code",
   "execution_count": 18,
   "metadata": {
    "collapsed": false
   },
   "outputs": [
    {
     "data": {
      "text/plain": [
       "jobId                        object\n",
       "companyId                    object\n",
       "jobType                    category\n",
       "degree                     category\n",
       "major                      category\n",
       "industry                   category\n",
       "yearsExperience               int64\n",
       "milesFromMetropolis           int64\n",
       "salary                        int64\n",
       "yearsExperienceCategory    category\n",
       "dtype: object"
      ]
     },
     "execution_count": 18,
     "metadata": {},
     "output_type": "execute_result"
    }
   ],
   "source": [
    "df.dtypes"
   ]
  },
  {
   "cell_type": "code",
   "execution_count": 30,
   "metadata": {
    "collapsed": false
   },
   "outputs": [],
   "source": [
    "# Convert the categorical varibles into numerical codes\n",
    "df['degreeCoded'] = df['degree'].cat.codes\n",
    "df['majorCoded'] = df['major'].cat.codes\n",
    "df['industryCoded'] = df['industry'].cat.codes\n",
    "df['jobTypeCoded'] = df['jobType'].cat.codes\n",
    "df['companyIdCoded'] = df['companyId'].cat.codes"
   ]
  },
  {
   "cell_type": "code",
   "execution_count": 23,
   "metadata": {
    "collapsed": false
   },
   "outputs": [],
   "source": [
    "# Clustered bar plots for ('major' and'degree')\n",
    "fig = plt.figure(figsize=(12,12))\n",
    "ax = sns.countplot(x='degree',data=df,hue='major')\n",
    "plt.savefig('degree_major_countplot.png')\n",
    "\n",
    "# Clustered bar plots for ('industry' and'degree')\n",
    "fig = plt.figure(figsize=(12,12))\n",
    "ax = sns.countplot(x='degree',data=df,hue='industry')\n",
    "plt.savefig('degree_industry_countplot.png')\n",
    "\n",
    "# Clustered bar plots for ('jobType' and'degree')\n",
    "fig = plt.figure(figsize=(12,12))\n",
    "ax = sns.countplot(x='degree',data=df,hue='jobType')\n",
    "plt.savefig('degree_jobType_countplot.png')\n",
    "\n",
    "# Clustered bar plots for ('jobType' and'major')\n",
    "fig = plt.figure(figsize=(12,12))\n",
    "ax = sns.countplot(x='major',data=df,hue='jobType')\n",
    "plt.savefig('major_jobType_countplot.png')\n",
    "\n",
    "# Clustered bar plots for ('major' and'industry')\n",
    "fig = plt.figure(figsize=(12,12))\n",
    "ax = sns.countplot(x='major',data=df,hue='industry')\n",
    "plt.savefig('major_industry_countplot.png')\n",
    "\n",
    "# Clustered bar plots for ('jobType' and'industry')\n",
    "fig = plt.figure(figsize=(12,12))\n",
    "ax = sns.countplot(x='jobType',data=df,hue='industry')\n",
    "plt.savefig('jobType_industry_countplot.png')\n"
   ]
  },
  {
   "cell_type": "code",
   "execution_count": 27,
   "metadata": {
    "collapsed": false
   },
   "outputs": [
    {
     "name": "stderr",
     "output_type": "stream",
     "text": [
      "/Users/saarthakkhanna/anaconda2/lib/python2.7/site-packages/matplotlib/pyplot.py:516: RuntimeWarning: More than 20 figures have been opened. Figures created through the pyplot interface (`matplotlib.pyplot.figure`) are retained until explicitly closed and may consume too much memory. (To control this warning, see the rcParam `figure.max_open_warning`).\n",
      "  max_open_warning, RuntimeWarning)\n"
     ]
    }
   ],
   "source": [
    "# Clustered bar plots for ('companyId' and'industry')\n",
    "fig = plt.figure(figsize=(60,12))\n",
    "ax = sns.countplot(x='companyId',data=df,hue='industry')\n",
    "plt.savefig('companyId_industry_countplot.png')\n",
    "\n",
    "# Clustered bar plots for ('companyId' and'jobType')\n",
    "fig = plt.figure(figsize=(60,12))\n",
    "ax = sns.countplot(x='companyId',data=df,hue='jobType')\n",
    "plt.savefig('companyId_jobType_countplot.png')\n",
    "\n",
    "# Clustered bar plots for ('companyId' and'major')\n",
    "fig = plt.figure(figsize=(60,12))\n",
    "ax = sns.countplot(x='companyId',data=df,hue='major')\n",
    "plt.savefig('companyId_major_countplot.png')\n",
    "\n",
    "# Clustered bar plots for ('companyId' and'degree')\n",
    "fig = plt.figure(figsize=(60,12))\n",
    "ax = sns.countplot(x='companyId',data=df,hue='degree')\n",
    "plt.savefig('companyId_degree_countplot.png')\n"
   ]
  },
  {
   "cell_type": "code",
   "execution_count": 32,
   "metadata": {
    "collapsed": true
   },
   "outputs": [],
   "source": [
    "# Performing the chi squared test for independence for the categorical columns in df.\n",
    "# Check their p values for determining if the columns are independent or not.\n",
    "from scipy import stats as scs\n",
    "\n",
    "def categories(series):\n",
    "    return range(int(series.min()), int(series.max()) + 1)\n",
    "\n",
    "def chi_square_of_df_cols(df, col1, col2):\n",
    "    df_col1, df_col2 = df[col1], df[col2]\n",
    "\n",
    "    result = [[sum((df_col1 == cat1) & (df_col2 == cat2))\n",
    "               for cat2 in categories(df_col2)]\n",
    "              for cat1 in categories(df_col1)]\n",
    "\n",
    "    return scs.chi2_contingency(result)"
   ]
  },
  {
   "cell_type": "code",
   "execution_count": 43,
   "metadata": {
    "collapsed": false
   },
   "outputs": [
    {
     "name": "stdout",
     "output_type": "stream",
     "text": [
      "(791087.53637181141, 0.0, 32, array([[  10245.222605,   10269.61641 ,   10332.268125,   10245.74909 ,\n",
      "          10283.30502 ,   10298.74858 ,   10143.786495,   93425.640725,\n",
      "          10250.66295 ],\n",
      "       [  10237.574956,   10261.950552,   10324.5555  ,   10238.101048,\n",
      "          10275.628944,   10291.060976,   10136.214564,   93355.90222 ,\n",
      "          10243.01124 ],\n",
      "       [  13834.421904,   13867.361568,   13951.962   ,   13835.132832,\n",
      "          13885.845696,   13906.699584,   13697.449776,  126155.35848 ,\n",
      "          13841.76816 ],\n",
      "       [  10234.480869,   10258.849098,   10321.435125,   10235.006802,\n",
      "          10272.523356,   10287.950724,   10133.151111,   93327.687405,\n",
      "          10239.91551 ],\n",
      "       [  13827.299666,   13860.222372,   13944.77925 ,   13828.010228,\n",
      "          13878.696984,   13899.540136,   13690.398054,  126090.41117 ,\n",
      "          13834.64214 ]]))\n"
     ]
    }
   ],
   "source": [
    "# The values returned by the function are (chi square value, p-value, degree of freedom and the contigency table)\n",
    "# The p value is 0.0 < 0.05 which means that degree and major are not independent.\n",
    "print chi_square_of_df_cols(df, 'degreeCoded', 'majorCoded')"
   ]
  },
  {
   "cell_type": "code",
   "execution_count": 44,
   "metadata": {
    "collapsed": false
   },
   "outputs": [
    {
     "name": "stdout",
     "output_type": "stream",
     "text": [
      "(24.270671904949687, 0.44620975414402414, 24, array([[ 25085.781785,  25064.020405,  25072.444165,  25052.788725,\n",
      "         25055.596645,  25032.431305,  25131.93697 ],\n",
      "       [ 25067.056252,  25045.311116,  25053.728588,  25034.08782 ,\n",
      "         25036.893644,  25013.745596,  25113.176984],\n",
      "       [ 33874.060368,  33844.675344,  33856.050192,  33829.50888 ,\n",
      "         33833.300496,  33802.019664,  33936.385056],\n",
      "       [ 25059.480273,  25037.741709,  25046.156637,  25026.521805,\n",
      "         25029.326781,  25006.185729,  25105.587066],\n",
      "       [ 33856.621322,  33827.251426,  33838.620418,  33812.09277 ,\n",
      "         33815.882434,  33784.617706,  33918.913924]]))\n"
     ]
    }
   ],
   "source": [
    "# The values returned by the function are (chi square value, p-value, degree of freedom and the contigency table)\n",
    "# The p value is 0.44 > 0.05 which means that degree and industry are independent.\n",
    "print chi_square_of_df_cols(df, 'degreeCoded', 'industryCoded')"
   ]
  },
  {
   "cell_type": "code",
   "execution_count": 45,
   "metadata": {
    "collapsed": false
   },
   "outputs": [
    {
     "name": "stdout",
     "output_type": "stream",
     "text": [
      "(158620.81447095107, 0.0, 28, array([[ 21897.91511 ,  21826.137655,  21944.94777 ,  21931.785645,\n",
      "         21865.62403 ,  21958.109895,  22092.36357 ,  21978.116325],\n",
      "       [ 21881.569192,  21809.845316,  21928.566744,  21915.414444,\n",
      "         21849.302216,  21941.719044,  22075.872504,  21961.71054 ],\n",
      "       [ 29569.391328,  29472.468144,  29632.900896,  29615.127696,\n",
      "         29525.787744,  29650.674096,  29831.960736,  29677.68936 ],\n",
      "       [ 21874.955958,  21803.253759,  21921.939306,  21908.790981,\n",
      "         21842.698734,  21935.087631,  22069.200546,  21955.073085],\n",
      "       [ 29554.168412,  29457.295126,  29617.645284,  29599.881234,\n",
      "         29510.587276,  29635.409334,  29816.602644,  29662.41069 ]]))\n"
     ]
    }
   ],
   "source": [
    "# The values returned by the function are (chi square value, p-value, degree of freedom and the contigency table)\n",
    "# The p value is 0.0 < 0.05 which means that degree and jobType are not independent.\n",
    "print chi_square_of_df_cols(df, 'degreeCoded', 'jobTypeCoded')"
   ]
  },
  {
   "cell_type": "code",
   "execution_count": 46,
   "metadata": {
    "collapsed": false
   },
   "outputs": [
    {
     "name": "stdout",
     "output_type": "stream",
     "text": [
      "(125514.70618848808, 0.0, 56, array([[  7284.414862,   7260.537851,   7300.060434,   7295.682009,\n",
      "          7273.673126,   7304.438859,   7349.098794,   7311.094065],\n",
      "       [  7301.759004,   7277.825142,   7317.441828,   7313.052978,\n",
      "          7290.991692,   7321.830678,   7366.596948,   7328.50173 ],\n",
      "       [  7346.30475 ,   7322.224875,   7362.08325 ,   7357.667625,\n",
      "          7335.47175 ,   7366.498875,   7411.53825 ,   7373.210625],\n",
      "       [  7284.789196,   7260.910958,   7300.435572,   7296.056922,\n",
      "          7274.046908,   7304.814222,   7349.476452,   7311.46977 ],\n",
      "       [  7311.491688,   7287.525924,   7327.195416,   7322.800716,\n",
      "          7300.710024,   7331.590116,   7376.416056,   7338.27006 ],\n",
      "       [  7322.472152,   7298.470396,   7338.199464,   7333.798164,\n",
      "          7311.674296,   7342.600764,   7387.494024,   7349.29074 ],\n",
      "       [  7212.293178,   7188.652569,   7227.783846,   7223.448771,\n",
      "          7201.657794,   7232.118921,   7276.336686,   7238.708235],\n",
      "       [ 66426.19219 ,  66208.458995,  66568.86333 ,  66528.936705,\n",
      "         66328.23887 ,  66608.789955,  67016.04153 ,  66669.478425],\n",
      "       [  7288.28298 ,   7264.39329 ,   7303.93686 ,   7299.55611 ,\n",
      "          7277.53554 ,   7308.31761 ,   7353.00126 ,   7314.97635 ]]))\n"
     ]
    }
   ],
   "source": [
    "# The values returned by the function are (chi square value, p-value, degree of freedom and the contigency table)\n",
    "# The p value is 0.0 < 0.05 which means that major and jobType are not independent.\n",
    "print chi_square_of_df_cols(df, 'majorCoded', 'jobTypeCoded')"
   ]
  },
  {
   "cell_type": "code",
   "execution_count": 47,
   "metadata": {
    "collapsed": false
   },
   "outputs": [
    {
     "name": "stdout",
     "output_type": "stream",
     "text": [
      "(43.55662241845252, 0.65529488956945148, 48, array([[  8344.869397,   8337.630401,   8340.432593,   8333.894145,\n",
      "          8334.828209,   8327.122181,   8360.223074],\n",
      "       [  8364.738474,   8357.482242,   8360.291106,   8353.73709 ,\n",
      "          8354.673378,   8346.949002,   8380.128708],\n",
      "       [  8415.769125,   8408.468625,   8411.294625,   8404.700625,\n",
      "          8405.642625,   8397.871125,   8431.25325 ],\n",
      "       [  8345.298226,   8338.058858,   8340.861194,   8334.32241 ,\n",
      "          8335.256522,   8327.550098,   8360.652692],\n",
      "       [  8375.888028,   8368.622124,   8371.434732,   8364.87198 ,\n",
      "          8365.809516,   8358.074844,   8391.298776],\n",
      "       [  8388.467012,   8381.190196,   8384.007028,   8377.43442 ,\n",
      "          8378.373364,   8370.627076,   8403.900904],\n",
      "       [  8262.248343,   8255.081019,   8257.855467,   8251.381755,\n",
      "          8252.306571,   8244.676839,   8277.450006],\n",
      "       [ 76096.420765,  76030.408745,  76055.961785,  75996.338025,\n",
      "         76004.855705,  75934.584845,  76236.43013 ],\n",
      "       [  8349.30063 ,   8342.05779 ,   8344.86147 ,   8338.31955 ,\n",
      "          8339.25411 ,   8331.54399 ,   8364.66246 ]]))\n"
     ]
    }
   ],
   "source": [
    "# The values returned by the function are (chi square value, p-value, degree of freedom and the contigency table)\n",
    "# The p value is 0.655 > 0.05 which means that major and industry are independent.\n",
    "print chi_square_of_df_cols(df, 'majorCoded', 'industryCoded')"
   ]
  },
  {
   "cell_type": "code",
   "execution_count": 48,
   "metadata": {
    "collapsed": false,
    "scrolled": false
   },
   "outputs": [
    {
     "name": "stdout",
     "output_type": "stream",
     "text": [
      "(47.265180908558605, 0.2662543916255608, 42, array([[ 17836.141654,  17820.669182,  17826.658526,  17812.68339 ,\n",
      "         17814.679838,  17798.209142,  17868.958268],\n",
      "       [ 17777.677967,  17762.256211,  17768.225923,  17754.296595,\n",
      "         17756.286499,  17739.869791,  17810.387014],\n",
      "       [ 17874.450378,  17858.944674,  17864.946882,  17850.94173 ,\n",
      "         17852.942466,  17836.436394,  17907.337476],\n",
      "       [ 17863.729653,  17848.233249,  17854.231857,  17840.235105,\n",
      "         17842.234641,  17825.738469,  17896.597026],\n",
      "       [ 17809.840142,  17794.390486,  17800.370998,  17786.41647 ,\n",
      "         17788.409974,  17771.963566,  17842.608364],\n",
      "       [ 17885.171103,  17869.656099,  17875.661907,  17861.648355,\n",
      "         17863.650291,  17847.134319,  17918.077926],\n",
      "       [ 17994.522498,  17978.912634,  17984.955162,  17970.85593 ,\n",
      "         17972.870106,  17956.253154,  18027.630516],\n",
      "       [ 17901.466605,  17885.937465,  17891.948745,  17877.922425,\n",
      "         17879.926185,  17863.395165,  17934.40341 ]]))\n"
     ]
    }
   ],
   "source": [
    "# The values returned by the function are (chi square value, p-value, degree of freedom and the contigency table)\n",
    "# The p value is 0.266 > 0.05 which means that industry and jobType are independent.\n",
    "print chi_square_of_df_cols(df, 'jobTypeCoded', 'industryCoded')"
   ]
  },
  {
   "cell_type": "code",
   "execution_count": 34,
   "metadata": {
    "collapsed": false
   },
   "outputs": [
    {
     "name": "stdout",
     "output_type": "stream",
     "text": [
      "(403.017003121779, 0.12897152977894466, 372, array([[ 2239.345038,  2237.402454,  2238.154422,  2236.39983 ,\n",
      "         2236.650486,  2234.582574,  2243.465196],\n",
      "       [ 2261.35826 ,  2259.39658 ,  2260.15594 ,  2258.3841  ,\n",
      "         2258.63722 ,  2256.54898 ,  2265.51892 ],\n",
      "       [ 2274.080187,  2272.107471,  2272.871103,  2271.089295,\n",
      "         2271.343839,  2269.243851,  2278.264254],\n",
      "       [ 2268.791296,  2266.823168,  2267.585024,  2265.80736 ,\n",
      "         2266.061312,  2263.966208,  2272.965632],\n",
      "       [ 2256.069369,  2254.112277,  2254.869861,  2253.102165,\n",
      "         2253.354693,  2251.271337,  2260.220298],\n",
      "       [ 2280.798508,  2278.819964,  2279.585852,  2277.79878 ,\n",
      "         2278.054076,  2275.947884,  2284.994936],\n",
      "       [ 2273.937244,  2271.964652,  2272.728236,  2270.94654 ,\n",
      "         2271.201068,  2269.101212,  2278.121048],\n",
      "       [ 2272.936643,  2270.964919,  2271.728167,  2269.947255,\n",
      "         2270.201671,  2268.102739,  2277.118606],\n",
      "       [ 2256.069369,  2254.112277,  2254.869861,  2253.102165,\n",
      "         2253.354693,  2251.271337,  2260.220298],\n",
      "       [ 2246.349245,  2244.400585,  2245.154905,  2243.394825,\n",
      "         2243.646265,  2241.571885,  2250.48229 ],\n",
      "       [ 2280.941451,  2278.962783,  2279.728719,  2277.941535,\n",
      "         2278.196847,  2276.090523,  2285.138142],\n",
      "       [ 2281.084394,  2279.105602,  2279.871586,  2278.08429 ,\n",
      "         2278.339618,  2276.233162,  2285.281348],\n",
      "       [ 2235.771463,  2233.831979,  2234.582747,  2232.830955,\n",
      "         2233.081211,  2231.016599,  2239.885046],\n",
      "       [ 2274.22313 ,  2272.25029 ,  2273.01397 ,  2271.23205 ,\n",
      "         2271.48661 ,  2269.38649 ,  2278.40746 ],\n",
      "       [ 2279.797907,  2277.820231,  2278.585783,  2276.799495,\n",
      "         2277.054679,  2274.949411,  2283.992494],\n",
      "       [ 2273.794301,  2271.821833,  2272.585369,  2270.803785,\n",
      "         2271.058297,  2268.958573,  2277.977842],\n",
      "       [ 2275.366674,  2273.392842,  2274.156906,  2272.37409 ,\n",
      "         2272.628778,  2270.527602,  2279.553108],\n",
      "       [ 2262.930633,  2260.967589,  2261.727477,  2259.954405,\n",
      "         2260.207701,  2258.118009,  2267.094186],\n",
      "       [ 2277.367876,  2275.392308,  2276.157044,  2274.37266 ,\n",
      "         2274.627572,  2272.524548,  2281.557992],\n",
      "       [ 2251.35225 ,  2249.39925 ,  2250.15525 ,  2248.39125 ,\n",
      "         2248.64325 ,  2246.56425 ,  2255.4945  ],\n",
      "       [ 2254.639939,  2252.684087,  2253.441191,  2251.674615,\n",
      "         2251.926983,  2249.844947,  2258.788238],\n",
      "       [ 2257.641742,  2255.683286,  2256.441398,  2254.67247 ,\n",
      "         2254.925174,  2252.840366,  2261.795564],\n",
      "       [ 2251.924022,  2249.970526,  2250.726718,  2248.96227 ,\n",
      "         2249.214334,  2247.134806,  2256.067324],\n",
      "       [ 2291.090404,  2289.102932,  2289.872276,  2288.07714 ,\n",
      "         2288.333588,  2286.217892,  2295.305768],\n",
      "       [ 2292.948663,  2290.959579,  2291.729547,  2289.932955,\n",
      "         2290.189611,  2288.072199,  2297.167446],\n",
      "       [ 2252.209908,  2250.256164,  2251.012452,  2249.24778 ,\n",
      "         2249.499876,  2247.420084,  2256.353736],\n",
      "       [ 2281.084394,  2279.105602,  2279.871586,  2278.08429 ,\n",
      "         2278.339618,  2276.233162,  2285.281348],\n",
      "       [ 2258.642343,  2256.683019,  2257.441467,  2255.671755,\n",
      "         2255.924571,  2253.838839,  2262.798006],\n",
      "       [ 2259.92883 ,  2257.96839 ,  2258.72727 ,  2256.95655 ,\n",
      "         2257.20951 ,  2255.12259 ,  2264.08686 ],\n",
      "       [ 2303.383502,  2301.385366,  2302.158838,  2300.35407 ,\n",
      "         2300.611894,  2298.484846,  2307.621484],\n",
      "       [ 2271.507213,  2269.536729,  2270.299497,  2268.519705,\n",
      "         2268.773961,  2266.676349,  2275.686546],\n",
      "       [ 2273.508415,  2271.536195,  2272.299635,  2270.518275,\n",
      "         2270.772755,  2268.673295,  2277.69143 ],\n",
      "       [ 2261.215317,  2259.253761,  2260.013073,  2258.241345,\n",
      "         2258.494449,  2256.406341,  2265.375714],\n",
      "       [ 2314.675999,  2312.668067,  2313.445331,  2311.631715,\n",
      "         2311.890803,  2309.753327,  2318.934758],\n",
      "       [ 2275.366674,  2273.392842,  2274.156906,  2272.37409 ,\n",
      "         2272.628778,  2270.527602,  2279.553108],\n",
      "       [ 2288.231544,  2286.246552,  2287.014936,  2285.22204 ,\n",
      "         2285.478168,  2283.365112,  2292.441648],\n",
      "       [ 2266.933037,  2264.966521,  2265.727753,  2263.951545,\n",
      "         2264.205289,  2262.111901,  2271.103954],\n",
      "       [ 2279.083192,  2277.106136,  2277.871448,  2276.08572 ,\n",
      "         2276.340824,  2274.236216,  2283.276464],\n",
      "       [ 2280.655565,  2278.677145,  2279.442985,  2277.656025,\n",
      "         2277.911305,  2275.805245,  2284.85173 ],\n",
      "       [ 2287.802715,  2285.818095,  2286.586335,  2284.793775,\n",
      "         2285.049855,  2282.937195,  2292.01203 ],\n",
      "       [ 2265.64655 ,  2263.68115 ,  2264.44195 ,  2262.66675 ,\n",
      "         2262.92035 ,  2260.82815 ,  2269.8151  ],\n",
      "       [ 2282.370881,  2280.390973,  2281.157389,  2279.369085,\n",
      "         2279.624557,  2277.516913,  2286.570202],\n",
      "       [ 2257.927628,  2255.968924,  2256.727132,  2254.95798 ,\n",
      "         2255.210716,  2253.125644,  2262.081976],\n",
      "       [ 2277.08199 ,  2275.10667 ,  2275.87131 ,  2274.08715 ,\n",
      "         2274.34203 ,  2272.23927 ,  2281.27158 ],\n",
      "       [ 2255.497597,  2253.541001,  2254.298393,  2252.531145,\n",
      "         2252.783609,  2250.700781,  2259.647474],\n",
      "       [ 2258.213514,  2256.254562,  2257.012866,  2255.24349 ,\n",
      "         2255.496258,  2253.410922,  2262.368388],\n",
      "       [ 2257.212913,  2255.254829,  2256.012797,  2254.244205,\n",
      "         2254.496861,  2252.412449,  2261.365946],\n",
      "       [ 2287.802715,  2285.818095,  2286.586335,  2284.793775,\n",
      "         2285.049855,  2282.937195,  2292.01203 ],\n",
      "       [ 2249.493991,  2247.542603,  2248.297979,  2246.535435,\n",
      "         2246.787227,  2244.709943,  2253.632822],\n",
      "       [ 2255.068768,  2253.112544,  2253.869792,  2252.10288 ,\n",
      "         2252.355296,  2250.272864,  2259.217856],\n",
      "       [ 2283.800311,  2281.819163,  2282.586059,  2280.796635,\n",
      "         2281.052267,  2278.943303,  2288.002262],\n",
      "       [ 2253.782281,  2251.827173,  2252.583989,  2250.818085,\n",
      "         2251.070357,  2248.989113,  2257.929002],\n",
      "       [ 2284.086197,  2282.104801,  2282.871793,  2281.082145,\n",
      "         2281.337809,  2279.228581,  2288.288674],\n",
      "       [ 2234.913805,  2232.975065,  2233.725545,  2231.974425,\n",
      "         2232.224585,  2230.160765,  2239.02581 ],\n",
      "       [ 2281.513223,  2279.534059,  2280.300187,  2278.512555,\n",
      "         2278.767931,  2276.661079,  2285.710966],\n",
      "       [ 2296.522238,  2294.530054,  2295.301222,  2293.50183 ,\n",
      "         2293.758886,  2291.638174,  2300.747596],\n",
      "       [ 2263.788291,  2261.824503,  2262.584679,  2260.810935,\n",
      "         2261.064327,  2258.973843,  2267.953422],\n",
      "       [ 2258.356457,  2256.397381,  2257.155733,  2255.386245,\n",
      "         2255.639029,  2253.553561,  2262.511594],\n",
      "       [ 2261.644146,  2259.682218,  2260.441674,  2258.66961 ,\n",
      "         2258.922762,  2256.834258,  2265.805332],\n",
      "       [ 2278.940249,  2276.963317,  2277.728581,  2275.942965,\n",
      "         2276.198053,  2274.093577,  2283.133258],\n",
      "       [ 2253.782281,  2251.827173,  2252.583989,  2250.818085,\n",
      "         2251.070357,  2248.989113,  2257.929002],\n",
      "       [ 2235.342634,  2233.403522,  2234.154146,  2232.40269 ,\n",
      "         2232.652898,  2230.588682,  2239.455428],\n",
      "       [ 2285.372684,  2283.390172,  2284.157596,  2282.36694 ,\n",
      "         2282.622748,  2280.512332,  2289.577528]]))\n"
     ]
    }
   ],
   "source": [
    "# The values returned by the function are (chi square value, p-value, degree of freedom and the contigency table)\n",
    "# The p value is  0.128 > 0.05 which means that industry and companyId are independent.\n",
    "print chi_square_of_df_cols(df, 'companyIdCoded', 'industryCoded')"
   ]
  },
  {
   "cell_type": "code",
   "execution_count": 35,
   "metadata": {
    "collapsed": false
   },
   "outputs": [
    {
     "name": "stdout",
     "output_type": "stream",
     "text": [
      "(512.04481815501072, 0.29974150437123448, 496, array([[  914.565414,   916.742988,   922.33575 ,   914.612412,\n",
      "          917.964936,   919.343544,   905.510466,  8339.87343 ,   915.05106 ],\n",
      "       [  923.55578 ,   925.75476 ,   931.4025  ,   923.60324 ,\n",
      "          926.98872 ,   928.38088 ,   914.41182 ,  8421.8561  ,   924.0462  ],\n",
      "       [  928.751511,   930.962862,   936.642375,   928.799238,\n",
      "          932.203764,   933.603756,   919.556109,  8469.235695,   929.24469 ],\n",
      "       [  926.591488,   928.797696,   934.464   ,   926.639104,\n",
      "          930.035712,   931.432448,   917.417472,  8449.53856 ,   927.08352 ],\n",
      "       [  921.395757,   923.589594,   929.224125,   921.443106,\n",
      "          924.820668,   926.209572,   912.273183,  8402.158965,   921.88503 ],\n",
      "       [  931.495324,   933.713208,   939.4095  ,   931.543192,\n",
      "          934.957776,   936.361904,   922.272756,  8494.25638 ,   931.98996 ],\n",
      "       [  928.693132,   930.904344,   936.5835  ,   928.740856,\n",
      "          932.145168,   933.545072,   919.498308,  8468.70334 ,   929.18628 ],\n",
      "       [  928.284479,   930.494718,   936.171375,   928.332182,\n",
      "          931.734996,   933.134284,   919.093701,  8464.976855,   928.77741 ],\n",
      "       [  921.395757,   923.589594,   929.224125,   921.443106,\n",
      "          924.820668,   926.209572,   912.273183,  8402.158965,   921.88503 ],\n",
      "       [  917.425985,   919.61037 ,   925.220625,   917.47313 ,\n",
      "          920.83614 ,   922.21906 ,   908.342715,  8365.958825,   917.91315 ],\n",
      "       [  931.553703,   933.771726,   939.468375,   931.601574,\n",
      "          935.016372,   936.420588,   922.330557,  8494.788735,   932.04837 ],\n",
      "       [  931.612082,   933.830244,   939.52725 ,   931.659956,\n",
      "          935.074968,   936.479272,   922.388358,  8495.32109 ,   932.10678 ],\n",
      "       [  913.105939,   915.280038,   920.863875,   913.152862,\n",
      "          916.500036,   917.876444,   904.065441,  8326.564555,   913.59081 ],\n",
      "       [  928.80989 ,   931.02138 ,   936.70125 ,   928.85762 ,\n",
      "          932.26236 ,   933.66244 ,   919.61391 ,  8469.76805 ,   929.3031  ],\n",
      "       [  931.086671,   933.303582,   938.997375,   931.134518,\n",
      "          934.547604,   935.951116,   921.868149,  8490.529895,   931.58109 ],\n",
      "       [  928.634753,   930.845826,   936.524625,   928.682474,\n",
      "          932.086572,   933.486388,   919.440507,  8468.170985,   929.12787 ],\n",
      "       [  929.276922,   931.489524,   937.17225 ,   929.324676,\n",
      "          932.731128,   934.131912,   920.076318,  8474.02689 ,   929.77038 ],\n",
      "       [  924.197949,   926.398458,   932.050125,   924.245442,\n",
      "          927.633276,   929.026404,   915.047631,  8427.712005,   924.68871 ],\n",
      "       [  930.094228,   932.308776,   937.9965  ,   930.142024,\n",
      "          933.551472,   934.953488,   920.885532,  8481.47986 ,   930.58812 ],\n",
      "       [  919.46925 ,   921.6585  ,   927.28125 ,   919.5165  ,\n",
      "          922.887   ,   924.273   ,   910.36575 ,  8384.59125 ,   919.9575  ],\n",
      "       [  920.811967,   923.004414,   928.635375,   920.859286,\n",
      "          924.234708,   925.622732,   911.695173,  8396.835415,   921.30093 ],\n",
      "       [  922.037926,   924.233292,   929.87175 ,   922.085308,\n",
      "          925.465224,   926.855096,   912.908994,  8408.01487 ,   922.52754 ],\n",
      "       [  919.702766,   921.892572,   927.51675 ,   919.750028,\n",
      "          923.121384,   924.507736,   910.596954,  8386.72067 ,   920.19114 ],\n",
      "       [  935.698612,   937.926504,   943.6485  ,   935.746696,\n",
      "          939.176688,   940.587152,   926.434428,  8532.58594 ,   936.19548 ],\n",
      "       [  936.457539,   938.687238,   944.413875,   936.505662,\n",
      "          939.938436,   941.350044,   927.185841,  8539.506555,   936.95481 ],\n",
      "       [  919.819524,   922.009608,   927.6345  ,   919.866792,\n",
      "          923.238576,   924.625104,   910.712556,  8387.78538 ,   920.30796 ],\n",
      "       [  931.612082,   933.830244,   939.52725 ,   931.659956,\n",
      "          935.074968,   936.479272,   922.388358,  8495.32109 ,   932.10678 ],\n",
      "       [  922.446579,   924.642918,   930.283875,   922.493982,\n",
      "          925.875396,   927.265884,   913.313601,  8411.741355,   922.93641 ],\n",
      "       [  922.97199 ,   925.16958 ,   930.81375 ,   923.01942 ,\n",
      "          926.40276 ,   927.79404 ,   913.83381 ,  8416.53255 ,   923.4621  ],\n",
      "       [  940.719206,   942.959052,   948.71175 ,   940.767548,\n",
      "          944.215944,   945.633976,   931.405314,  8578.36847 ,   941.21874 ],\n",
      "       [  927.700689,   929.909538,   935.582625,   927.748362,\n",
      "          931.149036,   932.547444,   918.515691,  8459.653305,   928.19331 ],\n",
      "       [  928.517995,   930.72879 ,   936.406875,   928.56571 ,\n",
      "          931.96938 ,   933.36902 ,   919.324905,  8467.106275,   929.01105 ],\n",
      "       [  923.497401,   925.696242,   931.343625,   923.544858,\n",
      "          926.930124,   928.322196,   914.354019,  8421.323745,   923.98779 ],\n",
      "       [  945.331147,   947.581974,   953.362875,   945.379726,\n",
      "          948.845028,   950.270012,   935.971593,  8620.424515,   945.83313 ],\n",
      "       [  929.276922,   931.489524,   937.17225 ,   929.324676,\n",
      "          932.731128,   934.131912,   920.076318,  8474.02689 ,   929.77038 ],\n",
      "       [  934.531032,   936.756144,   942.471   ,   934.579056,\n",
      "          938.004768,   939.413472,   925.278408,  8521.93884 ,   935.02728 ],\n",
      "       [  925.832561,   928.036962,   933.698625,   925.880138,\n",
      "          929.273964,   930.669556,   916.666059,  8442.617945,   926.32419 ],\n",
      "       [  930.794776,   933.010992,   938.703   ,   930.842608,\n",
      "          934.254624,   935.657696,   921.579144,  8487.86812 ,   931.28904 ],\n",
      "       [  931.436945,   933.65469 ,   939.350625,   931.48481 ,\n",
      "          934.89918 ,   936.30322 ,   922.214955,  8493.724025,   931.93155 ],\n",
      "       [  934.355895,   936.58059 ,   942.294375,   934.40391 ,\n",
      "          937.82898 ,   939.23742 ,   925.105005,  8520.341775,   934.85205 ],\n",
      "       [  925.30715 ,   927.5103  ,   933.16875 ,   925.3547  ,\n",
      "          928.7466  ,   930.1414  ,   916.14585 ,  8437.82675 ,   925.7985  ],\n",
      "       [  932.137493,   934.356906,   940.057125,   932.185394,\n",
      "          935.602332,   937.007428,   922.908567,  8500.112285,   932.63247 ],\n",
      "       [  922.154684,   924.350328,   929.9895  ,   922.202072,\n",
      "          925.582416,   926.972464,   913.024596,  8409.07958 ,   922.64436 ],\n",
      "       [  929.97747 ,   932.19174 ,   937.87875 ,   930.02526 ,\n",
      "          933.43428 ,   934.83612 ,   920.76993 ,  8480.41515 ,   930.4713  ],\n",
      "       [  921.162241,   923.355522,   928.988625,   921.209578,\n",
      "          924.586284,   925.974836,   912.041979,  8400.029545,   921.65139 ],\n",
      "       [  922.271442,   924.467364,   930.10725 ,   922.318836,\n",
      "          925.699608,   927.089832,   913.140198,  8410.14429 ,   922.76118 ],\n",
      "       [  921.862789,   924.057738,   929.695125,   921.910162,\n",
      "          925.289436,   926.679044,   912.735591,  8406.417805,   922.35231 ],\n",
      "       [  934.355895,   936.58059 ,   942.294375,   934.40391 ,\n",
      "          937.82898 ,   939.23742 ,   925.105005,  8520.341775,   934.85205 ],\n",
      "       [  918.710323,   920.897766,   926.515875,   918.757534,\n",
      "          922.125252,   923.510108,   909.614337,  8377.670635,   919.19817 ],\n",
      "       [  920.987104,   923.179968,   928.812   ,   921.034432,\n",
      "          924.410496,   925.798784,   911.868576,  8398.43248 ,   921.47616 ],\n",
      "       [  932.721283,   934.942086,   940.645875,   932.769214,\n",
      "          936.188292,   937.594268,   923.486577,  8505.435835,   933.21657 ],\n",
      "       [  920.461693,   922.653306,   928.282125,   920.508994,\n",
      "          923.883132,   925.270628,   911.348367,  8393.641285,   920.95047 ],\n",
      "       [  932.838041,   935.059122,   940.763625,   932.885978,\n",
      "          936.305484,   937.711636,   923.602179,  8506.500545,   933.33339 ],\n",
      "       [  912.755665,   914.92893 ,   920.510625,   912.80257 ,\n",
      "          916.14846 ,   917.52434 ,   903.718635,  8323.370425,   913.24035 ],\n",
      "       [  931.787219,   934.005798,   939.703875,   931.835102,\n",
      "          935.250756,   936.655324,   922.561761,  8496.918155,   932.28201 ],\n",
      "       [  937.917014,   940.150188,   945.88575 ,   937.965212,\n",
      "          941.403336,   942.817144,   928.630866,  8552.81543 ,   938.41506 ],\n",
      "       [  924.548223,   926.749566,   932.403375,   924.595734,\n",
      "          927.984852,   929.378508,   915.394437,  8430.906135,   925.03917 ],\n",
      "       [  922.329821,   924.525882,   930.166125,   922.377218,\n",
      "          925.758204,   927.148516,   913.197999,  8410.676645,   922.81959 ],\n",
      "       [  923.672538,   925.871796,   931.52025 ,   923.720004,\n",
      "          927.105912,   928.498248,   914.527422,  8422.92081 ,   924.16302 ],\n",
      "       [  930.736397,   932.952474,   938.644125,   930.784226,\n",
      "          934.196028,   935.599012,   921.521343,  8487.335765,   931.23063 ],\n",
      "       [  920.461693,   922.653306,   928.282125,   920.508994,\n",
      "          923.883132,   925.270628,   911.348367,  8393.641285,   920.95047 ],\n",
      "       [  912.930802,   915.104484,   920.68725 ,   912.977716,\n",
      "          916.324248,   917.700392,   903.892038,  8324.96749 ,   913.41558 ],\n",
      "       [  933.363452,   935.585784,   941.2935  ,   933.411416,\n",
      "          936.832848,   938.239792,   924.122388,  8511.29174 ,   933.85908 ]]))\n"
     ]
    }
   ],
   "source": [
    "# The values returned by the function are (chi square value, p-value, degree of freedom and the contigency table)\n",
    "# The p value is 0.2997 > 0.05 which means that major and companyId are independent.\n",
    "print chi_square_of_df_cols(df, 'companyIdCoded', 'majorCoded')"
   ]
  },
  {
   "cell_type": "code",
   "execution_count": 36,
   "metadata": {
    "collapsed": false,
    "scrolled": true
   },
   "outputs": [
    {
     "name": "stdout",
     "output_type": "stream",
     "text": [
      "(235.92972640838522, 0.69880239244370124, 248, array([[ 2749.30467 ,  2747.252424,  3712.466016,  2746.422126,\n",
      "         3710.554764],\n",
      "       [ 2776.3309  ,  2774.25848 ,  3748.96032 ,  2773.42002 ,  3747.03028 ],\n",
      "       [ 2791.949955,  2789.865876,  3770.051184,  2789.022699,\n",
      "         3768.110286],\n",
      "       [ 2785.45664 ,  2783.377408,  3761.283072,  2782.536192,\n",
      "         3759.346688],\n",
      "       [ 2769.837585,  2767.770012,  3740.192208,  2766.933513,\n",
      "         3738.266682],\n",
      "       [ 2800.19822 ,  2798.107984,  3781.189056,  2797.262316,\n",
      "         3779.242424],\n",
      "       [ 2791.77446 ,  2789.690512,  3769.814208,  2788.847388,\n",
      "         3767.873432],\n",
      "       [ 2790.545995,  2788.462964,  3768.155376,  2787.620211,\n",
      "         3766.215454],\n",
      "       [ 2769.837585,  2767.770012,  3740.192208,  2766.933513,\n",
      "         3738.266682],\n",
      "       [ 2757.903925,  2755.84526 ,  3724.07784 ,  2755.012365,  3722.16061 ],\n",
      "       [ 2800.373715,  2798.283348,  3781.426032,  2797.437627,\n",
      "         3779.479278],\n",
      "       [ 2800.54921 ,  2798.458712,  3781.663008,  2797.612938,\n",
      "         3779.716132],\n",
      "       [ 2744.917295,  2742.868324,  3706.541616,  2742.039351,\n",
      "         3704.633414],\n",
      "       [ 2792.12545 ,  2790.04124 ,  3770.28816 ,  2789.19801 ,  3768.34714 ],\n",
      "       [ 2798.969755,  2796.880436,  3779.530224,  2796.035139,\n",
      "         3777.584446],\n",
      "       [ 2791.598965,  2789.515148,  3769.577232,  2788.672077,\n",
      "         3767.636578],\n",
      "       [ 2793.52941 ,  2791.444152,  3772.183968,  2790.600498,\n",
      "         3770.241972],\n",
      "       [ 2778.261345,  2776.187484,  3751.567056,  2775.348441,\n",
      "         3749.635674],\n",
      "       [ 2795.98634 ,  2793.899248,  3775.501632,  2793.054852,\n",
      "         3773.557928],\n",
      "       [ 2764.04625 ,  2761.983   ,  3732.372   ,  2761.14825 ,  3730.4505  ],\n",
      "       [ 2768.082635,  2766.016372,  3737.822448,  2765.180403,\n",
      "         3735.898142],\n",
      "       [ 2771.76803 ,  2769.699016,  3742.798944,  2768.861934,\n",
      "         3740.872076],\n",
      "       [ 2764.74823 ,  2762.684456,  3733.319904,  2761.849494,\n",
      "         3731.397916],\n",
      "       [ 2812.83386 ,  2810.734192,  3798.251328,  2809.884708,\n",
      "         3796.295912],\n",
      "       [ 2815.115295,  2813.013924,  3801.332016,  2812.163751,\n",
      "         3799.375014],\n",
      "       [ 2765.09922 ,  2763.035184,  3733.793856,  2762.200116,\n",
      "         3731.871624],\n",
      "       [ 2800.54921 ,  2798.458712,  3781.663008,  2797.612938,\n",
      "         3779.716132],\n",
      "       [ 2772.996495,  2770.926564,  3744.457776,  2770.089111,\n",
      "         3742.530054],\n",
      "       [ 2774.57595 ,  2772.50484 ,  3746.59056 ,  2771.66691 ,  3744.66174 ],\n",
      "       [ 2827.92643 ,  2825.815496,  3818.631264,  2824.961454,\n",
      "         3816.665356],\n",
      "       [ 2788.791045,  2786.709324,  3765.785616,  2785.867101,\n",
      "         3763.846914],\n",
      "       [ 2791.247975,  2789.16442 ,  3769.10328 ,  2788.321455,  3767.16287 ],\n",
      "       [ 2776.155405,  2774.083116,  3748.723344,  2773.244709,\n",
      "         3746.793426],\n",
      "       [ 2841.790535,  2839.669252,  3837.352368,  2838.811023,\n",
      "         3835.376822],\n",
      "       [ 2793.52941 ,  2791.444152,  3772.183968,  2790.600498,\n",
      "         3770.241972],\n",
      "       [ 2809.32396 ,  2807.226912,  3793.511808,  2806.378488,\n",
      "         3791.558832],\n",
      "       [ 2783.175205,  2781.097676,  3758.202384,  2780.257149,\n",
      "         3756.267586],\n",
      "       [ 2798.09228 ,  2796.003616,  3778.345344,  2795.158584,\n",
      "         3776.400176],\n",
      "       [ 2800.022725,  2797.93262 ,  3780.95208 ,  2797.087005,  3779.00557 ],\n",
      "       [ 2808.797475,  2806.70082 ,  3792.80088 ,  2805.852555,  3790.84827 ],\n",
      "       [ 2781.59575 ,  2779.5194  ,  3756.0696  ,  2778.67935 ,  3754.1359  ],\n",
      "       [ 2802.128665,  2800.036988,  3783.795792,  2799.190737,\n",
      "         3781.847818],\n",
      "       [ 2772.11902 ,  2770.049744,  3743.272896,  2769.212556,\n",
      "         3741.345784],\n",
      "       [ 2795.63535 ,  2793.54852 ,  3775.02768 ,  2792.70423 ,  3773.08422 ],\n",
      "       [ 2769.135605,  2767.068556,  3739.244304,  2766.232269,\n",
      "         3737.319266],\n",
      "       [ 2772.47001 ,  2770.400472,  3743.746848,  2769.563178,\n",
      "         3741.819492],\n",
      "       [ 2771.241545,  2769.172924,  3742.088016,  2768.336001,\n",
      "         3740.161514],\n",
      "       [ 2808.797475,  2806.70082 ,  3792.80088 ,  2805.852555,  3790.84827 ],\n",
      "       [ 2761.764815,  2759.703268,  3729.291312,  2758.869207,\n",
      "         3727.371398],\n",
      "       [ 2768.60912 ,  2766.542464,  3738.533376,  2765.706336,\n",
      "         3736.608704],\n",
      "       [ 2803.883615,  2801.790628,  3786.165552,  2800.943847,\n",
      "         3784.216358],\n",
      "       [ 2767.029665,  2764.964188,  3736.400592,  2764.128537,\n",
      "         3734.477018],\n",
      "       [ 2804.234605,  2802.141356,  3786.639504,  2801.294469,\n",
      "         3784.690066],\n",
      "       [ 2743.864325,  2741.81614 ,  3705.11976 ,  2740.987485,  3703.21229 ],\n",
      "       [ 2801.075695,  2798.984804,  3782.373936,  2798.138871,\n",
      "         3780.426694],\n",
      "       [ 2819.50267 ,  2817.398024,  3807.256416,  2816.546526,\n",
      "         3805.296364],\n",
      "       [ 2779.314315,  2777.239668,  3752.988912,  2776.400307,\n",
      "         3751.056798],\n",
      "       [ 2772.645505,  2770.575836,  3743.983824,  2769.738489,\n",
      "         3742.056346],\n",
      "       [ 2776.68189 ,  2774.609208,  3749.434272,  2773.770642,\n",
      "         3747.503988],\n",
      "       [ 2797.916785,  2795.828252,  3778.108368,  2794.983273,\n",
      "         3776.163322],\n",
      "       [ 2767.029665,  2764.964188,  3736.400592,  2764.128537,\n",
      "         3734.477018],\n",
      "       [ 2744.39081 ,  2742.342232,  3705.830688,  2741.513418,\n",
      "         3703.922852],\n",
      "       [ 2805.81406 ,  2803.719632,  3788.772288,  2802.872268,\n",
      "         3786.821752]]))\n"
     ]
    }
   ],
   "source": [
    "# The values returned by the function are (chi square value, p-value, degree of freedom and the contigency table)\n",
    "# The p value is 0.6988 > 0.05 which means that degree and companyId are independent.\n",
    "print chi_square_of_df_cols(df, 'companyIdCoded', 'degreeCoded')"
   ]
  },
  {
   "cell_type": "code",
   "execution_count": 37,
   "metadata": {
    "collapsed": false,
    "scrolled": true
   },
   "outputs": [
    {
     "name": "stdout",
     "output_type": "stream",
     "text": [
      "(428.86734982297691, 0.56050592083977657, 434, array([[ 1954.772148,  1948.364754,  1958.970636,  1957.795686,\n",
      "         1951.889604,  1960.145586,  1972.130076,  1961.93151 ],\n",
      "       [ 1973.98796 ,  1967.51758 ,  1978.22772 ,  1977.04122 ,\n",
      "         1971.07708 ,  1979.41422 ,  1991.51652 ,  1981.2177  ],\n",
      "       [ 1985.093202,  1978.586421,  1989.356814,  1988.163639,\n",
      "         1982.165946,  1990.549989,  2002.720374,  1992.363615],\n",
      "       [ 1980.476416,  1973.984768,  1984.730112,  1983.539712,\n",
      "         1977.555968,  1985.920512,  1998.062592,  1987.72992 ],\n",
      "       [ 1969.371174,  1962.915927,  1973.601018,  1972.417293,\n",
      "         1966.467102,  1974.784743,  1986.858738,  1976.584005],\n",
      "       [ 1990.957768,  1984.431764,  1995.233976,  1994.037276,\n",
      "         1988.021864,  1996.430676,  2008.637016,  1998.24966 ],\n",
      "       [ 1984.968424,  1978.462052,  1989.231768,  1988.038668,\n",
      "         1982.041352,  1990.424868,  2002.594488,  1992.23838 ],\n",
      "       [ 1984.094978,  1977.591469,  1988.356446,  1987.163871,\n",
      "         1981.169194,  1989.549021,  2001.713286,  1991.361735],\n",
      "       [ 1969.371174,  1962.915927,  1973.601018,  1972.417293,\n",
      "         1966.467102,  1974.784743,  1986.858738,  1976.584005],\n",
      "       [ 1960.88627 ,  1954.458835,  1965.09789 ,  1963.919265,\n",
      "         1957.99471 ,  1966.276515,  1978.29849 ,  1968.068025],\n",
      "       [ 1991.082546,  1984.556133,  1995.359022,  1994.162247,\n",
      "         1988.146458,  1996.555797,  2008.762902,  1998.374895],\n",
      "       [ 1991.207324,  1984.680502,  1995.484068,  1994.287218,\n",
      "         1988.271052,  1996.680918,  2008.888788,  1998.50013 ],\n",
      "       [ 1951.652698,  1945.255529,  1955.844486,  1954.671411,\n",
      "         1948.774754,  1957.017561,  1968.982926,  1958.800635],\n",
      "       [ 1985.21798 ,  1978.71079 ,  1989.48186 ,  1988.28861 ,\n",
      "         1982.29054 ,  1990.67511 ,  2002.84626 ,  1992.48885 ],\n",
      "       [ 1990.084322,  1983.561181,  1994.358654,  1993.162479,\n",
      "         1987.149706,  1995.554829,  2007.755814,  1997.373015],\n",
      "       [ 1984.843646,  1978.337683,  1989.106722,  1987.913697,\n",
      "         1981.916758,  1990.299747,  2002.468602,  1992.113145],\n",
      "       [ 1986.216204,  1979.705742,  1990.482228,  1989.288378,\n",
      "         1983.287292,  1991.676078,  2003.853348,  1993.49073 ],\n",
      "       [ 1975.360518,  1968.885639,  1979.603226,  1978.415901,\n",
      "         1972.447614,  1980.790551,  1992.901266,  1982.595285],\n",
      "       [ 1987.963096,  1981.446908,  1992.232872,  1991.037972,\n",
      "         1985.031608,  1993.427772,  2005.615752,  1995.24402 ],\n",
      "       [ 1965.2535  ,  1958.81175 ,  1969.4745  ,  1968.29325 ,\n",
      "         1962.3555  ,  1970.65575 ,  1982.7045  ,  1972.45125 ],\n",
      "       [ 1968.123394,  1961.672237,  1972.350558,  1971.167583,\n",
      "         1965.221162,  1973.533533,  1985.599878,  1975.331655],\n",
      "       [ 1970.743732,  1964.283986,  1974.976524,  1973.791974,\n",
      "         1967.837636,  1976.161074,  1988.243484,  1977.96159 ],\n",
      "       [ 1965.752612,  1959.309226,  1969.974684,  1968.793134,\n",
      "         1962.853876,  1971.156234,  1983.208044,  1972.95219 ],\n",
      "       [ 1999.941784,  1993.386332,  2004.237288,  2003.035188,\n",
      "         1996.992632,  2005.439388,  2017.700808,  2007.26658 ],\n",
      "       [ 2001.563898,  1995.003129,  2005.862886,  2004.659811,\n",
      "         1998.612354,  2007.065961,  2019.337326,  2008.894635],\n",
      "       [ 1966.002168,  1959.557964,  1970.224776,  1969.043076,\n",
      "         1963.103064,  1971.406476,  1983.459816,  1973.20266 ],\n",
      "       [ 1991.207324,  1984.680502,  1995.484068,  1994.287218,\n",
      "         1988.271052,  1996.680918,  2008.888788,  1998.50013 ],\n",
      "       [ 1971.617178,  1965.154569,  1975.851846,  1974.666771,\n",
      "         1968.709794,  1977.036921,  1989.124686,  1978.838235],\n",
      "       [ 1972.74018 ,  1966.27389 ,  1976.97726 ,  1975.79151 ,\n",
      "         1969.83114 ,  1978.16301 ,  1990.25766 ,  1979.96535 ],\n",
      "       [ 2010.672692,  2004.082066,  2014.991244,  2013.782694,\n",
      "         2007.707716,  2016.199794,  2028.527004,  2018.03679 ],\n",
      "       [ 1982.847198,  1976.347779,  1987.105986,  1985.914161,\n",
      "         1979.923254,  1988.297811,  2000.454426,  1990.109385],\n",
      "       [ 1984.59409 ,  1978.088945,  1988.85663 ,  1987.663755,\n",
      "         1981.66757 ,  1990.049505,  2002.21683 ,  1991.862675],\n",
      "       [ 1973.863182,  1967.393211,  1978.102674,  1976.916249,\n",
      "         1970.952486,  1979.289099,  1991.390634,  1981.092465],\n",
      "       [ 2020.530154,  2013.907217,  2024.869878,  2023.655403,\n",
      "         2017.550642,  2026.084353,  2038.471998,  2027.930355],\n",
      "       [ 1986.216204,  1979.705742,  1990.482228,  1989.288378,\n",
      "         1983.287292,  1991.676078,  2003.853348,  1993.49073 ],\n",
      "       [ 1997.446224,  1990.898952,  2001.736368,  2000.535768,\n",
      "         1994.500752,  2002.936968,  2015.183088,  2004.76188 ],\n",
      "       [ 1978.854302,  1972.367971,  1983.104514,  1981.915089,\n",
      "         1975.936246,  1984.293939,  1996.426074,  1986.101865],\n",
      "       [ 1989.460432,  1982.939336,  1993.733424,  1992.537624,\n",
      "         1986.526736,  1994.929224,  2007.126384,  1996.74684 ],\n",
      "       [ 1990.83299 ,  1984.307395,  1995.10893 ,  1993.912305,\n",
      "         1987.89727 ,  1996.305555,  2008.51113 ,  1998.124425],\n",
      "       [ 1997.07189 ,  1990.525845,  2001.36123 ,  2000.160855,\n",
      "         1994.12697 ,  2002.561605,  2014.80543 ,  2004.386175],\n",
      "       [ 1977.7313  ,  1971.24865 ,  1981.9791  ,  1980.79035 ,\n",
      "         1974.8149  ,  1983.16785 ,  1995.2931  ,  1984.97475 ],\n",
      "       [ 1992.330326,  1985.799823,  1996.609482,  1995.411957,\n",
      "         1989.392398,  1997.807007,  2010.021762,  1999.627245],\n",
      "       [ 1970.993288,  1964.532724,  1975.226616,  1974.041916,\n",
      "         1968.086824,  1976.411316,  1988.495256,  1978.21206 ],\n",
      "       [ 1987.71354 ,  1981.19817 ,  1991.98278 ,  1990.78803 ,\n",
      "         1984.78242 ,  1993.17753 ,  2005.36398 ,  1994.99355 ],\n",
      "       [ 1968.872062,  1962.418451,  1973.100834,  1971.917409,\n",
      "         1965.968726,  1974.284259,  1986.355194,  1976.083065],\n",
      "       [ 1971.242844,  1964.781462,  1975.476708,  1974.291858,\n",
      "         1968.336012,  1976.661558,  1988.747028,  1978.46253 ],\n",
      "       [ 1970.369398,  1963.910879,  1974.601386,  1973.417061,\n",
      "         1967.463854,  1975.785711,  1987.865826,  1977.585885],\n",
      "       [ 1997.07189 ,  1990.525845,  2001.36123 ,  2000.160855,\n",
      "         1994.12697 ,  2002.561605,  2014.80543 ,  2004.386175],\n",
      "       [ 1963.631386,  1957.194953,  1967.848902,  1966.668627,\n",
      "         1960.735778,  1969.029177,  1981.067982,  1970.823195],\n",
      "       [ 1968.497728,  1962.045344,  1972.725696,  1971.542496,\n",
      "         1965.594944,  1973.908896,  1985.977536,  1975.70736 ],\n",
      "       [ 1993.578106,  1987.043513,  1997.859942,  1996.661667,\n",
      "         1990.638338,  1999.058217,  2011.280622,  2000.879595],\n",
      "       [ 1967.374726,  1960.926023,  1971.600282,  1970.417757,\n",
      "         1964.473598,  1972.782807,  1984.844562,  1974.580245],\n",
      "       [ 1993.827662,  1987.292251,  1998.110034,  1996.911609,\n",
      "         1990.887526,  1999.308459,  2011.532394,  2001.130065],\n",
      "       [ 1950.90403 ,  1944.509315,  1955.09421 ,  1953.921585,\n",
      "         1948.02719 ,  1956.266835,  1968.22761 ,  1958.049225],\n",
      "       [ 1991.581658,  1985.053609,  1995.859206,  1994.662131,\n",
      "         1988.644834,  1997.056281,  2009.266446,  1998.875835],\n",
      "       [ 2004.683348,  1998.112354,  2008.989036,  2007.784086,\n",
      "         2001.727204,  2010.193986,  2022.484476,  2012.02551 ],\n",
      "       [ 1976.109186,  1969.631853,  1980.353502,  1979.165727,\n",
      "         1973.195178,  1981.541277,  1993.656582,  1983.346695],\n",
      "       [ 1971.367622,  1964.905831,  1975.601754,  1974.416829,\n",
      "         1968.460606,  1976.786679,  1988.872914,  1978.587765],\n",
      "       [ 1974.237516,  1967.766318,  1978.477812,  1977.291162,\n",
      "         1971.326268,  1979.664462,  1991.768292,  1981.46817 ],\n",
      "       [ 1989.335654,  1982.814967,  1993.608378,  1992.412653,\n",
      "         1986.402142,  1994.804103,  2007.000498,  1996.621605],\n",
      "       [ 1967.374726,  1960.926023,  1971.600282,  1970.417757,\n",
      "         1964.473598,  1972.782807,  1984.844562,  1974.580245],\n",
      "       [ 1951.278364,  1944.882422,  1955.469348,  1954.296498,\n",
      "         1948.400972,  1956.642198,  1968.605268,  1958.42493 ],\n",
      "       [ 1994.950664,  1988.411572,  1999.235448,  1998.036348,\n",
      "         1992.008872,  2000.434548,  2012.665368,  2002.25718 ]]))\n"
     ]
    }
   ],
   "source": [
    "# The values returned by the function are (chi square value, p-value, degree of freedom and the contigency table)\n",
    "# The p value is 0.5605 > 0.05 which means that degree and jobType are independent.\n",
    "print chi_square_of_df_cols(df, 'companyIdCoded', 'jobTypeCoded')"
   ]
  },
  {
   "cell_type": "code",
   "execution_count": null,
   "metadata": {
    "collapsed": true
   },
   "outputs": [],
   "source": []
  }
 ],
 "metadata": {
  "kernelspec": {
   "display_name": "Python 2",
   "language": "python",
   "name": "python2"
  },
  "language_info": {
   "codemirror_mode": {
    "name": "ipython",
    "version": 2
   },
   "file_extension": ".py",
   "mimetype": "text/x-python",
   "name": "python",
   "nbconvert_exporter": "python",
   "pygments_lexer": "ipython2",
   "version": "2.7.13"
  }
 },
 "nbformat": 4,
 "nbformat_minor": 0
}
