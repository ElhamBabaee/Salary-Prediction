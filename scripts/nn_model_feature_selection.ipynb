{
 "cells": [
  {
   "cell_type": "code",
   "execution_count": 1,
   "metadata": {
    "collapsed": false
   },
   "outputs": [
    {
     "name": "stderr",
     "output_type": "stream",
     "text": [
      "Using Theano backend.\n"
     ]
    },
    {
     "name": "stdout",
     "output_type": "stream",
     "text": [
      "Couldn't import dot_parser, loading of dot files will not be possible.\n"
     ]
    }
   ],
   "source": [
    "# import the libraries\n",
    "import numpy as np\n",
    "import pandas as pd\n",
    "\n",
    "from keras.models import Sequential\n",
    "from keras.layers import Dense\n",
    "from keras.wrappers.scikit_learn import KerasRegressor\n",
    "from sklearn.model_selection import cross_val_score\n",
    "from sklearn.model_selection import KFold\n",
    "from sklearn.preprocessing import StandardScaler\n",
    "from sklearn.pipeline import Pipeline\n",
    "from sklearn.model_selection import train_test_split\n",
    "from sklearn.model_selection import GridSearchCV\n",
    "from sklearn.metrics import mean_squared_error, r2_score\n",
    "from keras.optimizers import SGD\n",
    "from keras.layers import Dropout"
   ]
  },
  {
   "cell_type": "code",
   "execution_count": 2,
   "metadata": {
    "collapsed": true
   },
   "outputs": [],
   "source": [
    "# 2 hidden layer architecture with Best parameters \n",
    "# neurons1 = number of neurons in layer 1 \n",
    "# neurons2 = number of neurons in layer 2 \n",
    "def deeper_model(neurons1=25,neurons2=10,dropout=0.0):\n",
    "\tmodel = Sequential()\n",
    "\tmodel.add(Dense(neurons1,input_dim=21,kernel_initializer='normal',activation='relu'))\n",
    "\tmodel.add(Dense(neurons2,kernel_initializer='normal',activation='relu'))\n",
    "\tmodel.add(Dropout(dropout))\n",
    "\tmodel.add(Dense(1,kernel_initializer='normal'))\n",
    "\n",
    "\tmodel.compile(loss='mean_squared_error',optimizer='adam')\n",
    "\treturn model\n",
    "\n",
    "\n",
    "\n",
    "# 1 hidden layer architecture with Best parameters \n",
    "# neurons1 = number of neurons in layer 1\n",
    "def baseline_model(neurons=25):\n",
    "\tmodel = Sequential()\n",
    "\tmodel.add(Dense(neurons,input_dim=21,kernel_initializer='normal',activation='relu'))\n",
    "\tmodel.add(Dense(1,kernel_initializer='normal'))\n",
    "\n",
    "\tmodel.compile(loss='mean_squared_error',optimizer='adam')\n",
    "\treturn model\n"
   ]
  },
  {
   "cell_type": "code",
   "execution_count": 9,
   "metadata": {
    "collapsed": true
   },
   "outputs": [],
   "source": [
    "# Perform Grid Search on the parameters\n",
    "def do_grid_search(model):\n",
    "\t# Experimenting with the batch_size, epochs, dropout,\n",
    "\t# neurons in layer 1 and neurons in layer 2\n",
    "\t\n",
    "\tbatch_size = [32] # best batch size\n",
    "\tepochs = [150] # best number of epochs\n",
    "\tdropout = [0.0]\n",
    "\tneurons1 = [30]\n",
    "\t# neurons1 = [15] # best number of neurons in layer1\n",
    "\tneurons2 = [12] # best is 10 with dropout 0.0\n",
    "\tparam_grid_bm = dict(epochs=epochs,batch_size=batch_size,neurons=neurons1)\n",
    "\t# param_grid_dm = dict(epochs=epochs,batch_size=batch_size,neurons1=neurons1,neurons2=neurons2,dropout=dropout)\n",
    "\tgrid = GridSearchCV(estimator=model,param_grid=param_grid_bm,verbose=10)\n",
    "\t# grid = GridSearchCV(estimator=model,param_grid=param_grid_dm,verbose=10)\n",
    "\tgrid_result = grid.fit(X_train,y_train)\n",
    "\n",
    "\treturn (grid,grid_result)\n",
    "\n",
    "\n",
    "\n",
    "def build_model():\n",
    "\tmodel = KerasRegressor(build_fn=baseline_model,verbose=0)\n",
    "\t# model = KerasRegressor(build_fn=deeper_model,verbose=0)\n",
    "\treturn model"
   ]
  },
  {
   "cell_type": "code",
   "execution_count": 4,
   "metadata": {
    "collapsed": true
   },
   "outputs": [],
   "source": [
    "# Splittng the data into training and test\n",
    "def split_into_training_and_test(X,y):\n",
    "\tX_train,X_test,y_train,y_test = train_test_split(X,y,test_size=0.50,random_state=42)\n",
    "\treturn (X_train,X_test,y_train,y_test)\n",
    "\n",
    "\n",
    "\n",
    "# Encoding the degree variable\n",
    "def encode_degree(row):\n",
    "    if row['degree'] == 'BACHELORS':\n",
    "        return 0\n",
    "    elif row['degree'] == 'DOCTORAL':\n",
    "        return 1\n",
    "    else:\n",
    "        return 2\n",
    "\n",
    "# Encoding the major variable\n",
    "def encode_major(row):\n",
    "    if row['major'] == 'NONE':\n",
    "        return 0\n",
    "    elif row['major'] == 'BUSINESS':\n",
    "        return 1\n",
    "    elif row['major'] == 'ENGINEERING':\n",
    "        return 2\n",
    "    else:\n",
    "        return 3\n",
    "    \n",
    "# Encoding the industry variable\n",
    "def encode_industry(row):\n",
    "    if row['industry'] == 'HEALTH':\n",
    "        return 0\n",
    "    elif row['industry'] == 'WEB':\n",
    "        return 1\n",
    "    elif row['industry'] == 'EDUCATION':\n",
    "        return 2\n",
    "    elif row['industry'] == 'OIL':\n",
    "        return 3\n",
    "    elif row['industry'] == 'FINANCE':\n",
    "        return 4\n",
    "    else:\n",
    "        return 5\n",
    "    \n",
    "    \n",
    "# Encoding the jobType variable\n",
    "def encode_jobType(row):\n",
    "    if row['jobType'] == 'JANITOR':\n",
    "        return 0\n",
    "    elif row['jobType'] == 'CEO':\n",
    "        return 1\n",
    "    elif row['jobType'] == 'CFO':\n",
    "        return 2\n",
    "    elif row['jobType'] == 'CTO':\n",
    "        return 3\n",
    "    elif row['jobType'] == 'JUNIOR':\n",
    "        return 4\n",
    "    else:\n",
    "        return 5"
   ]
  },
  {
   "cell_type": "code",
   "execution_count": 5,
   "metadata": {
    "collapsed": true
   },
   "outputs": [],
   "source": [
    "# Perform pre-procesing of the data.\n",
    "def preprocessing(df_feat,df_target):\n",
    "\t# Join the features and the target data frames.\n",
    "\tdf = df_feat.join(df_target,lsuffix='_feat',rsuffix='_target')\n",
    "\t# Drop redundant column\n",
    "\tdf.drop(['jobId_target'],axis=1,inplace=True)\n",
    "\t# Rename the column\n",
    "\tdf.columns = [u'jobId', u'companyId', u'jobType', u'degree', u'major',\n",
    "\t       u'industry', u'yearsExperience', u'milesFromMetropolis', u'salary']\n",
    "\n",
    "\tdf['degreeEncoded'] = df.apply(encode_degree,axis=1)\n",
    "\tdf['majorEncoded'] = df.apply(encode_major,axis=1)\n",
    "\tdf['industryEncoded'] = df.apply(encode_industry,axis=1)\n",
    "\tdf['jobTypeEncoded'] = df.apply(encode_jobType,axis=1)\n",
    "\n",
    "\tdf['degreeEncoded'] = df['degreeEncoded'].astype('category')\n",
    "\tdf['majorEncoded'] = df['majorEncoded'].astype('category')\n",
    "\tdf['industryEncoded'] = df['industryEncoded'].astype('category')\n",
    "\tdf['jobTypeEncoded'] = df['jobTypeEncoded'].astype('category')\n",
    "\n",
    "\tpredictor_columns = ['yearsExperience','milesFromMetropolis','degreeEncoded','majorEncoded','industryEncoded',\\\n",
    "                     'jobTypeEncoded']\n",
    "\ttarget_column = ['salary']\n",
    "\tX_train = df[predictor_columns]\n",
    "\ty_train = df[target_column] \n",
    "\n",
    "\tX_train = pd.get_dummies(X_train)\n",
    "\tX_train = X_train.values\n",
    "\ty_train = y_train.as_matrix()\n",
    "\n",
    "\treturn(X_train,y_train)\n",
    "\n",
    "\n",
    "# Read the data from the files.\n",
    "def read_data():\n",
    "\t# read the data into pandas data frames\n",
    "\tdf_feat = pd.read_csv('train_features_2013-03-07.csv',sep=',')\n",
    "\tdf_target = pd.read_csv('train_salaries_2013-03-07.csv',sep=',')\n",
    "\n",
    "\treturn (df_feat,df_target)\n"
   ]
  },
  {
   "cell_type": "code",
   "execution_count": 6,
   "metadata": {
    "collapsed": true
   },
   "outputs": [],
   "source": [
    "seed = 7\n",
    "np.random.seed(seed)\n",
    "\n",
    "df_feat,df_target = read_data()\n",
    "X_train,y_train = preprocessing(df_feat,df_target)\n",
    "X_train,X_test,y_train,y_test = split_into_training_and_test(X_train,y_train)"
   ]
  },
  {
   "cell_type": "code",
   "execution_count": 7,
   "metadata": {
    "collapsed": false
   },
   "outputs": [
    {
     "name": "stdout",
     "output_type": "stream",
     "text": [
      "Fitting 3 folds for each of 30 candidates, totalling 90 fits\n",
      "[CV] epochs=30, neurons=5, batch_size=32 .............................\n",
      "[CV]  epochs=30, neurons=5, batch_size=32, score=408.345788, total= 1.4min\n",
      "[CV] epochs=30, neurons=5, batch_size=32 .............................\n"
     ]
    },
    {
     "name": "stderr",
     "output_type": "stream",
     "text": [
      "[Parallel(n_jobs=1)]: Done   1 out of   1 | elapsed:  1.5min remaining:    0.0s\n"
     ]
    },
    {
     "name": "stdout",
     "output_type": "stream",
     "text": [
      "[CV]  epochs=30, neurons=5, batch_size=32, score=410.354842, total= 1.3min\n",
      "[CV] epochs=30, neurons=5, batch_size=32 .............................\n"
     ]
    },
    {
     "name": "stderr",
     "output_type": "stream",
     "text": [
      "[Parallel(n_jobs=1)]: Done   2 out of   2 | elapsed:  2.8min remaining:    0.0s\n"
     ]
    },
    {
     "name": "stdout",
     "output_type": "stream",
     "text": [
      "[CV]  epochs=30, neurons=5, batch_size=32, score=412.240803, total= 1.3min\n",
      "[CV] epochs=30, neurons=10, batch_size=32 ............................\n"
     ]
    },
    {
     "name": "stderr",
     "output_type": "stream",
     "text": [
      "[Parallel(n_jobs=1)]: Done   3 out of   3 | elapsed:  4.1min remaining:    0.0s\n"
     ]
    },
    {
     "name": "stdout",
     "output_type": "stream",
     "text": [
      "[CV]  epochs=30, neurons=10, batch_size=32, score=407.481593, total= 1.6min\n",
      "[CV] epochs=30, neurons=10, batch_size=32 ............................\n"
     ]
    },
    {
     "name": "stderr",
     "output_type": "stream",
     "text": [
      "[Parallel(n_jobs=1)]: Done   4 out of   4 | elapsed:  5.8min remaining:    0.0s\n"
     ]
    },
    {
     "name": "stdout",
     "output_type": "stream",
     "text": [
      "[CV]  epochs=30, neurons=10, batch_size=32, score=406.458152, total= 1.7min\n",
      "[CV] epochs=30, neurons=10, batch_size=32 ............................\n"
     ]
    },
    {
     "name": "stderr",
     "output_type": "stream",
     "text": [
      "[Parallel(n_jobs=1)]: Done   5 out of   5 | elapsed:  7.5min remaining:    0.0s\n"
     ]
    },
    {
     "name": "stdout",
     "output_type": "stream",
     "text": [
      "[CV]  epochs=30, neurons=10, batch_size=32, score=411.911304, total= 1.4min\n",
      "[CV] epochs=30, neurons=15, batch_size=32 ............................\n"
     ]
    },
    {
     "name": "stderr",
     "output_type": "stream",
     "text": [
      "[Parallel(n_jobs=1)]: Done   6 out of   6 | elapsed:  8.9min remaining:    0.0s\n"
     ]
    },
    {
     "name": "stdout",
     "output_type": "stream",
     "text": [
      "[CV]  epochs=30, neurons=15, batch_size=32, score=395.643517, total= 1.6min\n",
      "[CV] epochs=30, neurons=15, batch_size=32 ............................\n"
     ]
    },
    {
     "name": "stderr",
     "output_type": "stream",
     "text": [
      "[Parallel(n_jobs=1)]: Done   7 out of   7 | elapsed: 10.5min remaining:    0.0s\n"
     ]
    },
    {
     "name": "stdout",
     "output_type": "stream",
     "text": [
      "[CV]  epochs=30, neurons=15, batch_size=32, score=397.988823, total= 1.7min\n",
      "[CV] epochs=30, neurons=15, batch_size=32 ............................\n"
     ]
    },
    {
     "name": "stderr",
     "output_type": "stream",
     "text": [
      "[Parallel(n_jobs=1)]: Done   8 out of   8 | elapsed: 12.2min remaining:    0.0s\n"
     ]
    },
    {
     "name": "stdout",
     "output_type": "stream",
     "text": [
      "[CV]  epochs=30, neurons=15, batch_size=32, score=407.783456, total= 1.7min\n",
      "[CV] epochs=30, neurons=20, batch_size=32 ............................\n"
     ]
    },
    {
     "name": "stderr",
     "output_type": "stream",
     "text": [
      "[Parallel(n_jobs=1)]: Done   9 out of   9 | elapsed: 13.9min remaining:    0.0s\n"
     ]
    },
    {
     "name": "stdout",
     "output_type": "stream",
     "text": [
      "[CV]  epochs=30, neurons=20, batch_size=32, score=406.458368, total= 1.4min\n",
      "[CV] epochs=30, neurons=20, batch_size=32 ............................\n",
      "[CV]  epochs=30, neurons=20, batch_size=32, score=401.453792, total= 1.4min\n",
      "[CV] epochs=30, neurons=20, batch_size=32 ............................\n",
      "[CV]  epochs=30, neurons=20, batch_size=32, score=403.876710, total= 1.4min\n",
      "[CV] epochs=30, neurons=25, batch_size=32 ............................\n",
      "[CV]  epochs=30, neurons=25, batch_size=32, score=397.514073, total= 1.5min\n",
      "[CV] epochs=30, neurons=25, batch_size=32 ............................\n",
      "[CV]  epochs=30, neurons=25, batch_size=32, score=403.190828, total= 1.4min\n",
      "[CV] epochs=30, neurons=25, batch_size=32 ............................\n",
      "[CV]  epochs=30, neurons=25, batch_size=32, score=398.808921, total= 1.5min\n",
      "[CV] epochs=30, neurons=30, batch_size=32 ............................\n",
      "[CV]  epochs=30, neurons=30, batch_size=32, score=394.779080, total= 1.5min\n",
      "[CV] epochs=30, neurons=30, batch_size=32 ............................\n",
      "[CV]  epochs=30, neurons=30, batch_size=32, score=396.404136, total= 1.5min\n",
      "[CV] epochs=30, neurons=30, batch_size=32 ............................\n",
      "[CV]  epochs=30, neurons=30, batch_size=32, score=398.049098, total= 1.5min\n",
      "[CV] epochs=30, neurons=5, batch_size=64 .............................\n",
      "[CV]  epochs=30, neurons=5, batch_size=64, score=411.902294, total=  43.1s\n",
      "[CV] epochs=30, neurons=5, batch_size=64 .............................\n",
      "[CV]  epochs=30, neurons=5, batch_size=64, score=409.507188, total=  49.4s\n",
      "[CV] epochs=30, neurons=5, batch_size=64 .............................\n",
      "[CV]  epochs=30, neurons=5, batch_size=64, score=420.901025, total=  49.6s\n",
      "[CV] epochs=30, neurons=10, batch_size=64 ............................\n",
      "[CV]  epochs=30, neurons=10, batch_size=64, score=405.355889, total=  46.9s\n",
      "[CV] epochs=30, neurons=10, batch_size=64 ............................\n",
      "[CV]  epochs=30, neurons=10, batch_size=64, score=409.685846, total=  53.1s\n",
      "[CV] epochs=30, neurons=10, batch_size=64 ............................\n",
      "[CV]  epochs=30, neurons=10, batch_size=64, score=411.414408, total=  53.4s\n",
      "[CV] epochs=30, neurons=15, batch_size=64 ............................\n",
      "[CV]  epochs=30, neurons=15, batch_size=64, score=403.986509, total=  54.0s\n",
      "[CV] epochs=30, neurons=15, batch_size=64 ............................\n",
      "[CV]  epochs=30, neurons=15, batch_size=64, score=406.051107, total=  53.3s\n",
      "[CV] epochs=30, neurons=15, batch_size=64 ............................\n",
      "[CV]  epochs=30, neurons=15, batch_size=64, score=403.475304, total=  53.2s\n",
      "[CV] epochs=30, neurons=20, batch_size=64 ............................\n",
      "[CV]  epochs=30, neurons=20, batch_size=64, score=399.335775, total=  54.0s\n",
      "[CV] epochs=30, neurons=20, batch_size=64 ............................\n",
      "[CV]  epochs=30, neurons=20, batch_size=64, score=409.727903, total=  59.6s\n",
      "[CV] epochs=30, neurons=20, batch_size=64 ............................\n",
      "[CV]  epochs=30, neurons=20, batch_size=64, score=411.522355, total=  46.2s\n",
      "[CV] epochs=30, neurons=25, batch_size=64 ............................\n",
      "[CV]  epochs=30, neurons=25, batch_size=64, score=400.066752, total=  48.6s\n",
      "[CV] epochs=30, neurons=25, batch_size=64 ............................\n",
      "[CV]  epochs=30, neurons=25, batch_size=64, score=404.136551, total=  47.1s\n",
      "[CV] epochs=30, neurons=25, batch_size=64 ............................\n",
      "[CV]  epochs=30, neurons=25, batch_size=64, score=406.154865, total=  54.9s\n",
      "[CV] epochs=30, neurons=30, batch_size=64 ............................\n",
      "[CV]  epochs=30, neurons=30, batch_size=64, score=400.281562, total=  56.7s\n",
      "[CV] epochs=30, neurons=30, batch_size=64 ............................\n",
      "[CV]  epochs=30, neurons=30, batch_size=64, score=400.584898, total=  58.0s\n",
      "[CV] epochs=30, neurons=30, batch_size=64 ............................\n",
      "[CV]  epochs=30, neurons=30, batch_size=64, score=403.445404, total=  58.2s\n",
      "[CV] epochs=30, neurons=5, batch_size=128 ............................\n",
      "[CV]  epochs=30, neurons=5, batch_size=128, score=408.784908, total=  25.6s\n",
      "[CV] epochs=30, neurons=5, batch_size=128 ............................\n",
      "[CV]  epochs=30, neurons=5, batch_size=128, score=411.522585, total=  24.9s\n",
      "[CV] epochs=30, neurons=5, batch_size=128 ............................\n",
      "[CV]  epochs=30, neurons=5, batch_size=128, score=423.801457, total=  25.3s\n",
      "[CV] epochs=30, neurons=10, batch_size=128 ...........................\n",
      "[CV]  epochs=30, neurons=10, batch_size=128, score=400.026759, total=  26.2s\n",
      "[CV] epochs=30, neurons=10, batch_size=128 ...........................\n",
      "[CV]  epochs=30, neurons=10, batch_size=128, score=400.116185, total=  26.8s\n",
      "[CV] epochs=30, neurons=10, batch_size=128 ...........................\n",
      "[CV]  epochs=30, neurons=10, batch_size=128, score=411.767148, total=  26.4s\n",
      "[CV] epochs=30, neurons=15, batch_size=128 ...........................\n",
      "[CV]  epochs=30, neurons=15, batch_size=128, score=400.419168, total=  28.6s\n",
      "[CV] epochs=30, neurons=15, batch_size=128 ...........................\n",
      "[CV]  epochs=30, neurons=15, batch_size=128, score=407.381571, total=  31.2s\n",
      "[CV] epochs=30, neurons=15, batch_size=128 ...........................\n",
      "[CV]  epochs=30, neurons=15, batch_size=128, score=410.715770, total=  34.7s\n",
      "[CV] epochs=30, neurons=20, batch_size=128 ...........................\n",
      "[CV]  epochs=30, neurons=20, batch_size=128, score=400.872869, total=  29.9s\n",
      "[CV] epochs=30, neurons=20, batch_size=128 ...........................\n",
      "[CV]  epochs=30, neurons=20, batch_size=128, score=402.286217, total=  28.1s\n",
      "[CV] epochs=30, neurons=20, batch_size=128 ...........................\n",
      "[CV]  epochs=30, neurons=20, batch_size=128, score=407.679210, total=  30.9s\n",
      "[CV] epochs=30, neurons=25, batch_size=128 ...........................\n",
      "[CV]  epochs=30, neurons=25, batch_size=128, score=400.982423, total=  28.8s\n",
      "[CV] epochs=30, neurons=25, batch_size=128 ...........................\n",
      "[CV]  epochs=30, neurons=25, batch_size=128, score=397.908519, total=  29.8s\n",
      "[CV] epochs=30, neurons=25, batch_size=128 ...........................\n",
      "[CV]  epochs=30, neurons=25, batch_size=128, score=399.483825, total=  36.5s\n",
      "[CV] epochs=30, neurons=30, batch_size=128 ...........................\n",
      "[CV]  epochs=30, neurons=30, batch_size=128, score=394.960845, total=  42.2s\n",
      "[CV] epochs=30, neurons=30, batch_size=128 ...........................\n",
      "[CV]  epochs=30, neurons=30, batch_size=128, score=396.520134, total=  36.2s\n",
      "[CV] epochs=30, neurons=30, batch_size=128 ...........................\n",
      "[CV]  epochs=30, neurons=30, batch_size=128, score=399.116905, total=  32.8s\n",
      "[CV] epochs=30, neurons=5, batch_size=256 ............................\n",
      "[CV]  epochs=30, neurons=5, batch_size=256, score=409.861292, total=  15.6s\n",
      "[CV] epochs=30, neurons=5, batch_size=256 ............................\n",
      "[CV]  epochs=30, neurons=5, batch_size=256, score=412.403580, total=  15.8s\n",
      "[CV] epochs=30, neurons=5, batch_size=256 ............................\n",
      "[CV]  epochs=30, neurons=5, batch_size=256, score=411.501694, total=  15.8s\n",
      "[CV] epochs=30, neurons=10, batch_size=256 ...........................\n",
      "[CV]  epochs=30, neurons=10, batch_size=256, score=409.131919, total=  16.8s\n",
      "[CV] epochs=30, neurons=10, batch_size=256 ...........................\n",
      "[CV]  epochs=30, neurons=10, batch_size=256, score=406.721988, total=  16.9s\n",
      "[CV] epochs=30, neurons=10, batch_size=256 ...........................\n",
      "[CV]  epochs=30, neurons=10, batch_size=256, score=408.180853, total=  16.5s\n",
      "[CV] epochs=30, neurons=15, batch_size=256 ...........................\n",
      "[CV]  epochs=30, neurons=15, batch_size=256, score=411.761942, total=  23.2s\n",
      "[CV] epochs=30, neurons=15, batch_size=256 ...........................\n",
      "[CV]  epochs=30, neurons=15, batch_size=256, score=409.758019, total=  22.8s\n",
      "[CV] epochs=30, neurons=15, batch_size=256 ...........................\n",
      "[CV]  epochs=30, neurons=15, batch_size=256, score=409.220292, total=  23.0s\n",
      "[CV] epochs=30, neurons=20, batch_size=256 ...........................\n",
      "[CV]  epochs=30, neurons=20, batch_size=256, score=399.850628, total=  23.0s\n",
      "[CV] epochs=30, neurons=20, batch_size=256 ...........................\n",
      "[CV]  epochs=30, neurons=20, batch_size=256, score=399.839260, total=  22.7s\n",
      "[CV] epochs=30, neurons=20, batch_size=256 ...........................\n",
      "[CV]  epochs=30, neurons=20, batch_size=256, score=411.030736, total=  22.9s\n",
      "[CV] epochs=30, neurons=25, batch_size=256 ...........................\n",
      "[CV]  epochs=30, neurons=25, batch_size=256, score=404.135439, total=  23.8s\n",
      "[CV] epochs=30, neurons=25, batch_size=256 ...........................\n",
      "[CV]  epochs=30, neurons=25, batch_size=256, score=397.011039, total=  23.3s\n",
      "[CV] epochs=30, neurons=25, batch_size=256 ...........................\n",
      "[CV]  epochs=30, neurons=25, batch_size=256, score=403.437639, total=  25.7s\n",
      "[CV] epochs=30, neurons=30, batch_size=256 ...........................\n",
      "[CV]  epochs=30, neurons=30, batch_size=256, score=395.428351, total=  24.0s\n",
      "[CV] epochs=30, neurons=30, batch_size=256 ...........................\n",
      "[CV]  epochs=30, neurons=30, batch_size=256, score=397.835789, total=  24.0s\n",
      "[CV] epochs=30, neurons=30, batch_size=256 ...........................\n",
      "[CV]  epochs=30, neurons=30, batch_size=256, score=399.715713, total=  24.3s\n",
      "[CV] epochs=30, neurons=5, batch_size=512 ............................\n",
      "[CV]  epochs=30, neurons=5, batch_size=512, score=411.856104, total=  11.3s\n",
      "[CV] epochs=30, neurons=5, batch_size=512 ............................\n",
      "[CV]  epochs=30, neurons=5, batch_size=512, score=416.515546, total=  11.2s\n",
      "[CV] epochs=30, neurons=5, batch_size=512 ............................\n",
      "[CV]  epochs=30, neurons=5, batch_size=512, score=412.095601, total=  13.3s\n",
      "[CV] epochs=30, neurons=10, batch_size=512 ...........................\n",
      "[CV]  epochs=30, neurons=10, batch_size=512, score=404.268039, total=  13.7s\n",
      "[CV] epochs=30, neurons=10, batch_size=512 ...........................\n",
      "[CV]  epochs=30, neurons=10, batch_size=512, score=407.944226, total=  13.8s\n",
      "[CV] epochs=30, neurons=10, batch_size=512 ...........................\n",
      "[CV]  epochs=30, neurons=10, batch_size=512, score=408.299144, total=  13.4s\n",
      "[CV] epochs=30, neurons=15, batch_size=512 ...........................\n",
      "[CV]  epochs=30, neurons=15, batch_size=512, score=401.440425, total=  15.0s\n",
      "[CV] epochs=30, neurons=15, batch_size=512 ...........................\n",
      "[CV]  epochs=30, neurons=15, batch_size=512, score=401.997559, total=  14.9s\n",
      "[CV] epochs=30, neurons=15, batch_size=512 ...........................\n",
      "[CV]  epochs=30, neurons=15, batch_size=512, score=412.601805, total=  14.9s\n",
      "[CV] epochs=30, neurons=20, batch_size=512 ...........................\n",
      "[CV]  epochs=30, neurons=20, batch_size=512, score=400.877406, total=  15.4s\n",
      "[CV] epochs=30, neurons=20, batch_size=512 ...........................\n",
      "[CV]  epochs=30, neurons=20, batch_size=512, score=406.177553, total=  15.0s\n",
      "[CV] epochs=30, neurons=20, batch_size=512 ...........................\n",
      "[CV]  epochs=30, neurons=20, batch_size=512, score=404.141352, total=  15.5s\n",
      "[CV] epochs=30, neurons=25, batch_size=512 ...........................\n",
      "[CV]  epochs=30, neurons=25, batch_size=512, score=400.485542, total=  15.9s\n",
      "[CV] epochs=30, neurons=25, batch_size=512 ...........................\n",
      "[CV]  epochs=30, neurons=25, batch_size=512, score=398.496851, total=  15.9s\n",
      "[CV] epochs=30, neurons=25, batch_size=512 ...........................\n",
      "[CV]  epochs=30, neurons=25, batch_size=512, score=410.736157, total=  16.0s\n",
      "[CV] epochs=30, neurons=30, batch_size=512 ...........................\n",
      "[CV]  epochs=30, neurons=30, batch_size=512, score=396.474837, total=  16.2s\n",
      "[CV] epochs=30, neurons=30, batch_size=512 ...........................\n",
      "[CV]  epochs=30, neurons=30, batch_size=512, score=401.879545, total=  16.5s\n",
      "[CV] epochs=30, neurons=30, batch_size=512 ...........................\n",
      "[CV]  epochs=30, neurons=30, batch_size=512, score=404.221293, total=  16.4s\n"
     ]
    },
    {
     "name": "stderr",
     "output_type": "stream",
     "text": [
      "[Parallel(n_jobs=1)]: Done  90 out of  90 | elapsed: 63.0min finished\n"
     ]
    },
    {
     "name": "stdout",
     "output_type": "stream",
     "text": [
      "mean_squared_error:  409.847080818\n",
      "R2 score:  0.726676557836\n",
      "Best: 414.702965 using {'epochs': 30, 'neurons': 5, 'batch_size': 128}\n",
      "410.313807 (1.590397) with: {'epochs': 30, 'neurons': 5, 'batch_size': 32}\n",
      "408.617009 (2.366586) with: {'epochs': 30, 'neurons': 10, 'batch_size': 32}\n",
      "400.471917 (5.257935) with: {'epochs': 30, 'neurons': 15, 'batch_size': 32}\n",
      "403.929624 (2.043454) with: {'epochs': 30, 'neurons': 20, 'batch_size': 32}\n",
      "399.837943 (2.429068) with: {'epochs': 30, 'neurons': 25, 'batch_size': 32}\n",
      "396.410768 (1.334987) with: {'epochs': 30, 'neurons': 30, 'batch_size': 32}\n",
      "414.103488 (4.905018) with: {'epochs': 30, 'neurons': 5, 'batch_size': 64}\n",
      "408.818709 (2.548248) with: {'epochs': 30, 'neurons': 10, 'batch_size': 64}\n",
      "404.504309 (1.113486) with: {'epochs': 30, 'neurons': 15, 'batch_size': 64}\n",
      "406.862002 (5.372039) with: {'epochs': 30, 'neurons': 20, 'batch_size': 64}\n",
      "403.452717 (2.532060) with: {'epochs': 30, 'neurons': 25, 'batch_size': 64}\n",
      "401.437284 (1.425340) with: {'epochs': 30, 'neurons': 30, 'batch_size': 64}\n",
      "414.702965 (6.529944) with: {'epochs': 30, 'neurons': 5, 'batch_size': 128}\n",
      "403.970015 (5.513510) with: {'epochs': 30, 'neurons': 10, 'batch_size': 128}\n",
      "406.172161 (4.289676) with: {'epochs': 30, 'neurons': 15, 'batch_size': 128}\n",
      "403.612757 (2.932728) with: {'epochs': 30, 'neurons': 20, 'batch_size': 128}\n",
      "399.458255 (1.255048) with: {'epochs': 30, 'neurons': 25, 'batch_size': 128}\n",
      "396.865957 (1.714234) with: {'epochs': 30, 'neurons': 30, 'batch_size': 128}\n",
      "411.255521 (1.052382) with: {'epochs': 30, 'neurons': 5, 'batch_size': 256}\n",
      "408.011587 (0.991105) with: {'epochs': 30, 'neurons': 10, 'batch_size': 256}\n",
      "410.246753 (1.093661) with: {'epochs': 30, 'neurons': 15, 'batch_size': 256}\n",
      "403.573526 (5.273030) with: {'epochs': 30, 'neurons': 20, 'batch_size': 256}\n",
      "401.528035 (3.206682) with: {'epochs': 30, 'neurons': 25, 'batch_size': 256}\n",
      "397.659947 (1.754718) with: {'epochs': 30, 'neurons': 30, 'batch_size': 256}\n",
      "413.489086 (2.142266) with: {'epochs': 30, 'neurons': 5, 'batch_size': 512}\n",
      "406.837133 (1.822396) with: {'epochs': 30, 'neurons': 10, 'batch_size': 512}\n",
      "405.346582 (5.135242) with: {'epochs': 30, 'neurons': 15, 'batch_size': 512}\n",
      "403.732103 (2.183043) with: {'epochs': 30, 'neurons': 20, 'batch_size': 512}\n",
      "403.239502 (5.362732) with: {'epochs': 30, 'neurons': 25, 'batch_size': 512}\n",
      "400.858552 (3.243836) with: {'epochs': 30, 'neurons': 30, 'batch_size': 512}\n"
     ]
    }
   ],
   "source": [
    "model = build_model()\n",
    "grid,grid_result = do_grid_search(model)\n",
    "\n",
    "# Predicting and printing the results\n",
    "y_pred = grid.best_estimator_.predict(X_test)\n",
    "print \"mean_squared_error: \", mean_squared_error(y_test,y_pred)\n",
    "print \"R2 score: \", r2_score(y_test,y_pred)\n",
    "\n",
    "# Printing the results of the grid search\n",
    "print(\"Best: %f using %s\" % (grid_result.best_score_, grid_result.best_params_))\n",
    "means = grid_result.cv_results_['mean_test_score']\n",
    "stds = grid_result.cv_results_['std_test_score']\n",
    "params = grid_result.cv_results_['params']\n",
    "for mean, stdev, param in zip(means, stds, params):\n",
    "    print(\"%f (%f) with: %r\" % (mean, stdev, param))"
   ]
  },
  {
   "cell_type": "code",
   "execution_count": 10,
   "metadata": {
    "collapsed": false
   },
   "outputs": [
    {
     "name": "stdout",
     "output_type": "stream",
     "text": [
      "Fitting 3 folds for each of 1 candidates, totalling 3 fits\n",
      "[CV] epochs=150, neurons=30, batch_size=32 ...........................\n",
      "[CV]  epochs=150, neurons=30, batch_size=32, score=394.032588, total= 7.8min\n",
      "[CV] epochs=150, neurons=30, batch_size=32 ...........................\n"
     ]
    },
    {
     "name": "stderr",
     "output_type": "stream",
     "text": [
      "[Parallel(n_jobs=1)]: Done   1 out of   1 | elapsed:  7.8min remaining:    0.0s\n"
     ]
    },
    {
     "name": "stdout",
     "output_type": "stream",
     "text": [
      "[CV]  epochs=150, neurons=30, batch_size=32, score=395.736921, total= 8.0min\n",
      "[CV] epochs=150, neurons=30, batch_size=32 ...........................\n"
     ]
    },
    {
     "name": "stderr",
     "output_type": "stream",
     "text": [
      "[Parallel(n_jobs=1)]: Done   2 out of   2 | elapsed: 15.9min remaining:    0.0s\n"
     ]
    },
    {
     "name": "stdout",
     "output_type": "stream",
     "text": [
      "[CV]  epochs=150, neurons=30, batch_size=32, score=396.787088, total= 8.0min\n"
     ]
    },
    {
     "name": "stderr",
     "output_type": "stream",
     "text": [
      "[Parallel(n_jobs=1)]: Done   3 out of   3 | elapsed: 23.9min remaining:    0.0s\n",
      "[Parallel(n_jobs=1)]: Done   3 out of   3 | elapsed: 23.9min finished\n"
     ]
    },
    {
     "name": "stdout",
     "output_type": "stream",
     "text": [
      "mean_squared_error:  395.315518792\n",
      "R2 score:  0.73636752976\n",
      "Best: 395.518863 using {'epochs': 150, 'neurons': 30, 'batch_size': 32}\n",
      "395.518863 (1.135041) with: {'epochs': 150, 'neurons': 30, 'batch_size': 32}\n"
     ]
    }
   ],
   "source": [
    "model = build_model()\n",
    "grid,grid_result = do_grid_search(model)\n",
    "\n",
    "# Predicting and printing the results\n",
    "y_pred = grid.best_estimator_.predict(X_test)\n",
    "print \"mean_squared_error: \", mean_squared_error(y_test,y_pred)\n",
    "print \"R2 score: \", r2_score(y_test,y_pred)\n",
    "\n",
    "# Printing the results of the grid search\n",
    "print(\"Best: %f using %s\" % (grid_result.best_score_, grid_result.best_params_))\n",
    "means = grid_result.cv_results_['mean_test_score']\n",
    "stds = grid_result.cv_results_['std_test_score']\n",
    "params = grid_result.cv_results_['params']\n",
    "for mean, stdev, param in zip(means, stds, params):\n",
    "    print(\"%f (%f) with: %r\" % (mean, stdev, param))"
   ]
  },
  {
   "cell_type": "code",
   "execution_count": null,
   "metadata": {
    "collapsed": true
   },
   "outputs": [],
   "source": []
  }
 ],
 "metadata": {
  "kernelspec": {
   "display_name": "Python 2",
   "language": "python",
   "name": "python2"
  },
  "language_info": {
   "codemirror_mode": {
    "name": "ipython",
    "version": 2
   },
   "file_extension": ".py",
   "mimetype": "text/x-python",
   "name": "python",
   "nbconvert_exporter": "python",
   "pygments_lexer": "ipython2",
   "version": "2.7.13"
  }
 },
 "nbformat": 4,
 "nbformat_minor": 0
}
