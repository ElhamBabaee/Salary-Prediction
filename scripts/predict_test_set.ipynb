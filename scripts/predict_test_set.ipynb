{
 "cells": [
  {
   "cell_type": "code",
   "execution_count": 1,
   "metadata": {
    "collapsed": false
   },
   "outputs": [
    {
     "name": "stderr",
     "output_type": "stream",
     "text": [
      "/Users/saarthakkhanna/anaconda2/lib/python2.7/site-packages/matplotlib/font_manager.py:273: UserWarning: Matplotlib is building the font cache using fc-list. This may take a moment.\n",
      "  warnings.warn('Matplotlib is building the font cache using fc-list. This may take a moment.')\n"
     ]
    }
   ],
   "source": [
    "# import the libraries\n",
    "import pandas as pd\n",
    "import numpy as np\n",
    "import matplotlib.pyplot as plt\n",
    "import seaborn as sns\n",
    "from sklearn.ensemble import GradientBoostingRegressor"
   ]
  },
  {
   "cell_type": "code",
   "execution_count": 2,
   "metadata": {
    "collapsed": true
   },
   "outputs": [],
   "source": [
    "# read the data into pandas data frames.\n",
    "df_feat = pd.read_csv('train_features_2013-03-07.csv',sep=',')\n",
    "df_target = pd.read_csv('train_salaries_2013-03-07.csv',sep=',')\n",
    "# Join the features and the target data frames.\n",
    "df = df_feat.join(df_target,lsuffix='_feat',rsuffix='_target')\n",
    "# Drop redundant column\n",
    "df.drop(['jobId_target'],axis=1,inplace=True)\n",
    "# Rename the column\n",
    "df.columns = [u'jobId', u'companyId', u'jobType', u'degree', u'major',\n",
    "       u'industry', u'yearsExperience', u'milesFromMetropolis', u'salary']"
   ]
  },
  {
   "cell_type": "code",
   "execution_count": 3,
   "metadata": {
    "collapsed": true
   },
   "outputs": [],
   "source": [
    "# Converting the columns to 'category' type.\n",
    "df['jobType'] = df['jobType'].astype('category')\n",
    "df['major'] = df['major'].astype('category')\n",
    "df['degree'] = df['degree'].astype('category')\n",
    "df['industry'] = df['industry'].astype('category')"
   ]
  },
  {
   "cell_type": "code",
   "execution_count": 4,
   "metadata": {
    "collapsed": true
   },
   "outputs": [],
   "source": [
    "# Choosing 'jobType','degree','major','industry','yearsExperience','milesFromMetropolis' as features for prediction.\n",
    "# salary is our target variable.\n",
    "predictor_columns = ['jobType','degree','major','industry','yearsExperience','milesFromMetropolis']\n",
    "target_column = ['salary']\n",
    "train_x = df[predictor_columns]\n",
    "train_y = df[target_column] "
   ]
  },
  {
   "cell_type": "code",
   "execution_count": 5,
   "metadata": {
    "collapsed": true
   },
   "outputs": [],
   "source": [
    "# Encode the categorical variables\n",
    "train_x = pd.get_dummies(train_x)"
   ]
  },
  {
   "cell_type": "code",
   "execution_count": 10,
   "metadata": {
    "collapsed": false
   },
   "outputs": [
    {
     "name": "stderr",
     "output_type": "stream",
     "text": [
      "/Users/saarthakkhanna/anaconda2/lib/python2.7/site-packages/sklearn/utils/validation.py:526: DataConversionWarning: A column-vector y was passed when a 1d array was expected. Please change the shape of y to (n_samples, ), for example using ravel().\n",
      "  y = column_or_1d(y, warn=True)\n"
     ]
    },
    {
     "name": "stdout",
     "output_type": "stream",
     "text": [
      "      Iter       Train Loss   Remaining Time \n",
      "         1        1338.4885           18.62m\n",
      "         2        1207.4652           17.84m\n",
      "         3        1099.4195           17.34m\n",
      "         4        1009.1919           17.04m\n",
      "         5         933.2072           16.83m\n",
      "         6         869.1195           16.66m\n",
      "         7         813.1739           16.51m\n",
      "         8         766.0781           16.34m\n",
      "         9         724.7665           16.19m\n",
      "        10         686.6425           16.16m\n",
      "        11         653.1713           16.07m\n",
      "        12         624.3714           15.97m\n",
      "        13         596.9420           16.00m\n",
      "        14         573.5535           15.93m\n",
      "        15         554.0265           15.88m\n",
      "        16         535.7504           15.79m\n",
      "        17         519.5516           15.64m\n",
      "        18         504.8930           15.60m\n",
      "        19         491.5705           15.48m\n",
      "        20         479.9661           15.34m\n",
      "        21         469.7543           15.26m\n",
      "        22         459.9117           15.14m\n",
      "        23         451.6662           15.09m\n",
      "        24         443.7717           15.06m\n",
      "        25         436.1826           14.90m\n",
      "        26         430.0051           14.78m\n",
      "        27         423.9082           14.66m\n",
      "        28         418.8545           14.57m\n",
      "        29         413.9454           14.41m\n",
      "        30         409.6134           14.32m\n",
      "        31         405.8134           14.23m\n",
      "        32         402.0591           14.16m\n",
      "        33         398.4827           14.01m\n",
      "        34         395.5241           13.86m\n",
      "        35         392.8694           13.75m\n",
      "        36         390.5073           13.66m\n",
      "        37         388.0566           13.54m\n",
      "        38         385.8299           13.37m\n",
      "        39         383.9220           13.26m\n",
      "        40         382.1348           13.17m\n",
      "        41         379.6945           13.01m\n",
      "        42         378.3512           12.91m\n",
      "        43         376.9614           12.85m\n",
      "        44         375.7050           12.75m\n",
      "        45         374.5012           12.62m\n",
      "        46         373.0749           12.49m\n",
      "        47         372.1294           12.40m\n",
      "        48         371.2244           12.31m\n",
      "        49         370.3673           12.19m\n",
      "        50         369.3189           12.09m\n",
      "        51         368.5986           12.02m\n",
      "        52         367.9560           11.96m\n",
      "        53         367.2753           11.83m\n",
      "        54         366.6611           11.73m\n",
      "        55         365.9839           11.56m\n",
      "        56         365.5375           11.44m\n",
      "        57         365.0272           11.31m\n",
      "        58         364.2796           11.16m\n",
      "        59         363.9121           11.04m\n",
      "        60         363.4483           10.92m\n",
      "        61         363.1111           10.82m\n",
      "        62         362.7283           10.66m\n",
      "        63         362.2141           10.55m\n",
      "        64         361.9263           10.44m\n",
      "        65         361.5637           10.32m\n",
      "        66         360.9977           10.17m\n",
      "        67         360.5829           10.05m\n",
      "        68         360.3798            9.93m\n",
      "        69         360.0897            9.80m\n",
      "        70         359.7310            9.69m\n",
      "        71         359.3309            9.54m\n",
      "        72         359.1606            9.41m\n",
      "        73         358.9756            9.28m\n",
      "        74         358.7774            9.16m\n",
      "        75         358.6016            9.03m\n",
      "        76         358.4485            8.91m\n",
      "        77         358.2959            8.78m\n",
      "        78         357.8857            8.64m\n",
      "        79         357.7547            8.53m\n",
      "        80         357.5170            8.39m\n",
      "        81         357.4203            8.27m\n",
      "        82         357.2241            8.13m\n",
      "        83         357.0991            8.01m\n",
      "        84         357.0040            7.87m\n",
      "        85         356.7675            7.74m\n",
      "        86         356.6836            7.61m\n",
      "        87         356.5280            7.48m\n",
      "        88         356.3491            7.35m\n",
      "        89         356.2861            7.23m\n",
      "        90         356.2020            7.11m\n",
      "        91         356.0604            6.99m\n",
      "        92         355.9753            6.86m\n",
      "        93         355.8291            6.73m\n",
      "        94         355.7551            6.61m\n",
      "        95         355.6675            6.48m\n",
      "        96         355.6132            6.37m\n",
      "        97         355.4988            6.24m\n",
      "        98         355.3979            6.11m\n",
      "        99         355.3477            6.00m\n",
      "       100         355.3017            5.90m\n",
      "       101         355.2156            5.77m\n",
      "       102         355.1491            5.65m\n",
      "       103         355.1199            5.53m\n",
      "       104         355.0687            5.40m\n",
      "       105         354.9454            5.27m\n",
      "       106         354.9079            5.15m\n",
      "       107         354.8694            5.03m\n",
      "       108         354.8401            4.91m\n",
      "       109         354.7417            4.79m\n",
      "       110         354.6987            4.67m\n",
      "       111         354.6638            4.54m\n",
      "       112         354.6369            4.43m\n",
      "       113         354.5696            4.30m\n",
      "       114         354.5266            4.19m\n",
      "       115         354.4824            4.08m\n",
      "       116         354.4312            3.96m\n",
      "       117         354.3909            3.84m\n",
      "       118         354.3502            3.72m\n",
      "       119         354.3153            3.61m\n",
      "       120         354.2743            3.49m\n",
      "       121         354.2142            3.37m\n",
      "       122         354.1805            3.26m\n",
      "       123         354.1385            3.14m\n",
      "       124         354.1197            3.03m\n",
      "       125         354.0733            2.91m\n",
      "       126         354.0463            2.79m\n",
      "       127         354.0136            2.67m\n",
      "       128         353.9854            2.56m\n",
      "       129         353.9497            2.44m\n",
      "       130         353.9172            2.32m\n",
      "       131         353.8814            2.21m\n",
      "       132         353.8419            2.09m\n",
      "       133         353.8132            1.97m\n",
      "       134         353.7803            1.85m\n",
      "       135         353.7539            1.74m\n",
      "       136         353.7344            1.62m\n",
      "       137         353.7133            1.50m\n",
      "       138         353.6910            1.39m\n",
      "       139         353.6605            1.27m\n",
      "       140         353.6375            1.16m\n",
      "       141         353.6025            1.04m\n",
      "       142         353.5616           55.41s\n",
      "       143         353.5457           48.48s\n",
      "       144         353.5219           41.50s\n",
      "       145         353.4960           34.56s\n",
      "       146         353.4763           27.65s\n",
      "       147         353.4409           20.72s\n",
      "       148         353.4137           13.81s\n",
      "       149         353.3931            6.90s\n",
      "       150         353.3702            0.00s\n"
     ]
    },
    {
     "data": {
      "text/plain": [
       "GradientBoostingRegressor(alpha=0.9, criterion='friedman_mse', init=None,\n",
       "             learning_rate=0.1, loss='ls', max_depth=6, max_features=None,\n",
       "             max_leaf_nodes=None, min_impurity_split=1e-07,\n",
       "             min_samples_leaf=1, min_samples_split=2,\n",
       "             min_weight_fraction_leaf=0.0, n_estimators=150,\n",
       "             presort='auto', random_state=None, subsample=1.0, verbose=10,\n",
       "             warm_start=False)"
      ]
     },
     "execution_count": 10,
     "metadata": {},
     "output_type": "execute_result"
    }
   ],
   "source": [
    "# Fir gbr on the training set\n",
    "gbr = GradientBoostingRegressor(n_estimators=150,max_depth=6,verbose=10)\n",
    "gbr.fit(train_x,train_y)"
   ]
  },
  {
   "cell_type": "code",
   "execution_count": 6,
   "metadata": {
    "collapsed": false
   },
   "outputs": [],
   "source": [
    "# Read the features for the test data\n",
    "df_test = pd.read_csv('test_features_2013-03-07.csv',sep=',')"
   ]
  },
  {
   "cell_type": "code",
   "execution_count": 7,
   "metadata": {
    "collapsed": true
   },
   "outputs": [],
   "source": [
    "# Converting the columns to 'category' type.\n",
    "df_test['jobType'] = df_test['jobType'].astype('category')\n",
    "df_test['major'] = df_test['major'].astype('category')\n",
    "df_test['degree'] = df_test['degree'].astype('category')\n",
    "df_test['industry'] = df_test['industry'].astype('category')"
   ]
  },
  {
   "cell_type": "code",
   "execution_count": 8,
   "metadata": {
    "collapsed": true
   },
   "outputs": [],
   "source": [
    "# Storing the job \n",
    "test_ids = df_test['jobId']\n",
    "test_x = df_test[predictor_columns]\n",
    "test_x = pd.get_dummies(test_x)"
   ]
  },
  {
   "cell_type": "code",
   "execution_count": 9,
   "metadata": {
    "collapsed": false
   },
   "outputs": [
    {
     "data": {
      "text/html": [
       "<div>\n",
       "<table border=\"1\" class=\"dataframe\">\n",
       "  <thead>\n",
       "    <tr style=\"text-align: right;\">\n",
       "      <th></th>\n",
       "      <th>yearsExperience</th>\n",
       "      <th>milesFromMetropolis</th>\n",
       "      <th>jobType_CEO</th>\n",
       "      <th>jobType_CFO</th>\n",
       "      <th>jobType_CTO</th>\n",
       "      <th>jobType_JANITOR</th>\n",
       "      <th>jobType_JUNIOR</th>\n",
       "      <th>jobType_MANAGER</th>\n",
       "      <th>jobType_SENIOR</th>\n",
       "      <th>jobType_VICE_PRESIDENT</th>\n",
       "      <th>...</th>\n",
       "      <th>major_MATH</th>\n",
       "      <th>major_NONE</th>\n",
       "      <th>major_PHYSICS</th>\n",
       "      <th>industry_AUTO</th>\n",
       "      <th>industry_EDUCATION</th>\n",
       "      <th>industry_FINANCE</th>\n",
       "      <th>industry_HEALTH</th>\n",
       "      <th>industry_OIL</th>\n",
       "      <th>industry_SERVICE</th>\n",
       "      <th>industry_WEB</th>\n",
       "    </tr>\n",
       "  </thead>\n",
       "  <tbody>\n",
       "    <tr>\n",
       "      <th>0</th>\n",
       "      <td>22</td>\n",
       "      <td>73</td>\n",
       "      <td>0.0</td>\n",
       "      <td>0.0</td>\n",
       "      <td>0.0</td>\n",
       "      <td>0.0</td>\n",
       "      <td>0.0</td>\n",
       "      <td>1.0</td>\n",
       "      <td>0.0</td>\n",
       "      <td>0.0</td>\n",
       "      <td>...</td>\n",
       "      <td>0.0</td>\n",
       "      <td>1.0</td>\n",
       "      <td>0.0</td>\n",
       "      <td>0.0</td>\n",
       "      <td>0.0</td>\n",
       "      <td>0.0</td>\n",
       "      <td>1.0</td>\n",
       "      <td>0.0</td>\n",
       "      <td>0.0</td>\n",
       "      <td>0.0</td>\n",
       "    </tr>\n",
       "    <tr>\n",
       "      <th>1</th>\n",
       "      <td>20</td>\n",
       "      <td>47</td>\n",
       "      <td>0.0</td>\n",
       "      <td>0.0</td>\n",
       "      <td>0.0</td>\n",
       "      <td>0.0</td>\n",
       "      <td>1.0</td>\n",
       "      <td>0.0</td>\n",
       "      <td>0.0</td>\n",
       "      <td>0.0</td>\n",
       "      <td>...</td>\n",
       "      <td>0.0</td>\n",
       "      <td>1.0</td>\n",
       "      <td>0.0</td>\n",
       "      <td>1.0</td>\n",
       "      <td>0.0</td>\n",
       "      <td>0.0</td>\n",
       "      <td>0.0</td>\n",
       "      <td>0.0</td>\n",
       "      <td>0.0</td>\n",
       "      <td>0.0</td>\n",
       "    </tr>\n",
       "    <tr>\n",
       "      <th>2</th>\n",
       "      <td>17</td>\n",
       "      <td>9</td>\n",
       "      <td>0.0</td>\n",
       "      <td>0.0</td>\n",
       "      <td>1.0</td>\n",
       "      <td>0.0</td>\n",
       "      <td>0.0</td>\n",
       "      <td>0.0</td>\n",
       "      <td>0.0</td>\n",
       "      <td>0.0</td>\n",
       "      <td>...</td>\n",
       "      <td>0.0</td>\n",
       "      <td>0.0</td>\n",
       "      <td>0.0</td>\n",
       "      <td>0.0</td>\n",
       "      <td>0.0</td>\n",
       "      <td>0.0</td>\n",
       "      <td>1.0</td>\n",
       "      <td>0.0</td>\n",
       "      <td>0.0</td>\n",
       "      <td>0.0</td>\n",
       "    </tr>\n",
       "    <tr>\n",
       "      <th>3</th>\n",
       "      <td>14</td>\n",
       "      <td>96</td>\n",
       "      <td>0.0</td>\n",
       "      <td>0.0</td>\n",
       "      <td>0.0</td>\n",
       "      <td>0.0</td>\n",
       "      <td>0.0</td>\n",
       "      <td>1.0</td>\n",
       "      <td>0.0</td>\n",
       "      <td>0.0</td>\n",
       "      <td>...</td>\n",
       "      <td>0.0</td>\n",
       "      <td>1.0</td>\n",
       "      <td>0.0</td>\n",
       "      <td>0.0</td>\n",
       "      <td>0.0</td>\n",
       "      <td>0.0</td>\n",
       "      <td>0.0</td>\n",
       "      <td>1.0</td>\n",
       "      <td>0.0</td>\n",
       "      <td>0.0</td>\n",
       "    </tr>\n",
       "    <tr>\n",
       "      <th>4</th>\n",
       "      <td>10</td>\n",
       "      <td>44</td>\n",
       "      <td>0.0</td>\n",
       "      <td>0.0</td>\n",
       "      <td>0.0</td>\n",
       "      <td>0.0</td>\n",
       "      <td>1.0</td>\n",
       "      <td>0.0</td>\n",
       "      <td>0.0</td>\n",
       "      <td>0.0</td>\n",
       "      <td>...</td>\n",
       "      <td>0.0</td>\n",
       "      <td>0.0</td>\n",
       "      <td>0.0</td>\n",
       "      <td>0.0</td>\n",
       "      <td>0.0</td>\n",
       "      <td>0.0</td>\n",
       "      <td>0.0</td>\n",
       "      <td>1.0</td>\n",
       "      <td>0.0</td>\n",
       "      <td>0.0</td>\n",
       "    </tr>\n",
       "  </tbody>\n",
       "</table>\n",
       "<p>5 rows × 31 columns</p>\n",
       "</div>"
      ],
      "text/plain": [
       "   yearsExperience  milesFromMetropolis  jobType_CEO  jobType_CFO  \\\n",
       "0               22                   73          0.0          0.0   \n",
       "1               20                   47          0.0          0.0   \n",
       "2               17                    9          0.0          0.0   \n",
       "3               14                   96          0.0          0.0   \n",
       "4               10                   44          0.0          0.0   \n",
       "\n",
       "   jobType_CTO  jobType_JANITOR  jobType_JUNIOR  jobType_MANAGER  \\\n",
       "0          0.0              0.0             0.0              1.0   \n",
       "1          0.0              0.0             1.0              0.0   \n",
       "2          1.0              0.0             0.0              0.0   \n",
       "3          0.0              0.0             0.0              1.0   \n",
       "4          0.0              0.0             1.0              0.0   \n",
       "\n",
       "   jobType_SENIOR  jobType_VICE_PRESIDENT      ...       major_MATH  \\\n",
       "0             0.0                     0.0      ...              0.0   \n",
       "1             0.0                     0.0      ...              0.0   \n",
       "2             0.0                     0.0      ...              0.0   \n",
       "3             0.0                     0.0      ...              0.0   \n",
       "4             0.0                     0.0      ...              0.0   \n",
       "\n",
       "   major_NONE  major_PHYSICS  industry_AUTO  industry_EDUCATION  \\\n",
       "0         1.0            0.0            0.0                 0.0   \n",
       "1         1.0            0.0            1.0                 0.0   \n",
       "2         0.0            0.0            0.0                 0.0   \n",
       "3         1.0            0.0            0.0                 0.0   \n",
       "4         0.0            0.0            0.0                 0.0   \n",
       "\n",
       "   industry_FINANCE  industry_HEALTH  industry_OIL  industry_SERVICE  \\\n",
       "0               0.0              1.0           0.0               0.0   \n",
       "1               0.0              0.0           0.0               0.0   \n",
       "2               0.0              1.0           0.0               0.0   \n",
       "3               0.0              0.0           1.0               0.0   \n",
       "4               0.0              0.0           1.0               0.0   \n",
       "\n",
       "   industry_WEB  \n",
       "0           0.0  \n",
       "1           0.0  \n",
       "2           0.0  \n",
       "3           0.0  \n",
       "4           0.0  \n",
       "\n",
       "[5 rows x 31 columns]"
      ]
     },
     "execution_count": 9,
     "metadata": {},
     "output_type": "execute_result"
    }
   ],
   "source": [
    "test_x.head()"
   ]
  },
  {
   "cell_type": "code",
   "execution_count": 11,
   "metadata": {
    "collapsed": false
   },
   "outputs": [],
   "source": [
    "# predict the values for salary in test set.\n",
    "pred_y = gbr.predict(train_x)"
   ]
  },
  {
   "cell_type": "code",
   "execution_count": 12,
   "metadata": {
    "collapsed": false
   },
   "outputs": [],
   "source": [
    "with open('test_salaries.csv','w') as f:\n",
    "    f.write('jobId,salary\\n')\n",
    "    for idx,pred in zip(test_ids,pred_y):\n",
    "        f.write(idx+\",\"+str(pred))\n",
    "        f.write('\\n')\n"
   ]
  },
  {
   "cell_type": "code",
   "execution_count": 13,
   "metadata": {
    "collapsed": true
   },
   "outputs": [],
   "source": [
    "temp = pd.read_csv('test_salaries.csv',sep=',')"
   ]
  },
  {
   "cell_type": "code",
   "execution_count": 16,
   "metadata": {
    "collapsed": false
   },
   "outputs": [
    {
     "data": {
      "text/plain": [
       "(1000000, 2)"
      ]
     },
     "execution_count": 16,
     "metadata": {},
     "output_type": "execute_result"
    }
   ],
   "source": [
    "temp.shape"
   ]
  },
  {
   "cell_type": "code",
   "execution_count": 17,
   "metadata": {
    "collapsed": false
   },
   "outputs": [
    {
     "data": {
      "text/plain": [
       "(1000000, 8)"
      ]
     },
     "execution_count": 17,
     "metadata": {},
     "output_type": "execute_result"
    }
   ],
   "source": [
    "df_test.shape"
   ]
  },
  {
   "cell_type": "code",
   "execution_count": 18,
   "metadata": {
    "collapsed": false
   },
   "outputs": [
    {
     "data": {
      "text/plain": [
       "jobId      object\n",
       "salary    float64\n",
       "dtype: object"
      ]
     },
     "execution_count": 18,
     "metadata": {},
     "output_type": "execute_result"
    }
   ],
   "source": [
    "temp.dtypes"
   ]
  },
  {
   "cell_type": "code",
   "execution_count": null,
   "metadata": {
    "collapsed": true
   },
   "outputs": [],
   "source": []
  }
 ],
 "metadata": {
  "kernelspec": {
   "display_name": "Python 2",
   "language": "python",
   "name": "python2"
  },
  "language_info": {
   "codemirror_mode": {
    "name": "ipython",
    "version": 2
   },
   "file_extension": ".py",
   "mimetype": "text/x-python",
   "name": "python",
   "nbconvert_exporter": "python",
   "pygments_lexer": "ipython2",
   "version": "2.7.13"
  }
 },
 "nbformat": 4,
 "nbformat_minor": 0
}
