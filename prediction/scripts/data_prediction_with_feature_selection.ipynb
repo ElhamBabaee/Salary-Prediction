{
 "cells": [
  {
   "cell_type": "code",
   "execution_count": 1,
   "metadata": {
    "collapsed": false
   },
   "outputs": [
    {
     "name": "stderr",
     "output_type": "stream",
     "text": [
      "/Users/saarthakkhanna/anaconda2/lib/python2.7/site-packages/matplotlib/font_manager.py:273: UserWarning: Matplotlib is building the font cache using fc-list. This may take a moment.\n",
      "  warnings.warn('Matplotlib is building the font cache using fc-list. This may take a moment.')\n"
     ]
    }
   ],
   "source": [
    "# import the libraries\n",
    "import pandas as pd\n",
    "import numpy as np\n",
    "import seaborn as sns\n",
    "import matplotlib.pyplot as plt"
   ]
  },
  {
   "cell_type": "code",
   "execution_count": 2,
   "metadata": {
    "collapsed": true
   },
   "outputs": [],
   "source": [
    "# read the data into pandas data frames.\n",
    "df_feat = pd.read_csv('train_features_2013-03-07.csv',sep=',')\n",
    "df_target = pd.read_csv('train_salaries_2013-03-07.csv',sep=',')\n",
    "# Join the features and the target data frames.\n",
    "df = df_feat.join(df_target,lsuffix='_feat',rsuffix='_target')\n",
    "# Drop redundant column\n",
    "df.drop(['jobId_target'],axis=1,inplace=True)\n",
    "# Rename the column\n",
    "df.columns = [u'jobId', u'companyId', u'jobType', u'degree', u'major',\n",
    "       u'industry', u'yearsExperience', u'milesFromMetropolis', u'salary']"
   ]
  },
  {
   "cell_type": "code",
   "execution_count": 3,
   "metadata": {
    "collapsed": false
   },
   "outputs": [
    {
     "data": {
      "text/html": [
       "<div>\n",
       "<table border=\"1\" class=\"dataframe\">\n",
       "  <thead>\n",
       "    <tr style=\"text-align: right;\">\n",
       "      <th></th>\n",
       "      <th>jobId</th>\n",
       "      <th>companyId</th>\n",
       "      <th>jobType</th>\n",
       "      <th>degree</th>\n",
       "      <th>major</th>\n",
       "      <th>industry</th>\n",
       "      <th>yearsExperience</th>\n",
       "      <th>milesFromMetropolis</th>\n",
       "      <th>salary</th>\n",
       "    </tr>\n",
       "  </thead>\n",
       "  <tbody>\n",
       "    <tr>\n",
       "      <th>0</th>\n",
       "      <td>JOB1362684407687</td>\n",
       "      <td>COMP37</td>\n",
       "      <td>CFO</td>\n",
       "      <td>MASTERS</td>\n",
       "      <td>MATH</td>\n",
       "      <td>HEALTH</td>\n",
       "      <td>10</td>\n",
       "      <td>83</td>\n",
       "      <td>130</td>\n",
       "    </tr>\n",
       "    <tr>\n",
       "      <th>1</th>\n",
       "      <td>JOB1362684407688</td>\n",
       "      <td>COMP19</td>\n",
       "      <td>CEO</td>\n",
       "      <td>HIGH_SCHOOL</td>\n",
       "      <td>NONE</td>\n",
       "      <td>WEB</td>\n",
       "      <td>3</td>\n",
       "      <td>73</td>\n",
       "      <td>101</td>\n",
       "    </tr>\n",
       "    <tr>\n",
       "      <th>2</th>\n",
       "      <td>JOB1362684407689</td>\n",
       "      <td>COMP52</td>\n",
       "      <td>VICE_PRESIDENT</td>\n",
       "      <td>DOCTORAL</td>\n",
       "      <td>PHYSICS</td>\n",
       "      <td>HEALTH</td>\n",
       "      <td>10</td>\n",
       "      <td>38</td>\n",
       "      <td>137</td>\n",
       "    </tr>\n",
       "    <tr>\n",
       "      <th>3</th>\n",
       "      <td>JOB1362684407690</td>\n",
       "      <td>COMP38</td>\n",
       "      <td>MANAGER</td>\n",
       "      <td>DOCTORAL</td>\n",
       "      <td>CHEMISTRY</td>\n",
       "      <td>AUTO</td>\n",
       "      <td>8</td>\n",
       "      <td>17</td>\n",
       "      <td>142</td>\n",
       "    </tr>\n",
       "    <tr>\n",
       "      <th>4</th>\n",
       "      <td>JOB1362684407691</td>\n",
       "      <td>COMP7</td>\n",
       "      <td>VICE_PRESIDENT</td>\n",
       "      <td>BACHELORS</td>\n",
       "      <td>PHYSICS</td>\n",
       "      <td>FINANCE</td>\n",
       "      <td>8</td>\n",
       "      <td>16</td>\n",
       "      <td>163</td>\n",
       "    </tr>\n",
       "  </tbody>\n",
       "</table>\n",
       "</div>"
      ],
      "text/plain": [
       "              jobId companyId         jobType       degree      major  \\\n",
       "0  JOB1362684407687    COMP37             CFO      MASTERS       MATH   \n",
       "1  JOB1362684407688    COMP19             CEO  HIGH_SCHOOL       NONE   \n",
       "2  JOB1362684407689    COMP52  VICE_PRESIDENT     DOCTORAL    PHYSICS   \n",
       "3  JOB1362684407690    COMP38         MANAGER     DOCTORAL  CHEMISTRY   \n",
       "4  JOB1362684407691     COMP7  VICE_PRESIDENT    BACHELORS    PHYSICS   \n",
       "\n",
       "  industry  yearsExperience  milesFromMetropolis  salary  \n",
       "0   HEALTH               10                   83     130  \n",
       "1      WEB                3                   73     101  \n",
       "2   HEALTH               10                   38     137  \n",
       "3     AUTO                8                   17     142  \n",
       "4  FINANCE                8                   16     163  "
      ]
     },
     "execution_count": 3,
     "metadata": {},
     "output_type": "execute_result"
    }
   ],
   "source": [
    "df.head()"
   ]
  },
  {
   "cell_type": "code",
   "execution_count": 4,
   "metadata": {
    "collapsed": true
   },
   "outputs": [],
   "source": [
    "# Encoding the degree variable\n",
    "def encode_degree(row):\n",
    "    if row['degree'] == 'BACHELORS':\n",
    "        return 0\n",
    "    elif row['degree'] == 'DOCTORAL':\n",
    "        return 1\n",
    "    else:\n",
    "        return 2\n",
    "\n",
    "# Encoding the major variable\n",
    "def encode_major(row):\n",
    "    if row['major'] == 'NONE':\n",
    "        return 0\n",
    "    elif row['major'] == 'BUSINESS':\n",
    "        return 1\n",
    "    elif row['major'] == 'ENGINEERING':\n",
    "        return 2\n",
    "    else:\n",
    "        return 3\n",
    "    \n",
    "# Encoding the industry variable\n",
    "def encode_industry(row):\n",
    "    if row['industry'] == 'HEALTH':\n",
    "        return 0\n",
    "    elif row['industry'] == 'WEB':\n",
    "        return 1\n",
    "    elif row['industry'] == 'EDUCATION':\n",
    "        return 2\n",
    "    elif row['industry'] == 'OIL':\n",
    "        return 3\n",
    "    elif row['industry'] == 'FINANCE':\n",
    "        return 4\n",
    "    else:\n",
    "        return 5\n",
    "    \n",
    "    \n",
    "# Encoding the jobType variable\n",
    "def encode_jobType(row):\n",
    "    if row['jobType'] == 'JANITOR':\n",
    "        return 0\n",
    "    elif row['jobType'] == 'CEO':\n",
    "        return 1\n",
    "    elif row['jobType'] == 'CFO':\n",
    "        return 2\n",
    "    elif row['jobType'] == 'CTO':\n",
    "        return 3\n",
    "    elif row['jobType'] == 'JUNIOR':\n",
    "        return 4\n",
    "    else:\n",
    "        return 5\n",
    "    \n",
    "\n",
    "df['degreeEncoded'] = df.apply(encode_degree,axis=1)\n",
    "df['majorEncoded'] = df.apply(encode_major,axis=1)\n",
    "df['industryEncoded'] = df.apply(encode_industry,axis=1)\n",
    "df['jobTypeEncoded'] = df.apply(encode_jobType,axis=1)"
   ]
  },
  {
   "cell_type": "code",
   "execution_count": 5,
   "metadata": {
    "collapsed": false
   },
   "outputs": [
    {
     "data": {
      "text/plain": [
       "Index([              u'jobId',           u'companyId',             u'jobType',\n",
       "                    u'degree',               u'major',            u'industry',\n",
       "           u'yearsExperience', u'milesFromMetropolis',              u'salary',\n",
       "             u'degreeEncoded',        u'majorEncoded',     u'industryEncoded',\n",
       "            u'jobTypeEncoded'],\n",
       "      dtype='object')"
      ]
     },
     "execution_count": 5,
     "metadata": {},
     "output_type": "execute_result"
    }
   ],
   "source": [
    "df.columns"
   ]
  },
  {
   "cell_type": "code",
   "execution_count": 6,
   "metadata": {
    "collapsed": false,
    "scrolled": true
   },
   "outputs": [
    {
     "data": {
      "text/plain": [
       "jobId                  object\n",
       "companyId              object\n",
       "jobType                object\n",
       "degree                 object\n",
       "major                  object\n",
       "industry               object\n",
       "yearsExperience         int64\n",
       "milesFromMetropolis     int64\n",
       "salary                  int64\n",
       "degreeEncoded           int64\n",
       "majorEncoded            int64\n",
       "industryEncoded         int64\n",
       "jobTypeEncoded          int64\n",
       "dtype: object"
      ]
     },
     "execution_count": 6,
     "metadata": {},
     "output_type": "execute_result"
    }
   ],
   "source": [
    "df.dtypes"
   ]
  },
  {
   "cell_type": "code",
   "execution_count": 7,
   "metadata": {
    "collapsed": true
   },
   "outputs": [],
   "source": [
    "# Change the data type of the columns\n",
    "df['degreeEncoded'] = df['degreeEncoded'].astype('category')\n",
    "df['majorEncoded'] = df['majorEncoded'].astype('category')\n",
    "df['industryEncoded'] = df['industryEncoded'].astype('category')\n",
    "df['jobTypeEncoded'] = df['jobTypeEncoded'].astype('category')"
   ]
  },
  {
   "cell_type": "code",
   "execution_count": 8,
   "metadata": {
    "collapsed": false
   },
   "outputs": [
    {
     "data": {
      "text/plain": [
       "jobId                    object\n",
       "companyId                object\n",
       "jobType                  object\n",
       "degree                   object\n",
       "major                    object\n",
       "industry                 object\n",
       "yearsExperience           int64\n",
       "milesFromMetropolis       int64\n",
       "salary                    int64\n",
       "degreeEncoded          category\n",
       "majorEncoded           category\n",
       "industryEncoded        category\n",
       "jobTypeEncoded         category\n",
       "dtype: object"
      ]
     },
     "execution_count": 8,
     "metadata": {},
     "output_type": "execute_result"
    }
   ],
   "source": [
    "df.dtypes"
   ]
  },
  {
   "cell_type": "code",
   "execution_count": 9,
   "metadata": {
    "collapsed": false
   },
   "outputs": [
    {
     "data": {
      "text/html": [
       "<div>\n",
       "<table border=\"1\" class=\"dataframe\">\n",
       "  <thead>\n",
       "    <tr style=\"text-align: right;\">\n",
       "      <th></th>\n",
       "      <th>jobId</th>\n",
       "      <th>companyId</th>\n",
       "      <th>jobType</th>\n",
       "      <th>degree</th>\n",
       "      <th>major</th>\n",
       "      <th>industry</th>\n",
       "      <th>yearsExperience</th>\n",
       "      <th>milesFromMetropolis</th>\n",
       "      <th>salary</th>\n",
       "      <th>degreeEncoded</th>\n",
       "      <th>majorEncoded</th>\n",
       "      <th>industryEncoded</th>\n",
       "      <th>jobTypeEncoded</th>\n",
       "    </tr>\n",
       "  </thead>\n",
       "  <tbody>\n",
       "    <tr>\n",
       "      <th>0</th>\n",
       "      <td>JOB1362684407687</td>\n",
       "      <td>COMP37</td>\n",
       "      <td>CFO</td>\n",
       "      <td>MASTERS</td>\n",
       "      <td>MATH</td>\n",
       "      <td>HEALTH</td>\n",
       "      <td>10</td>\n",
       "      <td>83</td>\n",
       "      <td>130</td>\n",
       "      <td>2</td>\n",
       "      <td>3</td>\n",
       "      <td>0</td>\n",
       "      <td>2</td>\n",
       "    </tr>\n",
       "    <tr>\n",
       "      <th>1</th>\n",
       "      <td>JOB1362684407688</td>\n",
       "      <td>COMP19</td>\n",
       "      <td>CEO</td>\n",
       "      <td>HIGH_SCHOOL</td>\n",
       "      <td>NONE</td>\n",
       "      <td>WEB</td>\n",
       "      <td>3</td>\n",
       "      <td>73</td>\n",
       "      <td>101</td>\n",
       "      <td>2</td>\n",
       "      <td>0</td>\n",
       "      <td>1</td>\n",
       "      <td>1</td>\n",
       "    </tr>\n",
       "    <tr>\n",
       "      <th>2</th>\n",
       "      <td>JOB1362684407689</td>\n",
       "      <td>COMP52</td>\n",
       "      <td>VICE_PRESIDENT</td>\n",
       "      <td>DOCTORAL</td>\n",
       "      <td>PHYSICS</td>\n",
       "      <td>HEALTH</td>\n",
       "      <td>10</td>\n",
       "      <td>38</td>\n",
       "      <td>137</td>\n",
       "      <td>1</td>\n",
       "      <td>3</td>\n",
       "      <td>0</td>\n",
       "      <td>5</td>\n",
       "    </tr>\n",
       "    <tr>\n",
       "      <th>3</th>\n",
       "      <td>JOB1362684407690</td>\n",
       "      <td>COMP38</td>\n",
       "      <td>MANAGER</td>\n",
       "      <td>DOCTORAL</td>\n",
       "      <td>CHEMISTRY</td>\n",
       "      <td>AUTO</td>\n",
       "      <td>8</td>\n",
       "      <td>17</td>\n",
       "      <td>142</td>\n",
       "      <td>1</td>\n",
       "      <td>3</td>\n",
       "      <td>5</td>\n",
       "      <td>5</td>\n",
       "    </tr>\n",
       "    <tr>\n",
       "      <th>4</th>\n",
       "      <td>JOB1362684407691</td>\n",
       "      <td>COMP7</td>\n",
       "      <td>VICE_PRESIDENT</td>\n",
       "      <td>BACHELORS</td>\n",
       "      <td>PHYSICS</td>\n",
       "      <td>FINANCE</td>\n",
       "      <td>8</td>\n",
       "      <td>16</td>\n",
       "      <td>163</td>\n",
       "      <td>0</td>\n",
       "      <td>3</td>\n",
       "      <td>4</td>\n",
       "      <td>5</td>\n",
       "    </tr>\n",
       "  </tbody>\n",
       "</table>\n",
       "</div>"
      ],
      "text/plain": [
       "              jobId companyId         jobType       degree      major  \\\n",
       "0  JOB1362684407687    COMP37             CFO      MASTERS       MATH   \n",
       "1  JOB1362684407688    COMP19             CEO  HIGH_SCHOOL       NONE   \n",
       "2  JOB1362684407689    COMP52  VICE_PRESIDENT     DOCTORAL    PHYSICS   \n",
       "3  JOB1362684407690    COMP38         MANAGER     DOCTORAL  CHEMISTRY   \n",
       "4  JOB1362684407691     COMP7  VICE_PRESIDENT    BACHELORS    PHYSICS   \n",
       "\n",
       "  industry  yearsExperience  milesFromMetropolis  salary degreeEncoded  \\\n",
       "0   HEALTH               10                   83     130             2   \n",
       "1      WEB                3                   73     101             2   \n",
       "2   HEALTH               10                   38     137             1   \n",
       "3     AUTO                8                   17     142             1   \n",
       "4  FINANCE                8                   16     163             0   \n",
       "\n",
       "  majorEncoded industryEncoded jobTypeEncoded  \n",
       "0            3               0              2  \n",
       "1            0               1              1  \n",
       "2            3               0              5  \n",
       "3            3               5              5  \n",
       "4            3               4              5  "
      ]
     },
     "execution_count": 9,
     "metadata": {},
     "output_type": "execute_result"
    }
   ],
   "source": [
    "df.head()"
   ]
  },
  {
   "cell_type": "code",
   "execution_count": 10,
   "metadata": {
    "collapsed": true
   },
   "outputs": [],
   "source": [
    "# convert the data frame into predictors and target\n",
    "predictor_columns = ['yearsExperience','milesFromMetropolis','degreeEncoded','majorEncoded','industryEncoded',\\\n",
    "                     'jobTypeEncoded']\n",
    "target_column = ['salary']\n",
    "train_x = df[predictor_columns]\n",
    "train_y = df[target_column] "
   ]
  },
  {
   "cell_type": "code",
   "execution_count": 13,
   "metadata": {
    "collapsed": false
   },
   "outputs": [
    {
     "name": "stdout",
     "output_type": "stream",
     "text": [
      "   yearsExperience  milesFromMetropolis degreeEncoded majorEncoded  \\\n",
      "0               10                   83             2            3   \n",
      "1                3                   73             2            0   \n",
      "2               10                   38             1            3   \n",
      "3                8                   17             1            3   \n",
      "4                8                   16             0            3   \n",
      "\n",
      "  industryEncoded jobTypeEncoded  \n",
      "0               0              2  \n",
      "1               1              1  \n",
      "2               0              5  \n",
      "3               5              5  \n",
      "4               4              5  \n",
      "   salary\n",
      "0     130\n",
      "1     101\n",
      "2     137\n",
      "3     142\n",
      "4     163\n"
     ]
    }
   ],
   "source": [
    "print train_x.head()\n",
    "print train_y.head()"
   ]
  },
  {
   "cell_type": "code",
   "execution_count": 14,
   "metadata": {
    "collapsed": true
   },
   "outputs": [],
   "source": [
    "# Convert category columns into one-hot vector\n",
    "train_x = pd.get_dummies(train_x)"
   ]
  },
  {
   "cell_type": "code",
   "execution_count": 15,
   "metadata": {
    "collapsed": false
   },
   "outputs": [
    {
     "data": {
      "text/html": [
       "<div>\n",
       "<table border=\"1\" class=\"dataframe\">\n",
       "  <thead>\n",
       "    <tr style=\"text-align: right;\">\n",
       "      <th></th>\n",
       "      <th>yearsExperience</th>\n",
       "      <th>milesFromMetropolis</th>\n",
       "      <th>degreeEncoded_0</th>\n",
       "      <th>degreeEncoded_1</th>\n",
       "      <th>degreeEncoded_2</th>\n",
       "      <th>majorEncoded_0</th>\n",
       "      <th>majorEncoded_1</th>\n",
       "      <th>majorEncoded_2</th>\n",
       "      <th>majorEncoded_3</th>\n",
       "      <th>industryEncoded_0</th>\n",
       "      <th>...</th>\n",
       "      <th>industryEncoded_2</th>\n",
       "      <th>industryEncoded_3</th>\n",
       "      <th>industryEncoded_4</th>\n",
       "      <th>industryEncoded_5</th>\n",
       "      <th>jobTypeEncoded_0</th>\n",
       "      <th>jobTypeEncoded_1</th>\n",
       "      <th>jobTypeEncoded_2</th>\n",
       "      <th>jobTypeEncoded_3</th>\n",
       "      <th>jobTypeEncoded_4</th>\n",
       "      <th>jobTypeEncoded_5</th>\n",
       "    </tr>\n",
       "  </thead>\n",
       "  <tbody>\n",
       "    <tr>\n",
       "      <th>0</th>\n",
       "      <td>10</td>\n",
       "      <td>83</td>\n",
       "      <td>0.0</td>\n",
       "      <td>0.0</td>\n",
       "      <td>1.0</td>\n",
       "      <td>0.0</td>\n",
       "      <td>0.0</td>\n",
       "      <td>0.0</td>\n",
       "      <td>1.0</td>\n",
       "      <td>1.0</td>\n",
       "      <td>...</td>\n",
       "      <td>0.0</td>\n",
       "      <td>0.0</td>\n",
       "      <td>0.0</td>\n",
       "      <td>0.0</td>\n",
       "      <td>0.0</td>\n",
       "      <td>0.0</td>\n",
       "      <td>1.0</td>\n",
       "      <td>0.0</td>\n",
       "      <td>0.0</td>\n",
       "      <td>0.0</td>\n",
       "    </tr>\n",
       "    <tr>\n",
       "      <th>1</th>\n",
       "      <td>3</td>\n",
       "      <td>73</td>\n",
       "      <td>0.0</td>\n",
       "      <td>0.0</td>\n",
       "      <td>1.0</td>\n",
       "      <td>1.0</td>\n",
       "      <td>0.0</td>\n",
       "      <td>0.0</td>\n",
       "      <td>0.0</td>\n",
       "      <td>0.0</td>\n",
       "      <td>...</td>\n",
       "      <td>0.0</td>\n",
       "      <td>0.0</td>\n",
       "      <td>0.0</td>\n",
       "      <td>0.0</td>\n",
       "      <td>0.0</td>\n",
       "      <td>1.0</td>\n",
       "      <td>0.0</td>\n",
       "      <td>0.0</td>\n",
       "      <td>0.0</td>\n",
       "      <td>0.0</td>\n",
       "    </tr>\n",
       "    <tr>\n",
       "      <th>2</th>\n",
       "      <td>10</td>\n",
       "      <td>38</td>\n",
       "      <td>0.0</td>\n",
       "      <td>1.0</td>\n",
       "      <td>0.0</td>\n",
       "      <td>0.0</td>\n",
       "      <td>0.0</td>\n",
       "      <td>0.0</td>\n",
       "      <td>1.0</td>\n",
       "      <td>1.0</td>\n",
       "      <td>...</td>\n",
       "      <td>0.0</td>\n",
       "      <td>0.0</td>\n",
       "      <td>0.0</td>\n",
       "      <td>0.0</td>\n",
       "      <td>0.0</td>\n",
       "      <td>0.0</td>\n",
       "      <td>0.0</td>\n",
       "      <td>0.0</td>\n",
       "      <td>0.0</td>\n",
       "      <td>1.0</td>\n",
       "    </tr>\n",
       "    <tr>\n",
       "      <th>3</th>\n",
       "      <td>8</td>\n",
       "      <td>17</td>\n",
       "      <td>0.0</td>\n",
       "      <td>1.0</td>\n",
       "      <td>0.0</td>\n",
       "      <td>0.0</td>\n",
       "      <td>0.0</td>\n",
       "      <td>0.0</td>\n",
       "      <td>1.0</td>\n",
       "      <td>0.0</td>\n",
       "      <td>...</td>\n",
       "      <td>0.0</td>\n",
       "      <td>0.0</td>\n",
       "      <td>0.0</td>\n",
       "      <td>1.0</td>\n",
       "      <td>0.0</td>\n",
       "      <td>0.0</td>\n",
       "      <td>0.0</td>\n",
       "      <td>0.0</td>\n",
       "      <td>0.0</td>\n",
       "      <td>1.0</td>\n",
       "    </tr>\n",
       "    <tr>\n",
       "      <th>4</th>\n",
       "      <td>8</td>\n",
       "      <td>16</td>\n",
       "      <td>1.0</td>\n",
       "      <td>0.0</td>\n",
       "      <td>0.0</td>\n",
       "      <td>0.0</td>\n",
       "      <td>0.0</td>\n",
       "      <td>0.0</td>\n",
       "      <td>1.0</td>\n",
       "      <td>0.0</td>\n",
       "      <td>...</td>\n",
       "      <td>0.0</td>\n",
       "      <td>0.0</td>\n",
       "      <td>1.0</td>\n",
       "      <td>0.0</td>\n",
       "      <td>0.0</td>\n",
       "      <td>0.0</td>\n",
       "      <td>0.0</td>\n",
       "      <td>0.0</td>\n",
       "      <td>0.0</td>\n",
       "      <td>1.0</td>\n",
       "    </tr>\n",
       "  </tbody>\n",
       "</table>\n",
       "<p>5 rows × 21 columns</p>\n",
       "</div>"
      ],
      "text/plain": [
       "   yearsExperience  milesFromMetropolis  degreeEncoded_0  degreeEncoded_1  \\\n",
       "0               10                   83              0.0              0.0   \n",
       "1                3                   73              0.0              0.0   \n",
       "2               10                   38              0.0              1.0   \n",
       "3                8                   17              0.0              1.0   \n",
       "4                8                   16              1.0              0.0   \n",
       "\n",
       "   degreeEncoded_2  majorEncoded_0  majorEncoded_1  majorEncoded_2  \\\n",
       "0              1.0             0.0             0.0             0.0   \n",
       "1              1.0             1.0             0.0             0.0   \n",
       "2              0.0             0.0             0.0             0.0   \n",
       "3              0.0             0.0             0.0             0.0   \n",
       "4              0.0             0.0             0.0             0.0   \n",
       "\n",
       "   majorEncoded_3  industryEncoded_0        ...         industryEncoded_2  \\\n",
       "0             1.0                1.0        ...                       0.0   \n",
       "1             0.0                0.0        ...                       0.0   \n",
       "2             1.0                1.0        ...                       0.0   \n",
       "3             1.0                0.0        ...                       0.0   \n",
       "4             1.0                0.0        ...                       0.0   \n",
       "\n",
       "   industryEncoded_3  industryEncoded_4  industryEncoded_5  jobTypeEncoded_0  \\\n",
       "0                0.0                0.0                0.0               0.0   \n",
       "1                0.0                0.0                0.0               0.0   \n",
       "2                0.0                0.0                0.0               0.0   \n",
       "3                0.0                0.0                1.0               0.0   \n",
       "4                0.0                1.0                0.0               0.0   \n",
       "\n",
       "   jobTypeEncoded_1  jobTypeEncoded_2  jobTypeEncoded_3  jobTypeEncoded_4  \\\n",
       "0               0.0               1.0               0.0               0.0   \n",
       "1               1.0               0.0               0.0               0.0   \n",
       "2               0.0               0.0               0.0               0.0   \n",
       "3               0.0               0.0               0.0               0.0   \n",
       "4               0.0               0.0               0.0               0.0   \n",
       "\n",
       "   jobTypeEncoded_5  \n",
       "0               0.0  \n",
       "1               0.0  \n",
       "2               1.0  \n",
       "3               1.0  \n",
       "4               1.0  \n",
       "\n",
       "[5 rows x 21 columns]"
      ]
     },
     "execution_count": 15,
     "metadata": {},
     "output_type": "execute_result"
    }
   ],
   "source": [
    "train_x.head()"
   ]
  },
  {
   "cell_type": "code",
   "execution_count": 17,
   "metadata": {
    "collapsed": false
   },
   "outputs": [
    {
     "data": {
      "text/plain": [
       "(1000000, 21)"
      ]
     },
     "execution_count": 17,
     "metadata": {},
     "output_type": "execute_result"
    }
   ],
   "source": [
    "train_x.shape"
   ]
  },
  {
   "cell_type": "code",
   "execution_count": 20,
   "metadata": {
    "collapsed": false
   },
   "outputs": [
    {
     "name": "stdout",
     "output_type": "stream",
     "text": [
      "[CV]  ................................................................\n",
      "[CV] ................................. , score=0.717738, total=   1.6s\n",
      "[CV]  ................................................................\n"
     ]
    },
    {
     "name": "stderr",
     "output_type": "stream",
     "text": [
      "[Parallel(n_jobs=1)]: Done   1 out of   1 | elapsed:    1.6s remaining:    0.0s\n"
     ]
    },
    {
     "name": "stdout",
     "output_type": "stream",
     "text": [
      "[CV] ................................. , score=0.718116, total=   1.5s\n",
      "[CV]  ................................................................\n"
     ]
    },
    {
     "name": "stderr",
     "output_type": "stream",
     "text": [
      "[Parallel(n_jobs=1)]: Done   2 out of   2 | elapsed:    3.1s remaining:    0.0s\n"
     ]
    },
    {
     "name": "stdout",
     "output_type": "stream",
     "text": [
      "[CV] ................................. , score=0.718174, total=   1.4s\n",
      "[CV]  ................................................................\n"
     ]
    },
    {
     "name": "stderr",
     "output_type": "stream",
     "text": [
      "[Parallel(n_jobs=1)]: Done   3 out of   3 | elapsed:    4.5s remaining:    0.0s\n"
     ]
    },
    {
     "name": "stdout",
     "output_type": "stream",
     "text": [
      "[CV] ................................. , score=0.719070, total=   1.6s\n",
      "[CV]  ................................................................\n"
     ]
    },
    {
     "name": "stderr",
     "output_type": "stream",
     "text": [
      "[Parallel(n_jobs=1)]: Done   4 out of   4 | elapsed:    6.1s remaining:    0.0s\n"
     ]
    },
    {
     "name": "stdout",
     "output_type": "stream",
     "text": [
      "[CV] ................................. , score=0.718988, total=   1.6s\n"
     ]
    },
    {
     "name": "stderr",
     "output_type": "stream",
     "text": [
      "[Parallel(n_jobs=1)]: Done   5 out of   5 | elapsed:    7.7s remaining:    0.0s\n",
      "[Parallel(n_jobs=1)]: Done   5 out of   5 | elapsed:    7.7s finished\n"
     ]
    }
   ],
   "source": [
    "# Running Linear Regression (without regularization)\n",
    "from sklearn.model_selection import cross_val_score\n",
    "from sklearn import linear_model\n",
    "\n",
    "linear_regr = linear_model.LinearRegression()\n",
    "scores = cross_val_score(linear_regr,train_x,train_y,cv=5,scoring='r2',verbose=10)"
   ]
  },
  {
   "cell_type": "code",
   "execution_count": 23,
   "metadata": {
    "collapsed": false
   },
   "outputs": [
    {
     "name": "stdout",
     "output_type": "stream",
     "text": [
      "CV Scores from Linear Regression: [ 0.7177381   0.71811566  0.71817447  0.71906956  0.71898846]\n",
      "Mean Score: 0.718417249755\n"
     ]
    }
   ],
   "source": [
    "print \"CV Scores from Linear Regression: {0}\".format(scores)\n",
    "print \"Mean Score: {0}\".format(scores.mean())"
   ]
  },
  {
   "cell_type": "code",
   "execution_count": 24,
   "metadata": {
    "collapsed": false
   },
   "outputs": [
    {
     "name": "stderr",
     "output_type": "stream",
     "text": [
      "/Users/saarthakkhanna/anaconda2/lib/python2.7/site-packages/sklearn/cross_validation.py:44: DeprecationWarning: This module was deprecated in version 0.18 in favor of the model_selection module into which all the refactored classes and functions are moved. Also note that the interface of the new CV iterators are different from that of this module. This module will be removed in 0.20.\n",
      "  \"This module will be removed in 0.20.\", DeprecationWarning)\n",
      "/Users/saarthakkhanna/anaconda2/lib/python2.7/site-packages/sklearn/grid_search.py:43: DeprecationWarning: This module was deprecated in version 0.18 in favor of the model_selection module into which all the refactored classes and functions are moved. This module will be removed in 0.20.\n",
      "  DeprecationWarning)\n"
     ]
    },
    {
     "name": "stdout",
     "output_type": "stream",
     "text": [
      "Fitting 5 folds for each of 10 candidates, totalling 50 fits\n",
      "[CV] alpha=0.001 .....................................................\n",
      "[CV] ............................ alpha=0.001, score=0.717738 -   1.5s\n",
      "[CV] alpha=0.001 .....................................................\n"
     ]
    },
    {
     "name": "stderr",
     "output_type": "stream",
     "text": [
      "[Parallel(n_jobs=1)]: Done   1 out of   1 | elapsed:    1.5s remaining:    0.0s\n"
     ]
    },
    {
     "name": "stdout",
     "output_type": "stream",
     "text": [
      "[CV] ............................ alpha=0.001, score=0.718116 -   1.2s\n",
      "[CV] alpha=0.001 .....................................................\n"
     ]
    },
    {
     "name": "stderr",
     "output_type": "stream",
     "text": [
      "[Parallel(n_jobs=1)]: Done   2 out of   2 | elapsed:    2.7s remaining:    0.0s\n"
     ]
    },
    {
     "name": "stdout",
     "output_type": "stream",
     "text": [
      "[CV] ............................ alpha=0.001, score=0.718174 -   1.1s\n",
      "[CV] alpha=0.001 .....................................................\n"
     ]
    },
    {
     "name": "stderr",
     "output_type": "stream",
     "text": [
      "[Parallel(n_jobs=1)]: Done   3 out of   3 | elapsed:    3.9s remaining:    0.0s\n"
     ]
    },
    {
     "name": "stdout",
     "output_type": "stream",
     "text": [
      "[CV] ............................ alpha=0.001, score=0.719070 -   1.1s\n",
      "[CV] alpha=0.001 .....................................................\n"
     ]
    },
    {
     "name": "stderr",
     "output_type": "stream",
     "text": [
      "[Parallel(n_jobs=1)]: Done   4 out of   4 | elapsed:    5.0s remaining:    0.0s\n"
     ]
    },
    {
     "name": "stdout",
     "output_type": "stream",
     "text": [
      "[CV] ............................ alpha=0.001, score=0.718988 -   1.2s\n",
      "[CV] alpha=0.0035938136638 ...........................................\n"
     ]
    },
    {
     "name": "stderr",
     "output_type": "stream",
     "text": [
      "[Parallel(n_jobs=1)]: Done   5 out of   5 | elapsed:    6.2s remaining:    0.0s\n"
     ]
    },
    {
     "name": "stdout",
     "output_type": "stream",
     "text": [
      "[CV] .................. alpha=0.0035938136638, score=0.717738 -   1.1s\n",
      "[CV] alpha=0.0035938136638 ...........................................\n"
     ]
    },
    {
     "name": "stderr",
     "output_type": "stream",
     "text": [
      "[Parallel(n_jobs=1)]: Done   6 out of   6 | elapsed:    7.4s remaining:    0.0s\n"
     ]
    },
    {
     "name": "stdout",
     "output_type": "stream",
     "text": [
      "[CV] .................. alpha=0.0035938136638, score=0.718116 -   1.1s\n",
      "[CV] alpha=0.0035938136638 ...........................................\n"
     ]
    },
    {
     "name": "stderr",
     "output_type": "stream",
     "text": [
      "[Parallel(n_jobs=1)]: Done   7 out of   7 | elapsed:    8.5s remaining:    0.0s\n"
     ]
    },
    {
     "name": "stdout",
     "output_type": "stream",
     "text": [
      "[CV] .................. alpha=0.0035938136638, score=0.718174 -   1.2s\n",
      "[CV] alpha=0.0035938136638 ...........................................\n"
     ]
    },
    {
     "name": "stderr",
     "output_type": "stream",
     "text": [
      "[Parallel(n_jobs=1)]: Done   8 out of   8 | elapsed:    9.7s remaining:    0.0s\n"
     ]
    },
    {
     "name": "stdout",
     "output_type": "stream",
     "text": [
      "[CV] .................. alpha=0.0035938136638, score=0.719070 -   1.2s\n",
      "[CV] alpha=0.0035938136638 ...........................................\n"
     ]
    },
    {
     "name": "stderr",
     "output_type": "stream",
     "text": [
      "[Parallel(n_jobs=1)]: Done   9 out of   9 | elapsed:   10.9s remaining:    0.0s\n"
     ]
    },
    {
     "name": "stdout",
     "output_type": "stream",
     "text": [
      "[CV] .................. alpha=0.0035938136638, score=0.718988 -   1.2s\n",
      "[CV] alpha=0.0129154966501 ...........................................\n",
      "[CV] .................. alpha=0.0129154966501, score=0.717738 -   1.1s\n",
      "[CV] alpha=0.0129154966501 ...........................................\n",
      "[CV] .................. alpha=0.0129154966501, score=0.718116 -   1.1s\n",
      "[CV] alpha=0.0129154966501 ...........................................\n",
      "[CV] .................. alpha=0.0129154966501, score=0.718174 -   1.1s\n",
      "[CV] alpha=0.0129154966501 ...........................................\n",
      "[CV] .................. alpha=0.0129154966501, score=0.719070 -   1.1s\n",
      "[CV] alpha=0.0129154966501 ...........................................\n",
      "[CV] .................. alpha=0.0129154966501, score=0.718988 -   1.1s\n",
      "[CV] alpha=0.0464158883361 ...........................................\n",
      "[CV] .................. alpha=0.0464158883361, score=0.717738 -   1.1s\n",
      "[CV] alpha=0.0464158883361 ...........................................\n",
      "[CV] .................. alpha=0.0464158883361, score=0.718116 -   1.1s\n",
      "[CV] alpha=0.0464158883361 ...........................................\n",
      "[CV] .................. alpha=0.0464158883361, score=0.718174 -   1.1s\n",
      "[CV] alpha=0.0464158883361 ...........................................\n",
      "[CV] .................. alpha=0.0464158883361, score=0.719070 -   1.1s\n",
      "[CV] alpha=0.0464158883361 ...........................................\n",
      "[CV] .................. alpha=0.0464158883361, score=0.718988 -   1.1s\n",
      "[CV] alpha=0.16681005372 .............................................\n",
      "[CV] .................... alpha=0.16681005372, score=0.717738 -   1.1s\n",
      "[CV] alpha=0.16681005372 .............................................\n",
      "[CV] .................... alpha=0.16681005372, score=0.718116 -   1.1s\n",
      "[CV] alpha=0.16681005372 .............................................\n",
      "[CV] .................... alpha=0.16681005372, score=0.718174 -   1.1s\n",
      "[CV] alpha=0.16681005372 .............................................\n",
      "[CV] .................... alpha=0.16681005372, score=0.719070 -   1.1s\n",
      "[CV] alpha=0.16681005372 .............................................\n",
      "[CV] .................... alpha=0.16681005372, score=0.718988 -   1.1s\n",
      "[CV] alpha=0.599484250319 ............................................\n",
      "[CV] ................... alpha=0.599484250319, score=0.717738 -   1.1s\n",
      "[CV] alpha=0.599484250319 ............................................\n",
      "[CV] ................... alpha=0.599484250319, score=0.718116 -   1.1s\n",
      "[CV] alpha=0.599484250319 ............................................\n",
      "[CV] ................... alpha=0.599484250319, score=0.718174 -   1.1s\n",
      "[CV] alpha=0.599484250319 ............................................\n",
      "[CV] ................... alpha=0.599484250319, score=0.719070 -   1.1s\n",
      "[CV] alpha=0.599484250319 ............................................\n",
      "[CV] ................... alpha=0.599484250319, score=0.718988 -   1.1s\n",
      "[CV] alpha=2.15443469003 .............................................\n",
      "[CV] .................... alpha=2.15443469003, score=0.717738 -   1.1s\n",
      "[CV] alpha=2.15443469003 .............................................\n",
      "[CV] .................... alpha=2.15443469003, score=0.718116 -   1.1s\n",
      "[CV] alpha=2.15443469003 .............................................\n",
      "[CV] .................... alpha=2.15443469003, score=0.718174 -   1.1s\n",
      "[CV] alpha=2.15443469003 .............................................\n",
      "[CV] .................... alpha=2.15443469003, score=0.719070 -   1.1s\n",
      "[CV] alpha=2.15443469003 .............................................\n",
      "[CV] .................... alpha=2.15443469003, score=0.718988 -   1.1s\n",
      "[CV] alpha=7.74263682681 .............................................\n",
      "[CV] .................... alpha=7.74263682681, score=0.717738 -   1.1s\n",
      "[CV] alpha=7.74263682681 .............................................\n",
      "[CV] .................... alpha=7.74263682681, score=0.718116 -   1.1s\n",
      "[CV] alpha=7.74263682681 .............................................\n",
      "[CV] .................... alpha=7.74263682681, score=0.718174 -   1.1s\n",
      "[CV] alpha=7.74263682681 .............................................\n",
      "[CV] .................... alpha=7.74263682681, score=0.719070 -   1.1s\n",
      "[CV] alpha=7.74263682681 .............................................\n",
      "[CV] .................... alpha=7.74263682681, score=0.718989 -   1.1s\n",
      "[CV] alpha=27.8255940221 .............................................\n",
      "[CV] .................... alpha=27.8255940221, score=0.717739 -   1.1s\n",
      "[CV] alpha=27.8255940221 .............................................\n",
      "[CV] .................... alpha=27.8255940221, score=0.718116 -   1.1s\n",
      "[CV] alpha=27.8255940221 .............................................\n",
      "[CV] .................... alpha=27.8255940221, score=0.718174 -   1.1s\n",
      "[CV] alpha=27.8255940221 .............................................\n",
      "[CV] .................... alpha=27.8255940221, score=0.719070 -   1.1s\n",
      "[CV] alpha=27.8255940221 .............................................\n",
      "[CV] .................... alpha=27.8255940221, score=0.718989 -   1.1s\n",
      "[CV] alpha=100.0 .....................................................\n",
      "[CV] ............................ alpha=100.0, score=0.717739 -   1.1s\n",
      "[CV] alpha=100.0 .....................................................\n",
      "[CV] ............................ alpha=100.0, score=0.718115 -   1.1s\n",
      "[CV] alpha=100.0 .....................................................\n",
      "[CV] ............................ alpha=100.0, score=0.718171 -   1.1s\n",
      "[CV] alpha=100.0 .....................................................\n",
      "[CV] ............................ alpha=100.0, score=0.719070 -   1.1s\n",
      "[CV] alpha=100.0 .....................................................\n",
      "[CV] ............................ alpha=100.0, score=0.718989 -   1.1s\n"
     ]
    },
    {
     "name": "stderr",
     "output_type": "stream",
     "text": [
      "[Parallel(n_jobs=1)]: Done  50 out of  50 | elapsed:   57.2s finished\n"
     ]
    },
    {
     "data": {
      "text/plain": [
       "GridSearchCV(cv=5, error_score='raise',\n",
       "       estimator=Ridge(alpha=1.0, copy_X=True, fit_intercept=True, max_iter=None,\n",
       "   normalize=False, random_state=None, solver='auto', tol=0.001),\n",
       "       fit_params={}, iid=True, n_jobs=1,\n",
       "       param_grid=[{'alpha': array([  1.00000e-03,   3.59381e-03,   1.29155e-02,   4.64159e-02,\n",
       "         1.66810e-01,   5.99484e-01,   2.15443e+00,   7.74264e+00,\n",
       "         2.78256e+01,   1.00000e+02])}],\n",
       "       pre_dispatch='2*n_jobs', refit=True, scoring='r2', verbose=10)"
      ]
     },
     "execution_count": 24,
     "metadata": {},
     "output_type": "execute_result"
    }
   ],
   "source": [
    "# Running Ridge Regression\n",
    "from sklearn.grid_search import GridSearchCV\n",
    "\n",
    "alphas = np.logspace(-3,2,10)\n",
    "tuning_parameters = [{'alpha':alphas}]\n",
    "grid_ridge = GridSearchCV(linear_model.Ridge(),tuning_parameters,cv=5,scoring='r2',verbose=10)\n",
    "grid_ridge.fit(train_x,train_y)"
   ]
  },
  {
   "cell_type": "code",
   "execution_count": 25,
   "metadata": {
    "collapsed": false
   },
   "outputs": [
    {
     "name": "stdout",
     "output_type": "stream",
     "text": [
      "Ridge(alpha=2.1544346900318843, copy_X=True, fit_intercept=True,\n",
      "   max_iter=None, normalize=False, random_state=None, solver='auto',\n",
      "   tol=0.001)\n",
      "0.71841725013\n"
     ]
    }
   ],
   "source": [
    "print grid_ridge.best_estimator_\n",
    "print grid_ridge.best_score_"
   ]
  },
  {
   "cell_type": "code",
   "execution_count": 26,
   "metadata": {
    "collapsed": false
   },
   "outputs": [
    {
     "name": "stdout",
     "output_type": "stream",
     "text": [
      "Fitting 5 folds for each of 10 candidates, totalling 50 fits\n",
      "[CV] alpha=0.001 .....................................................\n",
      "[CV] ............................ alpha=0.001, score=0.717739 -  16.5s\n",
      "[CV] alpha=0.001 .....................................................\n"
     ]
    },
    {
     "name": "stderr",
     "output_type": "stream",
     "text": [
      "[Parallel(n_jobs=1)]: Done   1 out of   1 | elapsed:   16.5s remaining:    0.0s\n"
     ]
    },
    {
     "name": "stdout",
     "output_type": "stream",
     "text": [
      "[CV] ............................ alpha=0.001, score=0.718116 -  16.4s\n",
      "[CV] alpha=0.001 .....................................................\n"
     ]
    },
    {
     "name": "stderr",
     "output_type": "stream",
     "text": [
      "[Parallel(n_jobs=1)]: Done   2 out of   2 | elapsed:   32.9s remaining:    0.0s\n"
     ]
    },
    {
     "name": "stdout",
     "output_type": "stream",
     "text": [
      "[CV] ............................ alpha=0.001, score=0.718173 -  17.1s\n",
      "[CV] alpha=0.001 .....................................................\n"
     ]
    },
    {
     "name": "stderr",
     "output_type": "stream",
     "text": [
      "[Parallel(n_jobs=1)]: Done   3 out of   3 | elapsed:   50.0s remaining:    0.0s\n"
     ]
    },
    {
     "name": "stdout",
     "output_type": "stream",
     "text": [
      "[CV] ............................ alpha=0.001, score=0.719070 -  16.7s\n",
      "[CV] alpha=0.001 .....................................................\n"
     ]
    },
    {
     "name": "stderr",
     "output_type": "stream",
     "text": [
      "[Parallel(n_jobs=1)]: Done   4 out of   4 | elapsed:  1.1min remaining:    0.0s\n"
     ]
    },
    {
     "name": "stdout",
     "output_type": "stream",
     "text": [
      "[CV] ............................ alpha=0.001, score=0.718989 -  16.7s\n",
      "[CV] alpha=0.0035938136638 ...........................................\n"
     ]
    },
    {
     "name": "stderr",
     "output_type": "stream",
     "text": [
      "[Parallel(n_jobs=1)]: Done   5 out of   5 | elapsed:  1.4min remaining:    0.0s\n"
     ]
    },
    {
     "name": "stdout",
     "output_type": "stream",
     "text": [
      "[CV] .................. alpha=0.0035938136638, score=0.717741 -   5.8s\n",
      "[CV] alpha=0.0035938136638 ...........................................\n"
     ]
    },
    {
     "name": "stderr",
     "output_type": "stream",
     "text": [
      "[Parallel(n_jobs=1)]: Done   6 out of   6 | elapsed:  1.5min remaining:    0.0s\n"
     ]
    },
    {
     "name": "stdout",
     "output_type": "stream",
     "text": [
      "[CV] .................. alpha=0.0035938136638, score=0.718115 -   6.0s\n",
      "[CV] alpha=0.0035938136638 ...........................................\n"
     ]
    },
    {
     "name": "stderr",
     "output_type": "stream",
     "text": [
      "[Parallel(n_jobs=1)]: Done   7 out of   7 | elapsed:  1.6min remaining:    0.0s\n"
     ]
    },
    {
     "name": "stdout",
     "output_type": "stream",
     "text": [
      "[CV] .................. alpha=0.0035938136638, score=0.718167 -   6.3s\n",
      "[CV] alpha=0.0035938136638 ...........................................\n"
     ]
    },
    {
     "name": "stderr",
     "output_type": "stream",
     "text": [
      "[Parallel(n_jobs=1)]: Done   8 out of   8 | elapsed:  1.7min remaining:    0.0s\n"
     ]
    },
    {
     "name": "stdout",
     "output_type": "stream",
     "text": [
      "[CV] .................. alpha=0.0035938136638, score=0.719069 -   5.9s\n",
      "[CV] alpha=0.0035938136638 ...........................................\n"
     ]
    },
    {
     "name": "stderr",
     "output_type": "stream",
     "text": [
      "[Parallel(n_jobs=1)]: Done   9 out of   9 | elapsed:  1.8min remaining:    0.0s\n"
     ]
    },
    {
     "name": "stdout",
     "output_type": "stream",
     "text": [
      "[CV] .................. alpha=0.0035938136638, score=0.718989 -   5.7s\n",
      "[CV] alpha=0.0129154966501 ...........................................\n",
      "[CV] .................. alpha=0.0129154966501, score=0.717738 -   2.8s\n",
      "[CV] alpha=0.0129154966501 ...........................................\n",
      "[CV] .................. alpha=0.0129154966501, score=0.718103 -   2.8s\n",
      "[CV] alpha=0.0129154966501 ...........................................\n",
      "[CV] .................. alpha=0.0129154966501, score=0.718138 -   2.8s\n",
      "[CV] alpha=0.0129154966501 ...........................................\n",
      "[CV] .................. alpha=0.0129154966501, score=0.719056 -   2.9s\n",
      "[CV] alpha=0.0129154966501 ...........................................\n",
      "[CV] .................. alpha=0.0129154966501, score=0.718978 -   2.8s\n",
      "[CV] alpha=0.0464158883361 ...........................................\n",
      "[CV] .................. alpha=0.0464158883361, score=0.717601 -   2.0s\n",
      "[CV] alpha=0.0464158883361 ...........................................\n",
      "[CV] .................. alpha=0.0464158883361, score=0.717933 -   2.0s\n",
      "[CV] alpha=0.0464158883361 ...........................................\n",
      "[CV] .................. alpha=0.0464158883361, score=0.717909 -   2.0s\n",
      "[CV] alpha=0.0464158883361 ...........................................\n",
      "[CV] .................. alpha=0.0464158883361, score=0.718884 -   2.1s\n",
      "[CV] alpha=0.0464158883361 ...........................................\n",
      "[CV] .................. alpha=0.0464158883361, score=0.718816 -   2.1s\n",
      "[CV] alpha=0.16681005372 .............................................\n",
      "[CV] .................... alpha=0.16681005372, score=0.715497 -   2.3s\n",
      "[CV] alpha=0.16681005372 .............................................\n",
      "[CV] .................... alpha=0.16681005372, score=0.715688 -   2.2s\n",
      "[CV] alpha=0.16681005372 .............................................\n",
      "[CV] .................... alpha=0.16681005372, score=0.715458 -   2.2s\n",
      "[CV] alpha=0.16681005372 .............................................\n",
      "[CV] .................... alpha=0.16681005372, score=0.716628 -   2.1s\n",
      "[CV] alpha=0.16681005372 .............................................\n",
      "[CV] .................... alpha=0.16681005372, score=0.716600 -   2.2s\n",
      "[CV] alpha=0.599484250319 ............................................\n",
      "[CV] ................... alpha=0.599484250319, score=0.695568 -   1.8s\n",
      "[CV] alpha=0.599484250319 ............................................\n",
      "[CV] ................... alpha=0.599484250319, score=0.695360 -   1.7s\n",
      "[CV] alpha=0.599484250319 ............................................\n",
      "[CV] ................... alpha=0.599484250319, score=0.694801 -   1.7s\n",
      "[CV] alpha=0.599484250319 ............................................\n",
      "[CV] ................... alpha=0.599484250319, score=0.696220 -   1.7s\n",
      "[CV] alpha=0.599484250319 ............................................\n",
      "[CV] ................... alpha=0.599484250319, score=0.696634 -   1.7s\n",
      "[CV] alpha=2.15443469003 .............................................\n",
      "[CV] .................... alpha=2.15443469003, score=0.516840 -   1.4s\n",
      "[CV] alpha=2.15443469003 .............................................\n",
      "[CV] .................... alpha=2.15443469003, score=0.514844 -   1.4s\n",
      "[CV] alpha=2.15443469003 .............................................\n",
      "[CV] .................... alpha=2.15443469003, score=0.513620 -   1.3s\n",
      "[CV] alpha=2.15443469003 .............................................\n",
      "[CV] .................... alpha=2.15443469003, score=0.514985 -   1.3s\n",
      "[CV] alpha=2.15443469003 .............................................\n",
      "[CV] .................... alpha=2.15443469003, score=0.518575 -   1.4s\n",
      "[CV] alpha=7.74263682681 .............................................\n",
      "[CV] .................... alpha=7.74263682681, score=0.230295 -   1.2s\n",
      "[CV] alpha=7.74263682681 .............................................\n",
      "[CV] .................... alpha=7.74263682681, score=0.228442 -   1.2s\n",
      "[CV] alpha=7.74263682681 .............................................\n",
      "[CV] .................... alpha=7.74263682681, score=0.227231 -   1.2s\n",
      "[CV] alpha=7.74263682681 .............................................\n",
      "[CV] .................... alpha=7.74263682681, score=0.226082 -   1.2s\n",
      "[CV] alpha=7.74263682681 .............................................\n",
      "[CV] .................... alpha=7.74263682681, score=0.230750 -   1.2s\n",
      "[CV] alpha=27.8255940221 .............................................\n",
      "[CV] .................... alpha=27.8255940221, score=0.220347 -   1.2s\n",
      "[CV] alpha=27.8255940221 .............................................\n",
      "[CV] .................... alpha=27.8255940221, score=0.218329 -   1.2s\n",
      "[CV] alpha=27.8255940221 .............................................\n",
      "[CV] .................... alpha=27.8255940221, score=0.217888 -   1.2s\n",
      "[CV] alpha=27.8255940221 .............................................\n",
      "[CV] .................... alpha=27.8255940221, score=0.216815 -   1.2s\n",
      "[CV] alpha=27.8255940221 .............................................\n",
      "[CV] .................... alpha=27.8255940221, score=0.220744 -   1.2s\n",
      "[CV] alpha=100.0 .....................................................\n",
      "[CV] ............................ alpha=100.0, score=0.094010 -   1.2s\n",
      "[CV] alpha=100.0 .....................................................\n",
      "[CV] ............................ alpha=100.0, score=0.091577 -   1.2s\n",
      "[CV] alpha=100.0 .....................................................\n",
      "[CV] ............................ alpha=100.0, score=0.093693 -   1.2s\n",
      "[CV] alpha=100.0 .....................................................\n",
      "[CV] ............................ alpha=100.0, score=0.092779 -   1.2s\n",
      "[CV] alpha=100.0 .....................................................\n",
      "[CV] ............................ alpha=100.0, score=0.093400 -   1.2s\n"
     ]
    },
    {
     "name": "stderr",
     "output_type": "stream",
     "text": [
      "[Parallel(n_jobs=1)]: Done  50 out of  50 | elapsed:  3.0min finished\n"
     ]
    },
    {
     "data": {
      "text/plain": [
       "GridSearchCV(cv=5, error_score='raise',\n",
       "       estimator=Lasso(alpha=1.0, copy_X=True, fit_intercept=True, max_iter=1000,\n",
       "   normalize=False, positive=False, precompute=False, random_state=None,\n",
       "   selection='cyclic', tol=0.0001, warm_start=False),\n",
       "       fit_params={}, iid=True, n_jobs=1,\n",
       "       param_grid=[{'alpha': array([  1.00000e-03,   3.59381e-03,   1.29155e-02,   4.64159e-02,\n",
       "         1.66810e-01,   5.99484e-01,   2.15443e+00,   7.74264e+00,\n",
       "         2.78256e+01,   1.00000e+02])}],\n",
       "       pre_dispatch='2*n_jobs', refit=True, scoring='r2', verbose=10)"
      ]
     },
     "execution_count": 26,
     "metadata": {},
     "output_type": "execute_result"
    }
   ],
   "source": [
    "# Running Lasso regression\n",
    "alphas = np.logspace(-3,2,10)\n",
    "tuning_parameters = [{'alpha': alphas}]\n",
    "grid_lasso = GridSearchCV(linear_model.Lasso(),tuning_parameters,cv=5,scoring='r2',verbose=10)\n",
    "grid_lasso.fit(train_x,train_y)"
   ]
  },
  {
   "cell_type": "code",
   "execution_count": 27,
   "metadata": {
    "collapsed": false
   },
   "outputs": [
    {
     "name": "stdout",
     "output_type": "stream",
     "text": [
      "Lasso(alpha=0.001, copy_X=True, fit_intercept=True, max_iter=1000,\n",
      "   normalize=False, positive=False, precompute=False, random_state=None,\n",
      "   selection='cyclic', tol=0.0001, warm_start=False)\n",
      "0.71841716633\n"
     ]
    }
   ],
   "source": [
    "print grid_lasso.best_estimator_\n",
    "print grid_lasso.best_score_"
   ]
  },
  {
   "cell_type": "code",
   "execution_count": 28,
   "metadata": {
    "collapsed": false
   },
   "outputs": [
    {
     "name": "stdout",
     "output_type": "stream",
     "text": [
      "Fitting 3 folds for each of 5 candidates, totalling 15 fits\n",
      "[CV] n_estimators=50, max_depth=None .................................\n"
     ]
    },
    {
     "name": "stderr",
     "output_type": "stream",
     "text": [
      "/Users/saarthakkhanna/anaconda2/lib/python2.7/site-packages/sklearn/cross_validation.py:1665: DataConversionWarning: A column-vector y was passed when a 1d array was expected. Please change the shape of y to (n_samples,), for example using ravel().\n",
      "  estimator.fit(X_train, y_train, **fit_params)\n"
     ]
    },
    {
     "name": "stdout",
     "output_type": "stream",
     "text": [
      "[CV] ........ n_estimators=50, max_depth=None, score=0.664368 - 2.1min\n",
      "[CV] n_estimators=50, max_depth=None .................................\n"
     ]
    },
    {
     "name": "stderr",
     "output_type": "stream",
     "text": [
      "[Parallel(n_jobs=1)]: Done   1 out of   1 | elapsed:  2.1min remaining:    0.0s\n"
     ]
    },
    {
     "name": "stdout",
     "output_type": "stream",
     "text": [
      "[CV] ........ n_estimators=50, max_depth=None, score=0.664512 - 2.1min\n",
      "[CV] n_estimators=50, max_depth=None .................................\n"
     ]
    },
    {
     "name": "stderr",
     "output_type": "stream",
     "text": [
      "[Parallel(n_jobs=1)]: Done   2 out of   2 | elapsed:  4.2min remaining:    0.0s\n"
     ]
    },
    {
     "name": "stdout",
     "output_type": "stream",
     "text": [
      "[CV] ........ n_estimators=50, max_depth=None, score=0.664846 - 2.1min\n",
      "[CV] n_estimators=50, max_depth=19 ...................................\n"
     ]
    },
    {
     "name": "stderr",
     "output_type": "stream",
     "text": [
      "[Parallel(n_jobs=1)]: Done   3 out of   3 | elapsed:  6.3min remaining:    0.0s\n"
     ]
    },
    {
     "name": "stdout",
     "output_type": "stream",
     "text": [
      "[CV] .......... n_estimators=50, max_depth=19, score=0.711506 - 1.9min\n",
      "[CV] n_estimators=50, max_depth=19 ...................................\n"
     ]
    },
    {
     "name": "stderr",
     "output_type": "stream",
     "text": [
      "[Parallel(n_jobs=1)]: Done   4 out of   4 | elapsed:  8.2min remaining:    0.0s\n"
     ]
    },
    {
     "name": "stdout",
     "output_type": "stream",
     "text": [
      "[CV] .......... n_estimators=50, max_depth=19, score=0.712173 - 1.9min\n",
      "[CV] n_estimators=50, max_depth=19 ...................................\n"
     ]
    },
    {
     "name": "stderr",
     "output_type": "stream",
     "text": [
      "[Parallel(n_jobs=1)]: Done   5 out of   5 | elapsed: 10.1min remaining:    0.0s\n"
     ]
    },
    {
     "name": "stdout",
     "output_type": "stream",
     "text": [
      "[CV] .......... n_estimators=50, max_depth=19, score=0.712378 - 1.9min\n",
      "[CV] n_estimators=50, max_depth=17 ...................................\n"
     ]
    },
    {
     "name": "stderr",
     "output_type": "stream",
     "text": [
      "[Parallel(n_jobs=1)]: Done   6 out of   6 | elapsed: 11.9min remaining:    0.0s\n"
     ]
    },
    {
     "name": "stdout",
     "output_type": "stream",
     "text": [
      "[CV] .......... n_estimators=50, max_depth=17, score=0.723371 - 2.1min\n",
      "[CV] n_estimators=50, max_depth=17 ...................................\n"
     ]
    },
    {
     "name": "stderr",
     "output_type": "stream",
     "text": [
      "[Parallel(n_jobs=1)]: Done   7 out of   7 | elapsed: 14.0min remaining:    0.0s\n"
     ]
    },
    {
     "name": "stdout",
     "output_type": "stream",
     "text": [
      "[CV] .......... n_estimators=50, max_depth=17, score=0.723880 - 2.0min\n",
      "[CV] n_estimators=50, max_depth=17 ...................................\n"
     ]
    },
    {
     "name": "stderr",
     "output_type": "stream",
     "text": [
      "[Parallel(n_jobs=1)]: Done   8 out of   8 | elapsed: 16.0min remaining:    0.0s\n"
     ]
    },
    {
     "name": "stdout",
     "output_type": "stream",
     "text": [
      "[CV] .......... n_estimators=50, max_depth=17, score=0.724174 - 1.7min\n",
      "[CV] n_estimators=50, max_depth=15 ...................................\n"
     ]
    },
    {
     "name": "stderr",
     "output_type": "stream",
     "text": [
      "[Parallel(n_jobs=1)]: Done   9 out of   9 | elapsed: 17.7min remaining:    0.0s\n"
     ]
    },
    {
     "name": "stdout",
     "output_type": "stream",
     "text": [
      "[CV] .......... n_estimators=50, max_depth=15, score=0.729084 - 1.7min\n",
      "[CV] n_estimators=50, max_depth=15 ...................................\n",
      "[CV] .......... n_estimators=50, max_depth=15, score=0.729576 - 1.8min\n",
      "[CV] n_estimators=50, max_depth=15 ...................................\n",
      "[CV] .......... n_estimators=50, max_depth=15, score=0.730283 - 2.0min\n",
      "[CV] n_estimators=50, max_depth=10 ...................................\n",
      "[CV] .......... n_estimators=50, max_depth=10, score=0.700761 - 1.4min\n",
      "[CV] n_estimators=50, max_depth=10 ...................................\n",
      "[CV] .......... n_estimators=50, max_depth=10, score=0.701047 - 1.4min\n",
      "[CV] n_estimators=50, max_depth=10 ...................................\n",
      "[CV] .......... n_estimators=50, max_depth=10, score=0.702202 - 1.4min\n"
     ]
    },
    {
     "name": "stderr",
     "output_type": "stream",
     "text": [
      "[Parallel(n_jobs=1)]: Done  15 out of  15 | elapsed: 27.4min finished\n",
      "/Users/saarthakkhanna/anaconda2/lib/python2.7/site-packages/sklearn/grid_search.py:619: DataConversionWarning: A column-vector y was passed when a 1d array was expected. Please change the shape of y to (n_samples,), for example using ravel().\n",
      "  best_estimator.fit(X, y, **self.fit_params)\n"
     ]
    },
    {
     "data": {
      "text/plain": [
       "GridSearchCV(cv=3, error_score='raise',\n",
       "       estimator=RandomForestRegressor(bootstrap=True, criterion='mse', max_depth=None,\n",
       "           max_features='auto', max_leaf_nodes=None,\n",
       "           min_impurity_split=1e-07, min_samples_leaf=1,\n",
       "           min_samples_split=2, min_weight_fraction_leaf=0.0,\n",
       "           n_estimators=10, n_jobs=1, oob_score=False, random_state=None,\n",
       "           verbose=0, warm_start=False),\n",
       "       fit_params={}, iid=True, n_jobs=1,\n",
       "       param_grid={'n_estimators': [50], 'max_depth': [None, 19, 17, 15, 10]},\n",
       "       pre_dispatch='2*n_jobs', refit=True, scoring='r2', verbose=10)"
      ]
     },
     "execution_count": 28,
     "metadata": {},
     "output_type": "execute_result"
    }
   ],
   "source": [
    "# Running Random Forest\n",
    "# Running Grid search with 'n_estimators' and 'max_depth' as parameters\n",
    "from sklearn.ensemble import RandomForestRegressor\n",
    "rf_reg = RandomForestRegressor()\n",
    "param_dict = {'n_estimators':[50],'max_depth':[None,19,17,15,10]}\n",
    "grid_rf = GridSearchCV(rf_reg,param_grid=param_dict,verbose=10,scoring='r2',cv=3,n_jobs=1)\n",
    "grid_rf.fit(train_x,train_y)"
   ]
  },
  {
   "cell_type": "code",
   "execution_count": 29,
   "metadata": {
    "collapsed": false
   },
   "outputs": [
    {
     "name": "stdout",
     "output_type": "stream",
     "text": [
      "RandomForestRegressor(bootstrap=True, criterion='mse', max_depth=15,\n",
      "           max_features='auto', max_leaf_nodes=None,\n",
      "           min_impurity_split=1e-07, min_samples_leaf=1,\n",
      "           min_samples_split=2, min_weight_fraction_leaf=0.0,\n",
      "           n_estimators=50, n_jobs=1, oob_score=False, random_state=None,\n",
      "           verbose=0, warm_start=False)\n",
      "0.729647805808\n"
     ]
    }
   ],
   "source": [
    "print grid_rf.best_estimator_\n",
    "print grid_rf.best_score_"
   ]
  },
  {
   "cell_type": "code",
   "execution_count": 30,
   "metadata": {
    "collapsed": false
   },
   "outputs": [
    {
     "name": "stdout",
     "output_type": "stream",
     "text": [
      "Fitting 3 folds for each of 3 candidates, totalling 9 fits\n",
      "[CV] n_estimators=50, max_depth=14 ...................................\n",
      "[CV] .......... n_estimators=50, max_depth=14, score=0.729364 - 2.0min\n",
      "[CV] n_estimators=50, max_depth=14 ...................................\n"
     ]
    },
    {
     "name": "stderr",
     "output_type": "stream",
     "text": [
      "[Parallel(n_jobs=1)]: Done   1 out of   1 | elapsed:  2.0min remaining:    0.0s\n"
     ]
    },
    {
     "name": "stdout",
     "output_type": "stream",
     "text": [
      "[CV] .......... n_estimators=50, max_depth=14, score=0.729781 - 1.9min\n",
      "[CV] n_estimators=50, max_depth=14 ...................................\n"
     ]
    },
    {
     "name": "stderr",
     "output_type": "stream",
     "text": [
      "[Parallel(n_jobs=1)]: Done   2 out of   2 | elapsed:  4.0min remaining:    0.0s\n"
     ]
    },
    {
     "name": "stdout",
     "output_type": "stream",
     "text": [
      "[CV] .......... n_estimators=50, max_depth=14, score=0.730521 - 1.7min\n",
      "[CV] n_estimators=50, max_depth=13 ...................................\n"
     ]
    },
    {
     "name": "stderr",
     "output_type": "stream",
     "text": [
      "[Parallel(n_jobs=1)]: Done   3 out of   3 | elapsed:  5.7min remaining:    0.0s\n"
     ]
    },
    {
     "name": "stdout",
     "output_type": "stream",
     "text": [
      "[CV] .......... n_estimators=50, max_depth=13, score=0.727012 - 1.8min\n",
      "[CV] n_estimators=50, max_depth=13 ...................................\n"
     ]
    },
    {
     "name": "stderr",
     "output_type": "stream",
     "text": [
      "[Parallel(n_jobs=1)]: Done   4 out of   4 | elapsed:  7.5min remaining:    0.0s\n"
     ]
    },
    {
     "name": "stdout",
     "output_type": "stream",
     "text": [
      "[CV] .......... n_estimators=50, max_depth=13, score=0.727434 - 1.7min\n",
      "[CV] n_estimators=50, max_depth=13 ...................................\n"
     ]
    },
    {
     "name": "stderr",
     "output_type": "stream",
     "text": [
      "[Parallel(n_jobs=1)]: Done   5 out of   5 | elapsed:  9.2min remaining:    0.0s\n"
     ]
    },
    {
     "name": "stdout",
     "output_type": "stream",
     "text": [
      "[CV] .......... n_estimators=50, max_depth=13, score=0.728364 - 2.0min\n",
      "[CV] n_estimators=50, max_depth=12 ...................................\n"
     ]
    },
    {
     "name": "stderr",
     "output_type": "stream",
     "text": [
      "[Parallel(n_jobs=1)]: Done   6 out of   6 | elapsed: 11.2min remaining:    0.0s\n"
     ]
    },
    {
     "name": "stdout",
     "output_type": "stream",
     "text": [
      "[CV] .......... n_estimators=50, max_depth=12, score=0.721634 - 1.9min\n",
      "[CV] n_estimators=50, max_depth=12 ...................................\n"
     ]
    },
    {
     "name": "stderr",
     "output_type": "stream",
     "text": [
      "[Parallel(n_jobs=1)]: Done   7 out of   7 | elapsed: 13.1min remaining:    0.0s\n"
     ]
    },
    {
     "name": "stdout",
     "output_type": "stream",
     "text": [
      "[CV] .......... n_estimators=50, max_depth=12, score=0.721682 - 2.0min\n",
      "[CV] n_estimators=50, max_depth=12 ...................................\n"
     ]
    },
    {
     "name": "stderr",
     "output_type": "stream",
     "text": [
      "[Parallel(n_jobs=1)]: Done   8 out of   8 | elapsed: 15.1min remaining:    0.0s\n"
     ]
    },
    {
     "name": "stdout",
     "output_type": "stream",
     "text": [
      "[CV] .......... n_estimators=50, max_depth=12, score=0.722985 - 1.7min\n"
     ]
    },
    {
     "name": "stderr",
     "output_type": "stream",
     "text": [
      "[Parallel(n_jobs=1)]: Done   9 out of   9 | elapsed: 16.8min remaining:    0.0s\n",
      "[Parallel(n_jobs=1)]: Done   9 out of   9 | elapsed: 16.8min finished\n"
     ]
    },
    {
     "data": {
      "text/plain": [
       "GridSearchCV(cv=3, error_score='raise',\n",
       "       estimator=RandomForestRegressor(bootstrap=True, criterion='mse', max_depth=None,\n",
       "           max_features='auto', max_leaf_nodes=None,\n",
       "           min_impurity_split=1e-07, min_samples_leaf=1,\n",
       "           min_samples_split=2, min_weight_fraction_leaf=0.0,\n",
       "           n_estimators=10, n_jobs=1, oob_score=False, random_state=None,\n",
       "           verbose=0, warm_start=False),\n",
       "       fit_params={}, iid=True, n_jobs=1,\n",
       "       param_grid={'n_estimators': [50], 'max_depth': [14, 13, 12]},\n",
       "       pre_dispatch='2*n_jobs', refit=True, scoring='r2', verbose=10)"
      ]
     },
     "execution_count": 30,
     "metadata": {},
     "output_type": "execute_result"
    }
   ],
   "source": [
    "# Running Grid search with 'n_estimators' and 'max_depth' as parameters\n",
    "rf_reg = RandomForestRegressor()\n",
    "param_dict = {'n_estimators':[50],'max_depth':[14,13,12]}\n",
    "grid_rf = GridSearchCV(rf_reg,param_grid=param_dict,verbose=10,scoring='r2',cv=3,n_jobs=1)\n",
    "grid_rf.fit(train_x,train_y)"
   ]
  },
  {
   "cell_type": "code",
   "execution_count": 32,
   "metadata": {
    "collapsed": false
   },
   "outputs": [
    {
     "name": "stdout",
     "output_type": "stream",
     "text": [
      "RandomForestRegressor(bootstrap=True, criterion='mse', max_depth=14,\n",
      "           max_features='auto', max_leaf_nodes=None,\n",
      "           min_impurity_split=1e-07, min_samples_leaf=1,\n",
      "           min_samples_split=2, min_weight_fraction_leaf=0.0,\n",
      "           n_estimators=50, n_jobs=1, oob_score=False, random_state=None,\n",
      "           verbose=0, warm_start=False)\n",
      "0.729888692244\n"
     ]
    }
   ],
   "source": [
    "print grid_rf.best_estimator_\n",
    "print grid_rf.best_score_"
   ]
  },
  {
   "cell_type": "code",
   "execution_count": 33,
   "metadata": {
    "collapsed": false
   },
   "outputs": [
    {
     "name": "stdout",
     "output_type": "stream",
     "text": [
      "Fitting 3 folds for each of 1 candidates, totalling 3 fits\n",
      "[CV] n_estimators=100, max_depth=14 ..................................\n",
      "[CV] ......... n_estimators=100, max_depth=14, score=0.729474 - 3.5min\n",
      "[CV] n_estimators=100, max_depth=14 ..................................\n"
     ]
    },
    {
     "name": "stderr",
     "output_type": "stream",
     "text": [
      "[Parallel(n_jobs=1)]: Done   1 out of   1 | elapsed:  3.5min remaining:    0.0s\n"
     ]
    },
    {
     "name": "stdout",
     "output_type": "stream",
     "text": [
      "[CV] ......... n_estimators=100, max_depth=14, score=0.729887 - 3.5min\n",
      "[CV] n_estimators=100, max_depth=14 ..................................\n"
     ]
    },
    {
     "name": "stderr",
     "output_type": "stream",
     "text": [
      "[Parallel(n_jobs=1)]: Done   2 out of   2 | elapsed:  7.0min remaining:    0.0s\n"
     ]
    },
    {
     "name": "stdout",
     "output_type": "stream",
     "text": [
      "[CV] ......... n_estimators=100, max_depth=14, score=0.730589 - 3.6min\n"
     ]
    },
    {
     "name": "stderr",
     "output_type": "stream",
     "text": [
      "[Parallel(n_jobs=1)]: Done   3 out of   3 | elapsed: 10.6min remaining:    0.0s\n",
      "[Parallel(n_jobs=1)]: Done   3 out of   3 | elapsed: 10.6min finished\n"
     ]
    },
    {
     "data": {
      "text/plain": [
       "GridSearchCV(cv=3, error_score='raise',\n",
       "       estimator=RandomForestRegressor(bootstrap=True, criterion='mse', max_depth=None,\n",
       "           max_features='auto', max_leaf_nodes=None,\n",
       "           min_impurity_split=1e-07, min_samples_leaf=1,\n",
       "           min_samples_split=2, min_weight_fraction_leaf=0.0,\n",
       "           n_estimators=10, n_jobs=1, oob_score=False, random_state=None,\n",
       "           verbose=0, warm_start=False),\n",
       "       fit_params={}, iid=True, n_jobs=1,\n",
       "       param_grid={'n_estimators': [100], 'max_depth': [14]},\n",
       "       pre_dispatch='2*n_jobs', refit=True, scoring='r2', verbose=10)"
      ]
     },
     "execution_count": 33,
     "metadata": {},
     "output_type": "execute_result"
    }
   ],
   "source": [
    "# Running Grid search with 'n_estimators' and 'max_depth' as parameters\n",
    "rf_reg = RandomForestRegressor()\n",
    "param_dict = {'n_estimators':[100],'max_depth':[14]}\n",
    "grid_rf = GridSearchCV(rf_reg,param_grid=param_dict,verbose=10,scoring='r2',cv=3,n_jobs=1)\n",
    "grid_rf.fit(train_x,train_y)"
   ]
  },
  {
   "cell_type": "code",
   "execution_count": 34,
   "metadata": {
    "collapsed": false
   },
   "outputs": [
    {
     "name": "stdout",
     "output_type": "stream",
     "text": [
      "RandomForestRegressor(bootstrap=True, criterion='mse', max_depth=14,\n",
      "           max_features='auto', max_leaf_nodes=None,\n",
      "           min_impurity_split=1e-07, min_samples_leaf=1,\n",
      "           min_samples_split=2, min_weight_fraction_leaf=0.0,\n",
      "           n_estimators=100, n_jobs=1, oob_score=False, random_state=None,\n",
      "           verbose=0, warm_start=False)\n",
      "0.729983116772\n"
     ]
    }
   ],
   "source": [
    "print grid_rf.best_estimator_\n",
    "print grid_rf.best_score_"
   ]
  },
  {
   "cell_type": "code",
   "execution_count": 36,
   "metadata": {
    "collapsed": false
   },
   "outputs": [
    {
     "name": "stdout",
     "output_type": "stream",
     "text": [
      "Fitting 3 folds for each of 6 candidates, totalling 18 fits\n",
      "[CV] n_estimators=30, max_depth=4 ....................................\n"
     ]
    },
    {
     "name": "stderr",
     "output_type": "stream",
     "text": [
      "/Users/saarthakkhanna/anaconda2/lib/python2.7/site-packages/sklearn/utils/validation.py:526: DataConversionWarning: A column-vector y was passed when a 1d array was expected. Please change the shape of y to (n_samples, ), for example using ravel().\n",
      "  y = column_or_1d(y, warn=True)\n"
     ]
    },
    {
     "name": "stdout",
     "output_type": "stream",
     "text": [
      "[CV] ........... n_estimators=30, max_depth=4, score=0.676253 -  44.0s\n",
      "[CV] n_estimators=30, max_depth=4 ....................................\n"
     ]
    },
    {
     "name": "stderr",
     "output_type": "stream",
     "text": [
      "[Parallel(n_jobs=1)]: Done   1 out of   1 | elapsed:   44.1s remaining:    0.0s\n"
     ]
    },
    {
     "name": "stdout",
     "output_type": "stream",
     "text": [
      "[CV] ........... n_estimators=30, max_depth=4, score=0.675435 -  47.2s\n",
      "[CV] n_estimators=30, max_depth=4 ....................................\n"
     ]
    },
    {
     "name": "stderr",
     "output_type": "stream",
     "text": [
      "[Parallel(n_jobs=1)]: Done   2 out of   2 | elapsed:  1.5min remaining:    0.0s\n"
     ]
    },
    {
     "name": "stdout",
     "output_type": "stream",
     "text": [
      "[CV] ........... n_estimators=30, max_depth=4, score=0.678116 -  44.3s\n",
      "[CV] n_estimators=50, max_depth=4 ....................................\n"
     ]
    },
    {
     "name": "stderr",
     "output_type": "stream",
     "text": [
      "[Parallel(n_jobs=1)]: Done   3 out of   3 | elapsed:  2.3min remaining:    0.0s\n"
     ]
    },
    {
     "name": "stdout",
     "output_type": "stream",
     "text": [
      "[CV] ........... n_estimators=50, max_depth=4, score=0.719175 - 1.2min\n",
      "[CV] n_estimators=50, max_depth=4 ....................................\n"
     ]
    },
    {
     "name": "stderr",
     "output_type": "stream",
     "text": [
      "[Parallel(n_jobs=1)]: Done   4 out of   4 | elapsed:  3.5min remaining:    0.0s\n"
     ]
    },
    {
     "name": "stdout",
     "output_type": "stream",
     "text": [
      "[CV] ........... n_estimators=50, max_depth=4, score=0.717904 - 1.2min\n",
      "[CV] n_estimators=50, max_depth=4 ....................................\n"
     ]
    },
    {
     "name": "stderr",
     "output_type": "stream",
     "text": [
      "[Parallel(n_jobs=1)]: Done   5 out of   5 | elapsed:  4.7min remaining:    0.0s\n"
     ]
    },
    {
     "name": "stdout",
     "output_type": "stream",
     "text": [
      "[CV] ........... n_estimators=50, max_depth=4, score=0.719893 - 1.3min\n",
      "[CV] n_estimators=30, max_depth=5 ....................................\n"
     ]
    },
    {
     "name": "stderr",
     "output_type": "stream",
     "text": [
      "[Parallel(n_jobs=1)]: Done   6 out of   6 | elapsed:  5.9min remaining:    0.0s\n"
     ]
    },
    {
     "name": "stdout",
     "output_type": "stream",
     "text": [
      "[CV] ........... n_estimators=30, max_depth=5, score=0.699753 - 1.1min\n",
      "[CV] n_estimators=30, max_depth=5 ....................................\n"
     ]
    },
    {
     "name": "stderr",
     "output_type": "stream",
     "text": [
      "[Parallel(n_jobs=1)]: Done   7 out of   7 | elapsed:  7.0min remaining:    0.0s\n"
     ]
    },
    {
     "name": "stdout",
     "output_type": "stream",
     "text": [
      "[CV] ........... n_estimators=30, max_depth=5, score=0.700164 - 1.1min\n",
      "[CV] n_estimators=30, max_depth=5 ....................................\n"
     ]
    },
    {
     "name": "stderr",
     "output_type": "stream",
     "text": [
      "[Parallel(n_jobs=1)]: Done   8 out of   8 | elapsed:  8.1min remaining:    0.0s\n"
     ]
    },
    {
     "name": "stdout",
     "output_type": "stream",
     "text": [
      "[CV] ........... n_estimators=30, max_depth=5, score=0.702400 - 1.2min\n",
      "[CV] n_estimators=50, max_depth=5 ....................................\n"
     ]
    },
    {
     "name": "stderr",
     "output_type": "stream",
     "text": [
      "[Parallel(n_jobs=1)]: Done   9 out of   9 | elapsed:  9.3min remaining:    0.0s\n"
     ]
    },
    {
     "name": "stdout",
     "output_type": "stream",
     "text": [
      "[CV] ........... n_estimators=50, max_depth=5, score=0.727832 - 1.8min\n",
      "[CV] n_estimators=50, max_depth=5 ....................................\n",
      "[CV] ........... n_estimators=50, max_depth=5, score=0.727848 - 1.9min\n",
      "[CV] n_estimators=50, max_depth=5 ....................................\n",
      "[CV] ........... n_estimators=50, max_depth=5, score=0.728946 - 1.9min\n",
      "[CV] n_estimators=30, max_depth=6 ....................................\n",
      "[CV] ........... n_estimators=30, max_depth=6, score=0.714065 - 1.9min\n",
      "[CV] n_estimators=30, max_depth=6 ....................................\n",
      "[CV] ........... n_estimators=30, max_depth=6, score=0.713772 - 1.8min\n",
      "[CV] n_estimators=30, max_depth=6 ....................................\n",
      "[CV] ........... n_estimators=30, max_depth=6, score=0.715280 - 1.9min\n",
      "[CV] n_estimators=50, max_depth=6 ....................................\n",
      "[CV] ........... n_estimators=50, max_depth=6, score=0.731855 - 3.0min\n",
      "[CV] n_estimators=50, max_depth=6 ....................................\n",
      "[CV] ........... n_estimators=50, max_depth=6, score=0.731606 - 2.8min\n",
      "[CV] n_estimators=50, max_depth=6 ....................................\n",
      "[CV] ........... n_estimators=50, max_depth=6, score=0.732768 - 2.8min\n"
     ]
    },
    {
     "name": "stderr",
     "output_type": "stream",
     "text": [
      "[Parallel(n_jobs=1)]: Done  18 out of  18 | elapsed: 29.2min finished\n"
     ]
    },
    {
     "data": {
      "text/plain": [
       "GridSearchCV(cv=3, error_score='raise',\n",
       "       estimator=GradientBoostingRegressor(alpha=0.9, criterion='friedman_mse', init=None,\n",
       "             learning_rate=0.1, loss='ls', max_depth=3, max_features=None,\n",
       "             max_leaf_nodes=None, min_impurity_split=1e-07,\n",
       "             min_samples_leaf=1, min_samples_split=2,\n",
       "             min_weight_fraction_leaf=0.0, n_estimators=100,\n",
       "             presort='auto', random_state=None, subsample=1.0, verbose=0,\n",
       "             warm_start=False),\n",
       "       fit_params={}, iid=True, n_jobs=1,\n",
       "       param_grid={'n_estimators': [30, 50], 'max_depth': [4, 5, 6]},\n",
       "       pre_dispatch='2*n_jobs', refit=True, scoring='r2', verbose=10)"
      ]
     },
     "execution_count": 36,
     "metadata": {},
     "output_type": "execute_result"
    }
   ],
   "source": [
    "# Running Gradient Boosted Trees\n",
    "# Search for optimal 'n_estimators' and 'max_depth'\n",
    "from sklearn.ensemble import GradientBoostingRegressor\n",
    "\n",
    "gbr = GradientBoostingRegressor()\n",
    "param_dict = {'n_estimators':[30,50],'max_depth':[4,5,6]}\n",
    "grid_gbr = GridSearchCV(gbr,param_grid=param_dict,verbose=10,scoring='r2',cv=3)\n",
    "grid_gbr.fit(train_x,train_y)"
   ]
  },
  {
   "cell_type": "code",
   "execution_count": 37,
   "metadata": {
    "collapsed": false
   },
   "outputs": [
    {
     "name": "stdout",
     "output_type": "stream",
     "text": [
      "GradientBoostingRegressor(alpha=0.9, criterion='friedman_mse', init=None,\n",
      "             learning_rate=0.1, loss='ls', max_depth=6, max_features=None,\n",
      "             max_leaf_nodes=None, min_impurity_split=1e-07,\n",
      "             min_samples_leaf=1, min_samples_split=2,\n",
      "             min_weight_fraction_leaf=0.0, n_estimators=50, presort='auto',\n",
      "             random_state=None, subsample=1.0, verbose=0, warm_start=False)\n",
      "0.732076303039\n"
     ]
    }
   ],
   "source": [
    "print grid_gbr.best_estimator_\n",
    "print grid_gbr.best_score_"
   ]
  },
  {
   "cell_type": "code",
   "execution_count": 38,
   "metadata": {
    "collapsed": false
   },
   "outputs": [
    {
     "name": "stdout",
     "output_type": "stream",
     "text": [
      "Fitting 3 folds for each of 3 candidates, totalling 9 fits\n",
      "[CV] n_estimators=30, max_depth=7 ....................................\n",
      "[CV] ........... n_estimators=30, max_depth=7, score=0.721767 - 2.8min\n",
      "[CV] n_estimators=30, max_depth=7 ....................................\n"
     ]
    },
    {
     "name": "stderr",
     "output_type": "stream",
     "text": [
      "[Parallel(n_jobs=1)]: Done   1 out of   1 | elapsed:  2.8min remaining:    0.0s\n"
     ]
    },
    {
     "name": "stdout",
     "output_type": "stream",
     "text": [
      "[CV] ........... n_estimators=30, max_depth=7, score=0.721407 - 2.7min\n",
      "[CV] n_estimators=30, max_depth=7 ....................................\n"
     ]
    },
    {
     "name": "stderr",
     "output_type": "stream",
     "text": [
      "[Parallel(n_jobs=1)]: Done   2 out of   2 | elapsed:  5.6min remaining:    0.0s\n"
     ]
    },
    {
     "name": "stdout",
     "output_type": "stream",
     "text": [
      "[CV] ........... n_estimators=30, max_depth=7, score=0.722936 - 2.9min\n",
      "[CV] n_estimators=30, max_depth=8 ....................................\n"
     ]
    },
    {
     "name": "stderr",
     "output_type": "stream",
     "text": [
      "[Parallel(n_jobs=1)]: Done   3 out of   3 | elapsed:  8.4min remaining:    0.0s\n"
     ]
    },
    {
     "name": "stdout",
     "output_type": "stream",
     "text": [
      "[CV] ........... n_estimators=30, max_depth=8, score=0.726692 - 4.3min\n",
      "[CV] n_estimators=30, max_depth=8 ....................................\n"
     ]
    },
    {
     "name": "stderr",
     "output_type": "stream",
     "text": [
      "[Parallel(n_jobs=1)]: Done   4 out of   4 | elapsed: 12.7min remaining:    0.0s\n"
     ]
    },
    {
     "name": "stdout",
     "output_type": "stream",
     "text": [
      "[CV] ........... n_estimators=30, max_depth=8, score=0.726337 - 4.3min\n",
      "[CV] n_estimators=30, max_depth=8 ....................................\n"
     ]
    },
    {
     "name": "stderr",
     "output_type": "stream",
     "text": [
      "[Parallel(n_jobs=1)]: Done   5 out of   5 | elapsed: 17.0min remaining:    0.0s\n"
     ]
    },
    {
     "name": "stdout",
     "output_type": "stream",
     "text": [
      "[CV] ........... n_estimators=30, max_depth=8, score=0.727922 - 4.3min\n",
      "[CV] n_estimators=30, max_depth=9 ....................................\n"
     ]
    },
    {
     "name": "stderr",
     "output_type": "stream",
     "text": [
      "[Parallel(n_jobs=1)]: Done   6 out of   6 | elapsed: 21.3min remaining:    0.0s\n"
     ]
    },
    {
     "name": "stdout",
     "output_type": "stream",
     "text": [
      "[CV] ........... n_estimators=30, max_depth=9, score=0.729487 - 6.8min\n",
      "[CV] n_estimators=30, max_depth=9 ....................................\n"
     ]
    },
    {
     "name": "stderr",
     "output_type": "stream",
     "text": [
      "[Parallel(n_jobs=1)]: Done   7 out of   7 | elapsed: 28.1min remaining:    0.0s\n"
     ]
    },
    {
     "name": "stdout",
     "output_type": "stream",
     "text": [
      "[CV] ........... n_estimators=30, max_depth=9, score=0.729391 - 6.5min\n",
      "[CV] n_estimators=30, max_depth=9 ....................................\n"
     ]
    },
    {
     "name": "stderr",
     "output_type": "stream",
     "text": [
      "[Parallel(n_jobs=1)]: Done   8 out of   8 | elapsed: 34.6min remaining:    0.0s\n"
     ]
    },
    {
     "name": "stdout",
     "output_type": "stream",
     "text": [
      "[CV] ........... n_estimators=30, max_depth=9, score=0.730540 - 7.1min\n"
     ]
    },
    {
     "name": "stderr",
     "output_type": "stream",
     "text": [
      "[Parallel(n_jobs=1)]: Done   9 out of   9 | elapsed: 41.7min remaining:    0.0s\n",
      "[Parallel(n_jobs=1)]: Done   9 out of   9 | elapsed: 41.7min finished\n"
     ]
    },
    {
     "data": {
      "text/plain": [
       "GridSearchCV(cv=3, error_score='raise',\n",
       "       estimator=GradientBoostingRegressor(alpha=0.9, criterion='friedman_mse', init=None,\n",
       "             learning_rate=0.1, loss='ls', max_depth=3, max_features=None,\n",
       "             max_leaf_nodes=None, min_impurity_split=1e-07,\n",
       "             min_samples_leaf=1, min_samples_split=2,\n",
       "             min_weight_fraction_leaf=0.0, n_estimators=100,\n",
       "             presort='auto', random_state=None, subsample=1.0, verbose=0,\n",
       "             warm_start=False),\n",
       "       fit_params={}, iid=True, n_jobs=1,\n",
       "       param_grid={'n_estimators': [30], 'max_depth': [7, 8, 9]},\n",
       "       pre_dispatch='2*n_jobs', refit=True, scoring='r2', verbose=10)"
      ]
     },
     "execution_count": 38,
     "metadata": {},
     "output_type": "execute_result"
    }
   ],
   "source": [
    "# Running Gradient Boosted Trees\n",
    "# Search for optimal 'n_estimators' and 'max_depth'\n",
    "gbr = GradientBoostingRegressor()\n",
    "param_dict = {'n_estimators':[30],'max_depth':[7,8,9]}\n",
    "grid_gbr = GridSearchCV(gbr,param_grid=param_dict,verbose=10,scoring='r2',cv=3)\n",
    "grid_gbr.fit(train_x,train_y)"
   ]
  },
  {
   "cell_type": "code",
   "execution_count": 39,
   "metadata": {
    "collapsed": false
   },
   "outputs": [
    {
     "name": "stdout",
     "output_type": "stream",
     "text": [
      "GradientBoostingRegressor(alpha=0.9, criterion='friedman_mse', init=None,\n",
      "             learning_rate=0.1, loss='ls', max_depth=9, max_features=None,\n",
      "             max_leaf_nodes=None, min_impurity_split=1e-07,\n",
      "             min_samples_leaf=1, min_samples_split=2,\n",
      "             min_weight_fraction_leaf=0.0, n_estimators=30, presort='auto',\n",
      "             random_state=None, subsample=1.0, verbose=0, warm_start=False)\n",
      "0.729806221544\n"
     ]
    }
   ],
   "source": [
    "print grid_gbr.best_estimator_\n",
    "print grid_gbr.best_score_"
   ]
  },
  {
   "cell_type": "code",
   "execution_count": 40,
   "metadata": {
    "collapsed": false
   },
   "outputs": [
    {
     "name": "stdout",
     "output_type": "stream",
     "text": [
      "Fitting 3 folds for each of 1 candidates, totalling 3 fits\n",
      "[CV] n_estimators=150, max_depth=9 ...................................\n",
      "[CV] .......... n_estimators=150, max_depth=9, score=0.733582 -35.9min\n",
      "[CV] n_estimators=150, max_depth=9 ...................................\n"
     ]
    },
    {
     "name": "stderr",
     "output_type": "stream",
     "text": [
      "[Parallel(n_jobs=1)]: Done   1 out of   1 | elapsed: 35.9min remaining:    0.0s\n"
     ]
    },
    {
     "name": "stdout",
     "output_type": "stream",
     "text": [
      "[CV] .......... n_estimators=150, max_depth=9, score=0.733572 -35.6min\n",
      "[CV] n_estimators=150, max_depth=9 ...................................\n"
     ]
    },
    {
     "name": "stderr",
     "output_type": "stream",
     "text": [
      "[Parallel(n_jobs=1)]: Done   2 out of   2 | elapsed: 71.5min remaining:    0.0s\n"
     ]
    },
    {
     "name": "stdout",
     "output_type": "stream",
     "text": [
      "[CV] .......... n_estimators=150, max_depth=9, score=0.734474 -34.8min\n"
     ]
    },
    {
     "name": "stderr",
     "output_type": "stream",
     "text": [
      "[Parallel(n_jobs=1)]: Done   3 out of   3 | elapsed: 106.3min remaining:    0.0s\n",
      "[Parallel(n_jobs=1)]: Done   3 out of   3 | elapsed: 106.3min finished\n"
     ]
    },
    {
     "data": {
      "text/plain": [
       "GridSearchCV(cv=3, error_score='raise',\n",
       "       estimator=GradientBoostingRegressor(alpha=0.9, criterion='friedman_mse', init=None,\n",
       "             learning_rate=0.1, loss='ls', max_depth=3, max_features=None,\n",
       "             max_leaf_nodes=None, min_impurity_split=1e-07,\n",
       "             min_samples_leaf=1, min_samples_split=2,\n",
       "             min_weight_fraction_leaf=0.0, n_estimators=100,\n",
       "             presort='auto', random_state=None, subsample=1.0, verbose=0,\n",
       "             warm_start=False),\n",
       "       fit_params={}, iid=True, n_jobs=1,\n",
       "       param_grid={'n_estimators': [150], 'max_depth': [9]},\n",
       "       pre_dispatch='2*n_jobs', refit=True, scoring='r2', verbose=10)"
      ]
     },
     "execution_count": 40,
     "metadata": {},
     "output_type": "execute_result"
    }
   ],
   "source": [
    "# Running Gradient Boosted Trees\n",
    "# Search for optimal 'n_estimators' and 'max_depth'\n",
    "gbr = GradientBoostingRegressor()\n",
    "param_dict = {'n_estimators':[150],'max_depth':[9]}\n",
    "grid_gbr = GridSearchCV(gbr,param_grid=param_dict,verbose=10,scoring='r2',cv=3)\n",
    "grid_gbr.fit(train_x,train_y)"
   ]
  },
  {
   "cell_type": "code",
   "execution_count": 41,
   "metadata": {
    "collapsed": false
   },
   "outputs": [
    {
     "name": "stdout",
     "output_type": "stream",
     "text": [
      "GradientBoostingRegressor(alpha=0.9, criterion='friedman_mse', init=None,\n",
      "             learning_rate=0.1, loss='ls', max_depth=9, max_features=None,\n",
      "             max_leaf_nodes=None, min_impurity_split=1e-07,\n",
      "             min_samples_leaf=1, min_samples_split=2,\n",
      "             min_weight_fraction_leaf=0.0, n_estimators=150,\n",
      "             presort='auto', random_state=None, subsample=1.0, verbose=0,\n",
      "             warm_start=False)\n",
      "0.733876099872\n"
     ]
    }
   ],
   "source": [
    "print grid_gbr.best_estimator_\n",
    "print grid_gbr.best_score_"
   ]
  },
  {
   "cell_type": "code",
   "execution_count": null,
   "metadata": {
    "collapsed": true
   },
   "outputs": [],
   "source": []
  }
 ],
 "metadata": {
  "kernelspec": {
   "display_name": "Python 2",
   "language": "python",
   "name": "python2"
  },
  "language_info": {
   "codemirror_mode": {
    "name": "ipython",
    "version": 2
   },
   "file_extension": ".py",
   "mimetype": "text/x-python",
   "name": "python",
   "nbconvert_exporter": "python",
   "pygments_lexer": "ipython2",
   "version": "2.7.13"
  }
 },
 "nbformat": 4,
 "nbformat_minor": 0
}
